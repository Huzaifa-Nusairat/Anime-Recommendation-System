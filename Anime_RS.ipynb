{
 "cells": [
  {
   "cell_type": "markdown",
   "id": "0bcf71a3-113b-4844-92d8-89463da416ba",
   "metadata": {
    "jp-MarkdownHeadingCollapsed": true,
    "tags": []
   },
   "source": [
    "### Libraries"
   ]
  },
  {
   "cell_type": "code",
   "execution_count": 108,
   "id": "6dbf2118-c2cd-4ed9-9da1-9e0aba5682f1",
   "metadata": {},
   "outputs": [],
   "source": [
    "import pandas as pd\n",
    "import numpy as np\n",
    "import matplotlib.pyplot as plt\n",
    "import seaborn as sns\n",
    "import scipy as sc\n",
    "from sklearn.linear_model import LinearRegression\n",
    "from sklearn.preprocessing import MaxAbsScaler\n",
    "import category_encoders as ce\n",
    "from sklearn.neighbors import NearestNeighbors\n",
    "from sklearn.decomposition import PCA "
   ]
  },
  {
   "cell_type": "markdown",
   "id": "02938188-dba1-4d0b-9d1e-4bf138d50904",
   "metadata": {
    "jp-MarkdownHeadingCollapsed": true,
    "tags": []
   },
   "source": [
    "### Read Data"
   ]
  },
  {
   "cell_type": "code",
   "execution_count": 109,
   "id": "f4ab2659-c600-40e8-aa25-01b38627512b",
   "metadata": {},
   "outputs": [
    {
     "name": "stdout",
     "output_type": "stream",
     "text": [
      "Read Data from train.csv, anime.csv, rating_complete.csv and sample.csv is Done 😀\n",
      "The shape of Train:  (1515300, 6)\n",
      "The shape of Anime:  (17562, 35)\n",
      "The shape of Rating_Complete:  (57633278, 3)\n"
     ]
    }
   ],
   "source": [
    "path = '/home/huzaifa/Downloads/T_UAE training/ML2/Anime_Recommendation_System/Data/'\n",
    " \n",
    "try:\n",
    "    train_df = pd.read_csv(path+'train.csv')\n",
    "    anime = pd.read_csv(path+'anime.csv')\n",
    "    sub = pd.read_csv(path+'sample.csv')\n",
    "    print('Read Data from {} is Done \\U0001f600'.format('train.csv, anime.csv, and sample.csv'))\n",
    "    print('The shape of Train: ', train_df.shape)\n",
    "    print('The shape of Anime: ', anime.shape)\n",
    "except Exception:\n",
    "    print('Can\\'t read Data ..! \\U0001F923')"
   ]
  },
  {
   "cell_type": "code",
   "execution_count": 110,
   "id": "ff2d125d-e7cf-4685-8ff6-726d80b6ca8c",
   "metadata": {},
   "outputs": [
    {
     "name": "stdout",
     "output_type": "stream",
     "text": [
      "Train DF Data: \n"
     ]
    },
    {
     "data": {
      "text/html": [
       "<div>\n",
       "<style scoped>\n",
       "    .dataframe tbody tr th:only-of-type {\n",
       "        vertical-align: middle;\n",
       "    }\n",
       "\n",
       "    .dataframe tbody tr th {\n",
       "        vertical-align: top;\n",
       "    }\n",
       "\n",
       "    .dataframe thead th {\n",
       "        text-align: right;\n",
       "    }\n",
       "</style>\n",
       "<table border=\"1\" class=\"dataframe\">\n",
       "  <thead>\n",
       "    <tr style=\"text-align: right;\">\n",
       "      <th></th>\n",
       "      <th>Unnamed: 0</th>\n",
       "      <th>user_id</th>\n",
       "      <th>anime_id</th>\n",
       "      <th>rating</th>\n",
       "      <th>watching_status</th>\n",
       "      <th>watched_episodes</th>\n",
       "    </tr>\n",
       "  </thead>\n",
       "  <tbody>\n",
       "    <tr>\n",
       "      <th>0</th>\n",
       "      <td>0</td>\n",
       "      <td>20807</td>\n",
       "      <td>4282</td>\n",
       "      <td>10</td>\n",
       "      <td>2</td>\n",
       "      <td>1</td>\n",
       "    </tr>\n",
       "    <tr>\n",
       "      <th>1</th>\n",
       "      <td>1</td>\n",
       "      <td>20807</td>\n",
       "      <td>5665</td>\n",
       "      <td>0</td>\n",
       "      <td>6</td>\n",
       "      <td>0</td>\n",
       "    </tr>\n",
       "    <tr>\n",
       "      <th>2</th>\n",
       "      <td>2</td>\n",
       "      <td>20807</td>\n",
       "      <td>36127</td>\n",
       "      <td>0</td>\n",
       "      <td>6</td>\n",
       "      <td>0</td>\n",
       "    </tr>\n",
       "    <tr>\n",
       "      <th>3</th>\n",
       "      <td>3</td>\n",
       "      <td>20807</td>\n",
       "      <td>38163</td>\n",
       "      <td>0</td>\n",
       "      <td>6</td>\n",
       "      <td>0</td>\n",
       "    </tr>\n",
       "    <tr>\n",
       "      <th>4</th>\n",
       "      <td>4</td>\n",
       "      <td>20807</td>\n",
       "      <td>1284</td>\n",
       "      <td>0</td>\n",
       "      <td>6</td>\n",
       "      <td>0</td>\n",
       "    </tr>\n",
       "  </tbody>\n",
       "</table>\n",
       "</div>"
      ],
      "text/plain": [
       "   Unnamed: 0  user_id  anime_id  rating  watching_status  watched_episodes\n",
       "0           0    20807      4282      10                2                 1\n",
       "1           1    20807      5665       0                6                 0\n",
       "2           2    20807     36127       0                6                 0\n",
       "3           3    20807     38163       0                6                 0\n",
       "4           4    20807      1284       0                6                 0"
      ]
     },
     "metadata": {},
     "output_type": "display_data"
    },
    {
     "name": "stdout",
     "output_type": "stream",
     "text": [
      "Anime Data: \n"
     ]
    },
    {
     "data": {
      "text/html": [
       "<div>\n",
       "<style scoped>\n",
       "    .dataframe tbody tr th:only-of-type {\n",
       "        vertical-align: middle;\n",
       "    }\n",
       "\n",
       "    .dataframe tbody tr th {\n",
       "        vertical-align: top;\n",
       "    }\n",
       "\n",
       "    .dataframe thead th {\n",
       "        text-align: right;\n",
       "    }\n",
       "</style>\n",
       "<table border=\"1\" class=\"dataframe\">\n",
       "  <thead>\n",
       "    <tr style=\"text-align: right;\">\n",
       "      <th></th>\n",
       "      <th>MAL_ID</th>\n",
       "      <th>Name</th>\n",
       "      <th>Score</th>\n",
       "      <th>Genres</th>\n",
       "      <th>English name</th>\n",
       "      <th>Japanese name</th>\n",
       "      <th>Type</th>\n",
       "      <th>Episodes</th>\n",
       "      <th>Aired</th>\n",
       "      <th>Premiered</th>\n",
       "      <th>...</th>\n",
       "      <th>Score-10</th>\n",
       "      <th>Score-9</th>\n",
       "      <th>Score-8</th>\n",
       "      <th>Score-7</th>\n",
       "      <th>Score-6</th>\n",
       "      <th>Score-5</th>\n",
       "      <th>Score-4</th>\n",
       "      <th>Score-3</th>\n",
       "      <th>Score-2</th>\n",
       "      <th>Score-1</th>\n",
       "    </tr>\n",
       "  </thead>\n",
       "  <tbody>\n",
       "    <tr>\n",
       "      <th>0</th>\n",
       "      <td>1</td>\n",
       "      <td>Cowboy Bebop</td>\n",
       "      <td>8.78</td>\n",
       "      <td>Action, Adventure, Comedy, Drama, Sci-Fi, Space</td>\n",
       "      <td>Cowboy Bebop</td>\n",
       "      <td>カウボーイビバップ</td>\n",
       "      <td>TV</td>\n",
       "      <td>26</td>\n",
       "      <td>Apr 3, 1998 to Apr 24, 1999</td>\n",
       "      <td>Spring 1998</td>\n",
       "      <td>...</td>\n",
       "      <td>229170.0</td>\n",
       "      <td>182126.0</td>\n",
       "      <td>131625.0</td>\n",
       "      <td>62330.0</td>\n",
       "      <td>20688.0</td>\n",
       "      <td>8904.0</td>\n",
       "      <td>3184.0</td>\n",
       "      <td>1357.0</td>\n",
       "      <td>741.0</td>\n",
       "      <td>1580.0</td>\n",
       "    </tr>\n",
       "    <tr>\n",
       "      <th>1</th>\n",
       "      <td>5</td>\n",
       "      <td>Cowboy Bebop: Tengoku no Tobira</td>\n",
       "      <td>8.39</td>\n",
       "      <td>Action, Drama, Mystery, Sci-Fi, Space</td>\n",
       "      <td>Cowboy Bebop:The Movie</td>\n",
       "      <td>カウボーイビバップ 天国の扉</td>\n",
       "      <td>Movie</td>\n",
       "      <td>1</td>\n",
       "      <td>Sep 1, 2001</td>\n",
       "      <td>Unknown</td>\n",
       "      <td>...</td>\n",
       "      <td>30043.0</td>\n",
       "      <td>49201.0</td>\n",
       "      <td>49505.0</td>\n",
       "      <td>22632.0</td>\n",
       "      <td>5805.0</td>\n",
       "      <td>1877.0</td>\n",
       "      <td>577.0</td>\n",
       "      <td>221.0</td>\n",
       "      <td>109.0</td>\n",
       "      <td>379.0</td>\n",
       "    </tr>\n",
       "    <tr>\n",
       "      <th>2</th>\n",
       "      <td>6</td>\n",
       "      <td>Trigun</td>\n",
       "      <td>8.24</td>\n",
       "      <td>Action, Sci-Fi, Adventure, Comedy, Drama, Shounen</td>\n",
       "      <td>Trigun</td>\n",
       "      <td>トライガン</td>\n",
       "      <td>TV</td>\n",
       "      <td>26</td>\n",
       "      <td>Apr 1, 1998 to Sep 30, 1998</td>\n",
       "      <td>Spring 1998</td>\n",
       "      <td>...</td>\n",
       "      <td>50229.0</td>\n",
       "      <td>75651.0</td>\n",
       "      <td>86142.0</td>\n",
       "      <td>49432.0</td>\n",
       "      <td>15376.0</td>\n",
       "      <td>5838.0</td>\n",
       "      <td>1965.0</td>\n",
       "      <td>664.0</td>\n",
       "      <td>316.0</td>\n",
       "      <td>533.0</td>\n",
       "    </tr>\n",
       "    <tr>\n",
       "      <th>3</th>\n",
       "      <td>7</td>\n",
       "      <td>Witch Hunter Robin</td>\n",
       "      <td>7.27</td>\n",
       "      <td>Action, Mystery, Police, Supernatural, Drama, ...</td>\n",
       "      <td>Witch Hunter Robin</td>\n",
       "      <td>Witch Hunter ROBIN (ウイッチハンターロビン)</td>\n",
       "      <td>TV</td>\n",
       "      <td>26</td>\n",
       "      <td>Jul 2, 2002 to Dec 24, 2002</td>\n",
       "      <td>Summer 2002</td>\n",
       "      <td>...</td>\n",
       "      <td>2182.0</td>\n",
       "      <td>4806.0</td>\n",
       "      <td>10128.0</td>\n",
       "      <td>11618.0</td>\n",
       "      <td>5709.0</td>\n",
       "      <td>2920.0</td>\n",
       "      <td>1083.0</td>\n",
       "      <td>353.0</td>\n",
       "      <td>164.0</td>\n",
       "      <td>131.0</td>\n",
       "    </tr>\n",
       "    <tr>\n",
       "      <th>4</th>\n",
       "      <td>8</td>\n",
       "      <td>Bouken Ou Beet</td>\n",
       "      <td>6.98</td>\n",
       "      <td>Adventure, Fantasy, Shounen, Supernatural</td>\n",
       "      <td>Beet the Vandel Buster</td>\n",
       "      <td>冒険王ビィト</td>\n",
       "      <td>TV</td>\n",
       "      <td>52</td>\n",
       "      <td>Sep 30, 2004 to Sep 29, 2005</td>\n",
       "      <td>Fall 2004</td>\n",
       "      <td>...</td>\n",
       "      <td>312.0</td>\n",
       "      <td>529.0</td>\n",
       "      <td>1242.0</td>\n",
       "      <td>1713.0</td>\n",
       "      <td>1068.0</td>\n",
       "      <td>634.0</td>\n",
       "      <td>265.0</td>\n",
       "      <td>83.0</td>\n",
       "      <td>50.0</td>\n",
       "      <td>27.0</td>\n",
       "    </tr>\n",
       "  </tbody>\n",
       "</table>\n",
       "<p>5 rows × 35 columns</p>\n",
       "</div>"
      ],
      "text/plain": [
       "   MAL_ID                             Name Score  \\\n",
       "0       1                     Cowboy Bebop  8.78   \n",
       "1       5  Cowboy Bebop: Tengoku no Tobira  8.39   \n",
       "2       6                           Trigun  8.24   \n",
       "3       7               Witch Hunter Robin  7.27   \n",
       "4       8                   Bouken Ou Beet  6.98   \n",
       "\n",
       "                                              Genres            English name  \\\n",
       "0    Action, Adventure, Comedy, Drama, Sci-Fi, Space            Cowboy Bebop   \n",
       "1              Action, Drama, Mystery, Sci-Fi, Space  Cowboy Bebop:The Movie   \n",
       "2  Action, Sci-Fi, Adventure, Comedy, Drama, Shounen                  Trigun   \n",
       "3  Action, Mystery, Police, Supernatural, Drama, ...      Witch Hunter Robin   \n",
       "4          Adventure, Fantasy, Shounen, Supernatural  Beet the Vandel Buster   \n",
       "\n",
       "                      Japanese name   Type Episodes  \\\n",
       "0                         カウボーイビバップ     TV       26   \n",
       "1                    カウボーイビバップ 天国の扉  Movie        1   \n",
       "2                             トライガン     TV       26   \n",
       "3  Witch Hunter ROBIN (ウイッチハンターロビン)     TV       26   \n",
       "4                            冒険王ビィト     TV       52   \n",
       "\n",
       "                          Aired    Premiered  ...  Score-10   Score-9  \\\n",
       "0   Apr 3, 1998 to Apr 24, 1999  Spring 1998  ...  229170.0  182126.0   \n",
       "1                   Sep 1, 2001      Unknown  ...   30043.0   49201.0   \n",
       "2   Apr 1, 1998 to Sep 30, 1998  Spring 1998  ...   50229.0   75651.0   \n",
       "3   Jul 2, 2002 to Dec 24, 2002  Summer 2002  ...    2182.0    4806.0   \n",
       "4  Sep 30, 2004 to Sep 29, 2005    Fall 2004  ...     312.0     529.0   \n",
       "\n",
       "    Score-8  Score-7  Score-6 Score-5 Score-4  Score-3  Score-2  Score-1  \n",
       "0  131625.0  62330.0  20688.0  8904.0  3184.0   1357.0    741.0   1580.0  \n",
       "1   49505.0  22632.0   5805.0  1877.0   577.0    221.0    109.0    379.0  \n",
       "2   86142.0  49432.0  15376.0  5838.0  1965.0    664.0    316.0    533.0  \n",
       "3   10128.0  11618.0   5709.0  2920.0  1083.0    353.0    164.0    131.0  \n",
       "4    1242.0   1713.0   1068.0   634.0   265.0     83.0     50.0     27.0  \n",
       "\n",
       "[5 rows x 35 columns]"
      ]
     },
     "metadata": {},
     "output_type": "display_data"
    },
    {
     "name": "stdout",
     "output_type": "stream",
     "text": [
      "Rating_Complete Data: \n"
     ]
    },
    {
     "data": {
      "text/html": [
       "<div>\n",
       "<style scoped>\n",
       "    .dataframe tbody tr th:only-of-type {\n",
       "        vertical-align: middle;\n",
       "    }\n",
       "\n",
       "    .dataframe tbody tr th {\n",
       "        vertical-align: top;\n",
       "    }\n",
       "\n",
       "    .dataframe thead th {\n",
       "        text-align: right;\n",
       "    }\n",
       "</style>\n",
       "<table border=\"1\" class=\"dataframe\">\n",
       "  <thead>\n",
       "    <tr style=\"text-align: right;\">\n",
       "      <th></th>\n",
       "      <th>user_id</th>\n",
       "      <th>anime_id</th>\n",
       "      <th>rating</th>\n",
       "    </tr>\n",
       "  </thead>\n",
       "  <tbody>\n",
       "    <tr>\n",
       "      <th>0</th>\n",
       "      <td>0</td>\n",
       "      <td>430</td>\n",
       "      <td>9</td>\n",
       "    </tr>\n",
       "    <tr>\n",
       "      <th>1</th>\n",
       "      <td>0</td>\n",
       "      <td>1004</td>\n",
       "      <td>5</td>\n",
       "    </tr>\n",
       "    <tr>\n",
       "      <th>2</th>\n",
       "      <td>0</td>\n",
       "      <td>3010</td>\n",
       "      <td>7</td>\n",
       "    </tr>\n",
       "    <tr>\n",
       "      <th>3</th>\n",
       "      <td>0</td>\n",
       "      <td>570</td>\n",
       "      <td>7</td>\n",
       "    </tr>\n",
       "    <tr>\n",
       "      <th>4</th>\n",
       "      <td>0</td>\n",
       "      <td>2762</td>\n",
       "      <td>9</td>\n",
       "    </tr>\n",
       "  </tbody>\n",
       "</table>\n",
       "</div>"
      ],
      "text/plain": [
       "   user_id  anime_id  rating\n",
       "0        0       430       9\n",
       "1        0      1004       5\n",
       "2        0      3010       7\n",
       "3        0       570       7\n",
       "4        0      2762       9"
      ]
     },
     "metadata": {},
     "output_type": "display_data"
    }
   ],
   "source": [
    "print('Train DF Data: ')\n",
    "display(train_df.head())\n",
    "print('Anime Data: ')\n",
    "display(anime.head())\n",
    "print('Rating_Complete Data: ')\n",
    "display(r_comp.head())"
   ]
  },
  {
   "cell_type": "markdown",
   "id": "22f1ed95-72ba-4772-9744-dd9074561903",
   "metadata": {
    "jp-MarkdownHeadingCollapsed": true,
    "tags": []
   },
   "source": [
    "### Data Analysis"
   ]
  },
  {
   "cell_type": "code",
   "execution_count": 111,
   "id": "a8169f67-8d47-4c1b-bf05-772a0f1bfbce",
   "metadata": {},
   "outputs": [
    {
     "data": {
      "text/plain": [
       "Index(['MAL_ID', 'Name', 'Score', 'Genres', 'English name', 'Japanese name',\n",
       "       'Type', 'Episodes', 'Aired', 'Premiered', 'Producers', 'Licensors',\n",
       "       'Studios', 'Source', 'Duration', 'Rating', 'Ranked', 'Popularity',\n",
       "       'Members', 'Favorites', 'Watching', 'Completed', 'On-Hold', 'Dropped',\n",
       "       'Plan to Watch', 'Score-10', 'Score-9', 'Score-8', 'Score-7', 'Score-6',\n",
       "       'Score-5', 'Score-4', 'Score-3', 'Score-2', 'Score-1'],\n",
       "      dtype='object')"
      ]
     },
     "execution_count": 111,
     "metadata": {},
     "output_type": "execute_result"
    }
   ],
   "source": [
    "anime.columns"
   ]
  },
  {
   "cell_type": "code",
   "execution_count": 112,
   "id": "b3ec760c-d2e7-4a08-9d89-ab23fe3fb7a6",
   "metadata": {},
   "outputs": [
    {
     "data": {
      "text/plain": [
       "15898"
      ]
     },
     "execution_count": 112,
     "metadata": {},
     "output_type": "execute_result"
    }
   ],
   "source": [
    "train_df['anime_id'].nunique()"
   ]
  },
  {
   "cell_type": "code",
   "execution_count": 113,
   "id": "18d8d6d5-1727-4201-8f0c-e99046ebbbcc",
   "metadata": {},
   "outputs": [
    {
     "data": {
      "text/plain": [
       "15153"
      ]
     },
     "execution_count": 113,
     "metadata": {},
     "output_type": "execute_result"
    }
   ],
   "source": [
    "train_df['user_id'].nunique()"
   ]
  },
  {
   "cell_type": "code",
   "execution_count": 114,
   "id": "8f4a31de-5572-457a-90e8-ba3abdf94ecc",
   "metadata": {},
   "outputs": [],
   "source": [
    "# fig, ax = plt.subplots(5,2, figsize=(15,17))\n",
    "# for count1, value in enumerate(['Age', 'Region_Code', 'Policy_Sales_Channel', 'Annual_Premium', 'Vintage']):\n",
    "#     # visulaize box plot\n",
    "#     sns.boxplot(data=data, x=data[value], ax=ax[count1, 0])\n",
    "#     ax[count1, 0].set_ylabel(str(value))\n",
    "#     ax[count1, 0].grid()\n",
    "#     # visulaize histogram plot\n",
    "#     bins = len(data[value].unique())//2\n",
    "#     sns.histplot(data=data, x=data[value], bins=20, kde=True, ax=ax[count1, 1])\n",
    "# plt.savefig('Images/Numerical_Features.jpeg')"
   ]
  },
  {
   "cell_type": "code",
   "execution_count": 115,
   "id": "4f502de7-5b33-411e-a869-27fef5cddbc8",
   "metadata": {},
   "outputs": [
    {
     "data": {
      "image/png": "[encoded data removed]",
      "text/plain": [
       "<Figure size 432x288 with 1 Axes>"
      ]
     },
     "metadata": {
      "needs_background": "light"
     },
     "output_type": "display_data"
    }
   ],
   "source": [
    "plt.title('Anime_ID VS User_ID')\n",
    "plt.ylabel('Count')\n",
    "sns.barplot(x=['Anime ID', 'User ID'], y=[15898, 15153])\n",
    "plt.savefig('Images/AnimevsUser.jpeg')"
   ]
  },
  {
   "cell_type": "code",
   "execution_count": 116,
   "id": "299cf3bd-3bd5-482b-9a43-dd654dc0894d",
   "metadata": {},
   "outputs": [
    {
     "data": {
      "text/html": [
       "<div>\n",
       "<style scoped>\n",
       "    .dataframe tbody tr th:only-of-type {\n",
       "        vertical-align: middle;\n",
       "    }\n",
       "\n",
       "    .dataframe tbody tr th {\n",
       "        vertical-align: top;\n",
       "    }\n",
       "\n",
       "    .dataframe thead th {\n",
       "        text-align: right;\n",
       "    }\n",
       "</style>\n",
       "<table border=\"1\" class=\"dataframe\">\n",
       "  <thead>\n",
       "    <tr style=\"text-align: right;\">\n",
       "      <th></th>\n",
       "      <th>anime_id</th>\n",
       "    </tr>\n",
       "    <tr>\n",
       "      <th>user_id</th>\n",
       "      <th></th>\n",
       "    </tr>\n",
       "  </thead>\n",
       "  <tbody>\n",
       "    <tr>\n",
       "      <th>17</th>\n",
       "      <td>100</td>\n",
       "    </tr>\n",
       "    <tr>\n",
       "      <th>42</th>\n",
       "      <td>100</td>\n",
       "    </tr>\n",
       "    <tr>\n",
       "      <th>60</th>\n",
       "      <td>100</td>\n",
       "    </tr>\n",
       "    <tr>\n",
       "      <th>111</th>\n",
       "      <td>100</td>\n",
       "    </tr>\n",
       "    <tr>\n",
       "      <th>121</th>\n",
       "      <td>100</td>\n",
       "    </tr>\n",
       "  </tbody>\n",
       "</table>\n",
       "</div>"
      ],
      "text/plain": [
       "         anime_id\n",
       "user_id          \n",
       "17            100\n",
       "42            100\n",
       "60            100\n",
       "111           100\n",
       "121           100"
      ]
     },
     "execution_count": 116,
     "metadata": {},
     "output_type": "execute_result"
    }
   ],
   "source": [
    "temp = train_df[['user_id', 'anime_id']].groupby(['user_id']).count()\n",
    "temp.head()"
   ]
  },
  {
   "cell_type": "code",
   "execution_count": 117,
   "id": "efc0b499-57d8-46e9-bbb6-85f539e82116",
   "metadata": {},
   "outputs": [],
   "source": [
    "train_df.rename(columns={'anime_id': 'MAL_ID'}, inplace=True)"
   ]
  },
  {
   "cell_type": "code",
   "execution_count": 118,
   "id": "a40a2175-fbca-4afb-b3fb-aa17d57d2486",
   "metadata": {},
   "outputs": [
    {
     "data": {
      "text/html": [
       "<div>\n",
       "<style scoped>\n",
       "    .dataframe tbody tr th:only-of-type {\n",
       "        vertical-align: middle;\n",
       "    }\n",
       "\n",
       "    .dataframe tbody tr th {\n",
       "        vertical-align: top;\n",
       "    }\n",
       "\n",
       "    .dataframe thead th {\n",
       "        text-align: right;\n",
       "    }\n",
       "</style>\n",
       "<table border=\"1\" class=\"dataframe\">\n",
       "  <thead>\n",
       "    <tr style=\"text-align: right;\">\n",
       "      <th></th>\n",
       "      <th>Unnamed: 0</th>\n",
       "      <th>user_id</th>\n",
       "      <th>MAL_ID</th>\n",
       "      <th>rating</th>\n",
       "      <th>watching_status</th>\n",
       "      <th>watched_episodes</th>\n",
       "    </tr>\n",
       "  </thead>\n",
       "  <tbody>\n",
       "    <tr>\n",
       "      <th>407</th>\n",
       "      <td>407</td>\n",
       "      <td>297931</td>\n",
       "      <td>17729</td>\n",
       "      <td>0</td>\n",
       "      <td>3</td>\n",
       "      <td>0</td>\n",
       "    </tr>\n",
       "    <tr>\n",
       "      <th>422</th>\n",
       "      <td>422</td>\n",
       "      <td>297931</td>\n",
       "      <td>4975</td>\n",
       "      <td>0</td>\n",
       "      <td>3</td>\n",
       "      <td>0</td>\n",
       "    </tr>\n",
       "    <tr>\n",
       "      <th>439</th>\n",
       "      <td>439</td>\n",
       "      <td>297931</td>\n",
       "      <td>34382</td>\n",
       "      <td>0</td>\n",
       "      <td>3</td>\n",
       "      <td>0</td>\n",
       "    </tr>\n",
       "    <tr>\n",
       "      <th>449</th>\n",
       "      <td>449</td>\n",
       "      <td>297931</td>\n",
       "      <td>2780</td>\n",
       "      <td>0</td>\n",
       "      <td>3</td>\n",
       "      <td>0</td>\n",
       "    </tr>\n",
       "    <tr>\n",
       "      <th>452</th>\n",
       "      <td>452</td>\n",
       "      <td>297931</td>\n",
       "      <td>33834</td>\n",
       "      <td>0</td>\n",
       "      <td>3</td>\n",
       "      <td>0</td>\n",
       "    </tr>\n",
       "    <tr>\n",
       "      <th>...</th>\n",
       "      <td>...</td>\n",
       "      <td>...</td>\n",
       "      <td>...</td>\n",
       "      <td>...</td>\n",
       "      <td>...</td>\n",
       "      <td>...</td>\n",
       "    </tr>\n",
       "    <tr>\n",
       "      <th>1515246</th>\n",
       "      <td>1515246</td>\n",
       "      <td>256792</td>\n",
       "      <td>1288</td>\n",
       "      <td>0</td>\n",
       "      <td>3</td>\n",
       "      <td>2</td>\n",
       "    </tr>\n",
       "    <tr>\n",
       "      <th>1515255</th>\n",
       "      <td>1515255</td>\n",
       "      <td>256792</td>\n",
       "      <td>19367</td>\n",
       "      <td>0</td>\n",
       "      <td>3</td>\n",
       "      <td>0</td>\n",
       "    </tr>\n",
       "    <tr>\n",
       "      <th>1515269</th>\n",
       "      <td>1515269</td>\n",
       "      <td>256792</td>\n",
       "      <td>3613</td>\n",
       "      <td>0</td>\n",
       "      <td>3</td>\n",
       "      <td>5</td>\n",
       "    </tr>\n",
       "    <tr>\n",
       "      <th>1515279</th>\n",
       "      <td>1515279</td>\n",
       "      <td>256792</td>\n",
       "      <td>23755</td>\n",
       "      <td>0</td>\n",
       "      <td>3</td>\n",
       "      <td>10</td>\n",
       "    </tr>\n",
       "    <tr>\n",
       "      <th>1515292</th>\n",
       "      <td>1515292</td>\n",
       "      <td>256792</td>\n",
       "      <td>22297</td>\n",
       "      <td>0</td>\n",
       "      <td>3</td>\n",
       "      <td>5</td>\n",
       "    </tr>\n",
       "  </tbody>\n",
       "</table>\n",
       "<p>49724 rows × 6 columns</p>\n",
       "</div>"
      ],
      "text/plain": [
       "         Unnamed: 0  user_id  MAL_ID  rating  watching_status  \\\n",
       "407             407   297931   17729       0                3   \n",
       "422             422   297931    4975       0                3   \n",
       "439             439   297931   34382       0                3   \n",
       "449             449   297931    2780       0                3   \n",
       "452             452   297931   33834       0                3   \n",
       "...             ...      ...     ...     ...              ...   \n",
       "1515246     1515246   256792    1288       0                3   \n",
       "1515255     1515255   256792   19367       0                3   \n",
       "1515269     1515269   256792    3613       0                3   \n",
       "1515279     1515279   256792   23755       0                3   \n",
       "1515292     1515292   256792   22297       0                3   \n",
       "\n",
       "         watched_episodes  \n",
       "407                     0  \n",
       "422                     0  \n",
       "439                     0  \n",
       "449                     0  \n",
       "452                     0  \n",
       "...                   ...  \n",
       "1515246                 2  \n",
       "1515255                 0  \n",
       "1515269                 5  \n",
       "1515279                10  \n",
       "1515292                 5  \n",
       "\n",
       "[49724 rows x 6 columns]"
      ]
     },
     "execution_count": 118,
     "metadata": {},
     "output_type": "execute_result"
    }
   ],
   "source": [
    "train_df[train_df['watching_status']== 3]"
   ]
  },
  {
   "cell_type": "code",
   "execution_count": 119,
   "id": "680ddb13-6c49-498e-b914-3beb36eaafdb",
   "metadata": {},
   "outputs": [
    {
     "data": {
      "text/html": [
       "<div>\n",
       "<style scoped>\n",
       "    .dataframe tbody tr th:only-of-type {\n",
       "        vertical-align: middle;\n",
       "    }\n",
       "\n",
       "    .dataframe tbody tr th {\n",
       "        vertical-align: top;\n",
       "    }\n",
       "\n",
       "    .dataframe thead th {\n",
       "        text-align: right;\n",
       "    }\n",
       "</style>\n",
       "<table border=\"1\" class=\"dataframe\">\n",
       "  <thead>\n",
       "    <tr style=\"text-align: right;\">\n",
       "      <th></th>\n",
       "      <th>watching_status</th>\n",
       "    </tr>\n",
       "    <tr>\n",
       "      <th>user_id</th>\n",
       "      <th></th>\n",
       "    </tr>\n",
       "  </thead>\n",
       "  <tbody>\n",
       "    <tr>\n",
       "      <th>17</th>\n",
       "      <td>1</td>\n",
       "    </tr>\n",
       "    <tr>\n",
       "      <th>42</th>\n",
       "      <td>1</td>\n",
       "    </tr>\n",
       "    <tr>\n",
       "      <th>60</th>\n",
       "      <td>2</td>\n",
       "    </tr>\n",
       "    <tr>\n",
       "      <th>111</th>\n",
       "      <td>1</td>\n",
       "    </tr>\n",
       "    <tr>\n",
       "      <th>121</th>\n",
       "      <td>2</td>\n",
       "    </tr>\n",
       "    <tr>\n",
       "      <th>...</th>\n",
       "      <td>...</td>\n",
       "    </tr>\n",
       "    <tr>\n",
       "      <th>353292</th>\n",
       "      <td>3</td>\n",
       "    </tr>\n",
       "    <tr>\n",
       "      <th>353302</th>\n",
       "      <td>8</td>\n",
       "    </tr>\n",
       "    <tr>\n",
       "      <th>353311</th>\n",
       "      <td>6</td>\n",
       "    </tr>\n",
       "    <tr>\n",
       "      <th>353326</th>\n",
       "      <td>19</td>\n",
       "    </tr>\n",
       "    <tr>\n",
       "      <th>353395</th>\n",
       "      <td>6</td>\n",
       "    </tr>\n",
       "  </tbody>\n",
       "</table>\n",
       "<p>9143 rows × 1 columns</p>\n",
       "</div>"
      ],
      "text/plain": [
       "         watching_status\n",
       "user_id                 \n",
       "17                     1\n",
       "42                     1\n",
       "60                     2\n",
       "111                    1\n",
       "121                    2\n",
       "...                  ...\n",
       "353292                 3\n",
       "353302                 8\n",
       "353311                 6\n",
       "353326                19\n",
       "353395                 6\n",
       "\n",
       "[9143 rows x 1 columns]"
      ]
     },
     "execution_count": 119,
     "metadata": {},
     "output_type": "execute_result"
    }
   ],
   "source": [
    "tep = train_df[train_df['watching_status']==3][['user_id', 'watching_status']]\n",
    "temp = tep.groupby(['user_id']).count()\n",
    "temp"
   ]
  },
  {
   "cell_type": "code",
   "execution_count": 120,
   "id": "5779bb6e-476b-4f81-bde3-9a7b15e72727",
   "metadata": {},
   "outputs": [
    {
     "data": {
      "text/plain": [
       "Unnamed: 0          0\n",
       "user_id             0\n",
       "MAL_ID              0\n",
       "rating              0\n",
       "watching_status     0\n",
       "watched_episodes    0\n",
       "dtype: int64"
      ]
     },
     "execution_count": 120,
     "metadata": {},
     "output_type": "execute_result"
    }
   ],
   "source": [
    "train_df.isnull().sum()"
   ]
  },
  {
   "cell_type": "code",
   "execution_count": 121,
   "id": "0a887f9c-67cd-4606-8d93-b1f729ae1a80",
   "metadata": {},
   "outputs": [
    {
     "name": "stdout",
     "output_type": "stream",
     "text": [
      "Describe Train DF:\n"
     ]
    },
    {
     "data": {
      "text/html": [
       "<div>\n",
       "<style scoped>\n",
       "    .dataframe tbody tr th:only-of-type {\n",
       "        vertical-align: middle;\n",
       "    }\n",
       "\n",
       "    .dataframe tbody tr th {\n",
       "        vertical-align: top;\n",
       "    }\n",
       "\n",
       "    .dataframe thead th {\n",
       "        text-align: right;\n",
       "    }\n",
       "</style>\n",
       "<table border=\"1\" class=\"dataframe\">\n",
       "  <thead>\n",
       "    <tr style=\"text-align: right;\">\n",
       "      <th></th>\n",
       "      <th>count</th>\n",
       "      <th>mean</th>\n",
       "      <th>std</th>\n",
       "      <th>min</th>\n",
       "      <th>25%</th>\n",
       "      <th>50%</th>\n",
       "      <th>75%</th>\n",
       "      <th>max</th>\n",
       "    </tr>\n",
       "  </thead>\n",
       "  <tbody>\n",
       "    <tr>\n",
       "      <th>Unnamed: 0</th>\n",
       "      <td>1515300.0</td>\n",
       "      <td>757649.500000</td>\n",
       "      <td>437429.575790</td>\n",
       "      <td>0.0</td>\n",
       "      <td>378824.75</td>\n",
       "      <td>757649.5</td>\n",
       "      <td>1136474.25</td>\n",
       "      <td>1515299.0</td>\n",
       "    </tr>\n",
       "    <tr>\n",
       "      <th>user_id</th>\n",
       "      <td>1515300.0</td>\n",
       "      <td>176814.425592</td>\n",
       "      <td>101875.805875</td>\n",
       "      <td>17.0</td>\n",
       "      <td>88274.00</td>\n",
       "      <td>176377.0</td>\n",
       "      <td>265817.00</td>\n",
       "      <td>353395.0</td>\n",
       "    </tr>\n",
       "    <tr>\n",
       "      <th>MAL_ID</th>\n",
       "      <td>1515300.0</td>\n",
       "      <td>17219.883488</td>\n",
       "      <td>13956.074686</td>\n",
       "      <td>1.0</td>\n",
       "      <td>3655.00</td>\n",
       "      <td>13759.0</td>\n",
       "      <td>31706.00</td>\n",
       "      <td>48492.0</td>\n",
       "    </tr>\n",
       "    <tr>\n",
       "      <th>rating</th>\n",
       "      <td>1515300.0</td>\n",
       "      <td>3.907696</td>\n",
       "      <td>3.793444</td>\n",
       "      <td>0.0</td>\n",
       "      <td>0.00</td>\n",
       "      <td>5.0</td>\n",
       "      <td>7.00</td>\n",
       "      <td>10.0</td>\n",
       "    </tr>\n",
       "    <tr>\n",
       "      <th>watching_status</th>\n",
       "      <td>1515300.0</td>\n",
       "      <td>3.185147</td>\n",
       "      <td>1.853994</td>\n",
       "      <td>0.0</td>\n",
       "      <td>2.00</td>\n",
       "      <td>2.0</td>\n",
       "      <td>6.00</td>\n",
       "      <td>6.0</td>\n",
       "    </tr>\n",
       "    <tr>\n",
       "      <th>watched_episodes</th>\n",
       "      <td>1515300.0</td>\n",
       "      <td>8.952423</td>\n",
       "      <td>39.662433</td>\n",
       "      <td>0.0</td>\n",
       "      <td>0.00</td>\n",
       "      <td>1.0</td>\n",
       "      <td>12.00</td>\n",
       "      <td>12799.0</td>\n",
       "    </tr>\n",
       "  </tbody>\n",
       "</table>\n",
       "</div>"
      ],
      "text/plain": [
       "                      count           mean            std   min        25%  \\\n",
       "Unnamed: 0        1515300.0  757649.500000  437429.575790   0.0  378824.75   \n",
       "user_id           1515300.0  176814.425592  101875.805875  17.0   88274.00   \n",
       "MAL_ID            1515300.0   17219.883488   13956.074686   1.0    3655.00   \n",
       "rating            1515300.0       3.907696       3.793444   0.0       0.00   \n",
       "watching_status   1515300.0       3.185147       1.853994   0.0       2.00   \n",
       "watched_episodes  1515300.0       8.952423      39.662433   0.0       0.00   \n",
       "\n",
       "                       50%         75%        max  \n",
       "Unnamed: 0        757649.5  1136474.25  1515299.0  \n",
       "user_id           176377.0   265817.00   353395.0  \n",
       "MAL_ID             13759.0    31706.00    48492.0  \n",
       "rating                 5.0        7.00       10.0  \n",
       "watching_status        2.0        6.00        6.0  \n",
       "watched_episodes       1.0       12.00    12799.0  "
      ]
     },
     "execution_count": 121,
     "metadata": {},
     "output_type": "execute_result"
    }
   ],
   "source": [
    "print('Describe Train DF:')\n",
    "train_df.describe().T"
   ]
  },
  {
   "cell_type": "code",
   "execution_count": 122,
   "id": "0ffc0767-7ec4-4688-8ede-1eacf62ccfd2",
   "metadata": {},
   "outputs": [
    {
     "data": {
      "text/plain": [
       "array([2, 6, 1, 3, 0])"
      ]
     },
     "execution_count": 122,
     "metadata": {},
     "output_type": "execute_result"
    }
   ],
   "source": [
    "train_df['watching_status'].unique()"
   ]
  },
  {
   "cell_type": "code",
   "execution_count": 123,
   "id": "05da7510-1f13-4380-9865-8e4db3685a23",
   "metadata": {},
   "outputs": [],
   "source": [
    "# anime = pd.merge(train_df, anime, on='MAL_ID')"
   ]
  },
  {
   "cell_type": "code",
   "execution_count": 124,
   "id": "449638e6-89b4-42e0-897b-e34de06cd5e2",
   "metadata": {},
   "outputs": [],
   "source": [
    "# anime.head()"
   ]
  },
  {
   "cell_type": "code",
   "execution_count": 125,
   "id": "d973d6d1-31c6-4582-986f-eb8aed9d8053",
   "metadata": {},
   "outputs": [
    {
     "name": "stdout",
     "output_type": "stream",
     "text": [
      "Describe Object features: \n"
     ]
    },
    {
     "data": {
      "text/html": [
       "<div>\n",
       "<style scoped>\n",
       "    .dataframe tbody tr th:only-of-type {\n",
       "        vertical-align: middle;\n",
       "    }\n",
       "\n",
       "    .dataframe tbody tr th {\n",
       "        vertical-align: top;\n",
       "    }\n",
       "\n",
       "    .dataframe thead th {\n",
       "        text-align: right;\n",
       "    }\n",
       "</style>\n",
       "<table border=\"1\" class=\"dataframe\">\n",
       "  <thead>\n",
       "    <tr style=\"text-align: right;\">\n",
       "      <th></th>\n",
       "      <th>count</th>\n",
       "      <th>unique</th>\n",
       "      <th>top</th>\n",
       "      <th>freq</th>\n",
       "    </tr>\n",
       "  </thead>\n",
       "  <tbody>\n",
       "    <tr>\n",
       "      <th>Name</th>\n",
       "      <td>17562</td>\n",
       "      <td>17558</td>\n",
       "      <td>Maou Gakuin no Futekigousha: Shijou Saikyou no...</td>\n",
       "      <td>3</td>\n",
       "    </tr>\n",
       "    <tr>\n",
       "      <th>Score</th>\n",
       "      <td>17562</td>\n",
       "      <td>533</td>\n",
       "      <td>Unknown</td>\n",
       "      <td>5141</td>\n",
       "    </tr>\n",
       "    <tr>\n",
       "      <th>Genres</th>\n",
       "      <td>17562</td>\n",
       "      <td>5034</td>\n",
       "      <td>Hentai</td>\n",
       "      <td>969</td>\n",
       "    </tr>\n",
       "    <tr>\n",
       "      <th>English name</th>\n",
       "      <td>17562</td>\n",
       "      <td>6831</td>\n",
       "      <td>Unknown</td>\n",
       "      <td>10565</td>\n",
       "    </tr>\n",
       "    <tr>\n",
       "      <th>Japanese name</th>\n",
       "      <td>17562</td>\n",
       "      <td>16679</td>\n",
       "      <td>Unknown</td>\n",
       "      <td>48</td>\n",
       "    </tr>\n",
       "    <tr>\n",
       "      <th>Type</th>\n",
       "      <td>17562</td>\n",
       "      <td>7</td>\n",
       "      <td>TV</td>\n",
       "      <td>4996</td>\n",
       "    </tr>\n",
       "    <tr>\n",
       "      <th>Episodes</th>\n",
       "      <td>17562</td>\n",
       "      <td>201</td>\n",
       "      <td>1</td>\n",
       "      <td>8381</td>\n",
       "    </tr>\n",
       "    <tr>\n",
       "      <th>Aired</th>\n",
       "      <td>17562</td>\n",
       "      <td>11947</td>\n",
       "      <td>Unknown</td>\n",
       "      <td>309</td>\n",
       "    </tr>\n",
       "    <tr>\n",
       "      <th>Premiered</th>\n",
       "      <td>17562</td>\n",
       "      <td>231</td>\n",
       "      <td>Unknown</td>\n",
       "      <td>12817</td>\n",
       "    </tr>\n",
       "    <tr>\n",
       "      <th>Producers</th>\n",
       "      <td>17562</td>\n",
       "      <td>3783</td>\n",
       "      <td>Unknown</td>\n",
       "      <td>7794</td>\n",
       "    </tr>\n",
       "    <tr>\n",
       "      <th>Licensors</th>\n",
       "      <td>17562</td>\n",
       "      <td>231</td>\n",
       "      <td>Unknown</td>\n",
       "      <td>13616</td>\n",
       "    </tr>\n",
       "    <tr>\n",
       "      <th>Studios</th>\n",
       "      <td>17562</td>\n",
       "      <td>1090</td>\n",
       "      <td>Unknown</td>\n",
       "      <td>7079</td>\n",
       "    </tr>\n",
       "    <tr>\n",
       "      <th>Source</th>\n",
       "      <td>17562</td>\n",
       "      <td>16</td>\n",
       "      <td>Original</td>\n",
       "      <td>5215</td>\n",
       "    </tr>\n",
       "    <tr>\n",
       "      <th>Duration</th>\n",
       "      <td>17562</td>\n",
       "      <td>313</td>\n",
       "      <td>24 min. per ep.</td>\n",
       "      <td>1723</td>\n",
       "    </tr>\n",
       "    <tr>\n",
       "      <th>Rating</th>\n",
       "      <td>17562</td>\n",
       "      <td>7</td>\n",
       "      <td>PG-13 - Teens 13 or older</td>\n",
       "      <td>6132</td>\n",
       "    </tr>\n",
       "    <tr>\n",
       "      <th>Ranked</th>\n",
       "      <td>17562</td>\n",
       "      <td>10490</td>\n",
       "      <td>Unknown</td>\n",
       "      <td>1762</td>\n",
       "    </tr>\n",
       "    <tr>\n",
       "      <th>Score-10</th>\n",
       "      <td>17562</td>\n",
       "      <td>3379</td>\n",
       "      <td>4.0</td>\n",
       "      <td>936</td>\n",
       "    </tr>\n",
       "    <tr>\n",
       "      <th>Score-9</th>\n",
       "      <td>17562</td>\n",
       "      <td>3645</td>\n",
       "      <td>Unknown</td>\n",
       "      <td>3167</td>\n",
       "    </tr>\n",
       "    <tr>\n",
       "      <th>Score-8</th>\n",
       "      <td>17562</td>\n",
       "      <td>4515</td>\n",
       "      <td>Unknown</td>\n",
       "      <td>1371</td>\n",
       "    </tr>\n",
       "    <tr>\n",
       "      <th>Score-7</th>\n",
       "      <td>17562</td>\n",
       "      <td>4933</td>\n",
       "      <td>2.0</td>\n",
       "      <td>610</td>\n",
       "    </tr>\n",
       "    <tr>\n",
       "      <th>Score-6</th>\n",
       "      <td>17562</td>\n",
       "      <td>4236</td>\n",
       "      <td>Unknown</td>\n",
       "      <td>511</td>\n",
       "    </tr>\n",
       "    <tr>\n",
       "      <th>Score-5</th>\n",
       "      <td>17562</td>\n",
       "      <td>3288</td>\n",
       "      <td>Unknown</td>\n",
       "      <td>584</td>\n",
       "    </tr>\n",
       "    <tr>\n",
       "      <th>Score-4</th>\n",
       "      <td>17562</td>\n",
       "      <td>2235</td>\n",
       "      <td>Unknown</td>\n",
       "      <td>977</td>\n",
       "    </tr>\n",
       "    <tr>\n",
       "      <th>Score-3</th>\n",
       "      <td>17562</td>\n",
       "      <td>1506</td>\n",
       "      <td>Unknown</td>\n",
       "      <td>1307</td>\n",
       "    </tr>\n",
       "    <tr>\n",
       "      <th>Score-2</th>\n",
       "      <td>17562</td>\n",
       "      <td>1110</td>\n",
       "      <td>Unknown</td>\n",
       "      <td>1597</td>\n",
       "    </tr>\n",
       "    <tr>\n",
       "      <th>Score-1</th>\n",
       "      <td>17562</td>\n",
       "      <td>1084</td>\n",
       "      <td>4.0</td>\n",
       "      <td>955</td>\n",
       "    </tr>\n",
       "  </tbody>\n",
       "</table>\n",
       "</div>"
      ],
      "text/plain": [
       "               count unique  \\\n",
       "Name           17562  17558   \n",
       "Score          17562    533   \n",
       "Genres         17562   5034   \n",
       "English name   17562   6831   \n",
       "Japanese name  17562  16679   \n",
       "Type           17562      7   \n",
       "Episodes       17562    201   \n",
       "Aired          17562  11947   \n",
       "Premiered      17562    231   \n",
       "Producers      17562   3783   \n",
       "Licensors      17562    231   \n",
       "Studios        17562   1090   \n",
       "Source         17562     16   \n",
       "Duration       17562    313   \n",
       "Rating         17562      7   \n",
       "Ranked         17562  10490   \n",
       "Score-10       17562   3379   \n",
       "Score-9        17562   3645   \n",
       "Score-8        17562   4515   \n",
       "Score-7        17562   4933   \n",
       "Score-6        17562   4236   \n",
       "Score-5        17562   3288   \n",
       "Score-4        17562   2235   \n",
       "Score-3        17562   1506   \n",
       "Score-2        17562   1110   \n",
       "Score-1        17562   1084   \n",
       "\n",
       "                                                             top   freq  \n",
       "Name           Maou Gakuin no Futekigousha: Shijou Saikyou no...      3  \n",
       "Score                                                    Unknown   5141  \n",
       "Genres                                                    Hentai    969  \n",
       "English name                                             Unknown  10565  \n",
       "Japanese name                                            Unknown     48  \n",
       "Type                                                          TV   4996  \n",
       "Episodes                                                       1   8381  \n",
       "Aired                                                    Unknown    309  \n",
       "Premiered                                                Unknown  12817  \n",
       "Producers                                                Unknown   7794  \n",
       "Licensors                                                Unknown  13616  \n",
       "Studios                                                  Unknown   7079  \n",
       "Source                                                  Original   5215  \n",
       "Duration                                         24 min. per ep.   1723  \n",
       "Rating                                 PG-13 - Teens 13 or older   6132  \n",
       "Ranked                                                   Unknown   1762  \n",
       "Score-10                                                     4.0    936  \n",
       "Score-9                                                  Unknown   3167  \n",
       "Score-8                                                  Unknown   1371  \n",
       "Score-7                                                      2.0    610  \n",
       "Score-6                                                  Unknown    511  \n",
       "Score-5                                                  Unknown    584  \n",
       "Score-4                                                  Unknown    977  \n",
       "Score-3                                                  Unknown   1307  \n",
       "Score-2                                                  Unknown   1597  \n",
       "Score-1                                                      4.0    955  "
      ]
     },
     "metadata": {},
     "output_type": "display_data"
    },
    {
     "name": "stdout",
     "output_type": "stream",
     "text": [
      "\n",
      "Describe numerical features: \n"
     ]
    },
    {
     "data": {
      "text/html": [
       "<div>\n",
       "<style scoped>\n",
       "    .dataframe tbody tr th:only-of-type {\n",
       "        vertical-align: middle;\n",
       "    }\n",
       "\n",
       "    .dataframe tbody tr th {\n",
       "        vertical-align: top;\n",
       "    }\n",
       "\n",
       "    .dataframe thead th {\n",
       "        text-align: right;\n",
       "    }\n",
       "</style>\n",
       "<table border=\"1\" class=\"dataframe\">\n",
       "  <thead>\n",
       "    <tr style=\"text-align: right;\">\n",
       "      <th></th>\n",
       "      <th>count</th>\n",
       "      <th>mean</th>\n",
       "      <th>std</th>\n",
       "      <th>min</th>\n",
       "      <th>25%</th>\n",
       "      <th>50%</th>\n",
       "      <th>75%</th>\n",
       "      <th>max</th>\n",
       "    </tr>\n",
       "  </thead>\n",
       "  <tbody>\n",
       "    <tr>\n",
       "      <th>MAL_ID</th>\n",
       "      <td>17562.0</td>\n",
       "      <td>21477.192347</td>\n",
       "      <td>14900.093170</td>\n",
       "      <td>1.0</td>\n",
       "      <td>5953.5</td>\n",
       "      <td>22820.0</td>\n",
       "      <td>35624.75</td>\n",
       "      <td>48492.0</td>\n",
       "    </tr>\n",
       "    <tr>\n",
       "      <th>Popularity</th>\n",
       "      <td>17562.0</td>\n",
       "      <td>8763.452340</td>\n",
       "      <td>5059.327278</td>\n",
       "      <td>0.0</td>\n",
       "      <td>4383.5</td>\n",
       "      <td>8762.5</td>\n",
       "      <td>13145.00</td>\n",
       "      <td>17565.0</td>\n",
       "    </tr>\n",
       "    <tr>\n",
       "      <th>Members</th>\n",
       "      <td>17562.0</td>\n",
       "      <td>34658.539517</td>\n",
       "      <td>125282.141428</td>\n",
       "      <td>1.0</td>\n",
       "      <td>336.0</td>\n",
       "      <td>2065.0</td>\n",
       "      <td>13223.25</td>\n",
       "      <td>2589552.0</td>\n",
       "    </tr>\n",
       "    <tr>\n",
       "      <th>Favorites</th>\n",
       "      <td>17562.0</td>\n",
       "      <td>457.746270</td>\n",
       "      <td>4063.473313</td>\n",
       "      <td>0.0</td>\n",
       "      <td>0.0</td>\n",
       "      <td>3.0</td>\n",
       "      <td>31.00</td>\n",
       "      <td>183914.0</td>\n",
       "    </tr>\n",
       "    <tr>\n",
       "      <th>Watching</th>\n",
       "      <td>17562.0</td>\n",
       "      <td>2231.487758</td>\n",
       "      <td>14046.688133</td>\n",
       "      <td>0.0</td>\n",
       "      <td>13.0</td>\n",
       "      <td>73.0</td>\n",
       "      <td>522.00</td>\n",
       "      <td>887333.0</td>\n",
       "    </tr>\n",
       "    <tr>\n",
       "      <th>Completed</th>\n",
       "      <td>17562.0</td>\n",
       "      <td>22095.571347</td>\n",
       "      <td>91009.188504</td>\n",
       "      <td>0.0</td>\n",
       "      <td>111.0</td>\n",
       "      <td>817.5</td>\n",
       "      <td>6478.00</td>\n",
       "      <td>2182587.0</td>\n",
       "    </tr>\n",
       "    <tr>\n",
       "      <th>On-Hold</th>\n",
       "      <td>17562.0</td>\n",
       "      <td>955.049653</td>\n",
       "      <td>4275.675096</td>\n",
       "      <td>0.0</td>\n",
       "      <td>6.0</td>\n",
       "      <td>45.0</td>\n",
       "      <td>291.75</td>\n",
       "      <td>187919.0</td>\n",
       "    </tr>\n",
       "    <tr>\n",
       "      <th>Dropped</th>\n",
       "      <td>17562.0</td>\n",
       "      <td>1176.599533</td>\n",
       "      <td>4740.348653</td>\n",
       "      <td>0.0</td>\n",
       "      <td>37.0</td>\n",
       "      <td>77.0</td>\n",
       "      <td>271.00</td>\n",
       "      <td>174710.0</td>\n",
       "    </tr>\n",
       "    <tr>\n",
       "      <th>Plan to Watch</th>\n",
       "      <td>17562.0</td>\n",
       "      <td>8199.831227</td>\n",
       "      <td>23777.691963</td>\n",
       "      <td>1.0</td>\n",
       "      <td>112.0</td>\n",
       "      <td>752.5</td>\n",
       "      <td>4135.50</td>\n",
       "      <td>425531.0</td>\n",
       "    </tr>\n",
       "  </tbody>\n",
       "</table>\n",
       "</div>"
      ],
      "text/plain": [
       "                 count          mean            std  min     25%      50%  \\\n",
       "MAL_ID         17562.0  21477.192347   14900.093170  1.0  5953.5  22820.0   \n",
       "Popularity     17562.0   8763.452340    5059.327278  0.0  4383.5   8762.5   \n",
       "Members        17562.0  34658.539517  125282.141428  1.0   336.0   2065.0   \n",
       "Favorites      17562.0    457.746270    4063.473313  0.0     0.0      3.0   \n",
       "Watching       17562.0   2231.487758   14046.688133  0.0    13.0     73.0   \n",
       "Completed      17562.0  22095.571347   91009.188504  0.0   111.0    817.5   \n",
       "On-Hold        17562.0    955.049653    4275.675096  0.0     6.0     45.0   \n",
       "Dropped        17562.0   1176.599533    4740.348653  0.0    37.0     77.0   \n",
       "Plan to Watch  17562.0   8199.831227   23777.691963  1.0   112.0    752.5   \n",
       "\n",
       "                    75%        max  \n",
       "MAL_ID         35624.75    48492.0  \n",
       "Popularity     13145.00    17565.0  \n",
       "Members        13223.25  2589552.0  \n",
       "Favorites         31.00   183914.0  \n",
       "Watching         522.00   887333.0  \n",
       "Completed       6478.00  2182587.0  \n",
       "On-Hold          291.75   187919.0  \n",
       "Dropped          271.00   174710.0  \n",
       "Plan to Watch   4135.50   425531.0  "
      ]
     },
     "metadata": {},
     "output_type": "display_data"
    }
   ],
   "source": [
    "print('Describe Object features: ')\n",
    "display(anime.describe(include='O').T)\n",
    "print('\\nDescribe numerical features: ')\n",
    "display(anime.describe().T)"
   ]
  },
  {
   "cell_type": "code",
   "execution_count": 126,
   "id": "3ee02cbd-84a6-43fd-8b28-176bae239eaa",
   "metadata": {},
   "outputs": [
    {
     "name": "stdout",
     "output_type": "stream",
     "text": [
      "Info features: \n",
      "<class 'pandas.core.frame.DataFrame'>\n",
      "RangeIndex: 17562 entries, 0 to 17561\n",
      "Data columns (total 35 columns):\n",
      " #   Column         Non-Null Count  Dtype \n",
      "---  ------         --------------  ----- \n",
      " 0   MAL_ID         17562 non-null  int64 \n",
      " 1   Name           17562 non-null  object\n",
      " 2   Score          17562 non-null  object\n",
      " 3   Genres         17562 non-null  object\n",
      " 4   English name   17562 non-null  object\n",
      " 5   Japanese name  17562 non-null  object\n",
      " 6   Type           17562 non-null  object\n",
      " 7   Episodes       17562 non-null  object\n",
      " 8   Aired          17562 non-null  object\n",
      " 9   Premiered      17562 non-null  object\n",
      " 10  Producers      17562 non-null  object\n",
      " 11  Licensors      17562 non-null  object\n",
      " 12  Studios        17562 non-null  object\n",
      " 13  Source         17562 non-null  object\n",
      " 14  Duration       17562 non-null  object\n",
      " 15  Rating         17562 non-null  object\n",
      " 16  Ranked         17562 non-null  object\n",
      " 17  Popularity     17562 non-null  int64 \n",
      " 18  Members        17562 non-null  int64 \n",
      " 19  Favorites      17562 non-null  int64 \n",
      " 20  Watching       17562 non-null  int64 \n",
      " 21  Completed      17562 non-null  int64 \n",
      " 22  On-Hold        17562 non-null  int64 \n",
      " 23  Dropped        17562 non-null  int64 \n",
      " 24  Plan to Watch  17562 non-null  int64 \n",
      " 25  Score-10       17562 non-null  object\n",
      " 26  Score-9        17562 non-null  object\n",
      " 27  Score-8        17562 non-null  object\n",
      " 28  Score-7        17562 non-null  object\n",
      " 29  Score-6        17562 non-null  object\n",
      " 30  Score-5        17562 non-null  object\n",
      " 31  Score-4        17562 non-null  object\n",
      " 32  Score-3        17562 non-null  object\n",
      " 33  Score-2        17562 non-null  object\n",
      " 34  Score-1        17562 non-null  object\n",
      "dtypes: int64(9), object(26)\n",
      "memory usage: 4.7+ MB\n"
     ]
    },
    {
     "data": {
      "text/plain": [
       "None"
      ]
     },
     "metadata": {},
     "output_type": "display_data"
    }
   ],
   "source": [
    "print('Info features: ')\n",
    "display(anime.info())"
   ]
  },
  {
   "cell_type": "code",
   "execution_count": 127,
   "id": "476b4fb9-ad86-4192-b3bd-c253404a9763",
   "metadata": {},
   "outputs": [
    {
     "data": {
      "text/plain": [
       "10490"
      ]
     },
     "execution_count": 127,
     "metadata": {},
     "output_type": "execute_result"
    }
   ],
   "source": [
    "anime['Ranked'].nunique()"
   ]
  },
  {
   "cell_type": "code",
   "execution_count": 128,
   "id": "a9bcdc20-ea52-4b2a-8dbd-b79f5a1e5d23",
   "metadata": {},
   "outputs": [
    {
     "data": {
      "text/plain": [
       "array(['TV', 'Movie', 'OVA', 'Special', 'ONA', 'Music', 'Unknown'],\n",
       "      dtype=object)"
      ]
     },
     "execution_count": 128,
     "metadata": {},
     "output_type": "execute_result"
    }
   ],
   "source": [
    "anime['Type'].unique()"
   ]
  },
  {
   "cell_type": "code",
   "execution_count": 129,
   "id": "5dce4597-0337-489a-92d0-f9118988df18",
   "metadata": {},
   "outputs": [
    {
     "data": {
      "text/plain": [
       "array(['R - 17+ (violence & profanity)', 'PG-13 - Teens 13 or older',\n",
       "       'PG - Children', 'R+ - Mild Nudity', 'G - All Ages', 'Rx - Hentai',\n",
       "       'Unknown'], dtype=object)"
      ]
     },
     "execution_count": 129,
     "metadata": {},
     "output_type": "execute_result"
    }
   ],
   "source": [
    "anime['Rating'].unique()"
   ]
  },
  {
   "cell_type": "code",
   "execution_count": 130,
   "id": "b8a00139-8fdd-407c-8d89-9a35935cb1bb",
   "metadata": {},
   "outputs": [
    {
     "name": "stderr",
     "output_type": "stream",
     "text": [
      "/home/huzaifa/anaconda3/envs/tf2/lib/python3.9/site-packages/seaborn/_decorators.py:36: FutureWarning: Pass the following variables as keyword args: x, y. From version 0.12, the only valid positional argument will be `data`, and passing other arguments without an explicit keyword will result in an error or misinterpretation.\n",
      "  warnings.warn(\n"
     ]
    },
    {
     "data": {
      "image/png": "[encoded data removed]",
      "text/plain": [
       "<Figure size 864x432 with 1 Axes>"
      ]
     },
     "metadata": {
      "needs_background": "light"
     },
     "output_type": "display_data"
    }
   ],
   "source": [
    "temp = anime['Rating'].value_counts().sort_values(ascending=False)\n",
    "fig, ax = plt.subplots(figsize=(12, 6))\n",
    "# .plot(kind='barh', color='pink')\n",
    "plt.title('Rating_Age')\n",
    "plt.xlabel('Count')\n",
    "# plt.barh(temp.index.values, temp.values)\n",
    "sns.barplot(temp.values, temp.index.values)\n",
    "plt.savefig('Images/rating_age.jpeg')"
   ]
  },
  {
   "cell_type": "code",
   "execution_count": 131,
   "id": "8eae945d-058f-4073-a076-d596d19b9f4d",
   "metadata": {},
   "outputs": [
    {
     "name": "stderr",
     "output_type": "stream",
     "text": [
      "/home/huzaifa/anaconda3/envs/tf2/lib/python3.9/site-packages/seaborn/_decorators.py:36: FutureWarning: Pass the following variables as keyword args: x, y. From version 0.12, the only valid positional argument will be `data`, and passing other arguments without an explicit keyword will result in an error or misinterpretation.\n",
      "  warnings.warn(\n"
     ]
    },
    {
     "data": {
      "image/png": "[encoded data removed]",
      "text/plain": [
       "<Figure size 432x288 with 1 Axes>"
      ]
     },
     "metadata": {
      "needs_background": "light"
     },
     "output_type": "display_data"
    }
   ],
   "source": [
    "temp = anime['Type'].value_counts().sort_values(ascending=False)\n",
    "plt.title('Type')\n",
    "plt.xlabel('Count')\n",
    "sns.barplot(temp.values, temp.index.values)\n",
    "plt.savefig('Images/type.jpeg')"
   ]
  },
  {
   "cell_type": "code",
   "execution_count": 132,
   "id": "24e84429-f4d6-40cf-9051-eb30d36c2702",
   "metadata": {},
   "outputs": [
    {
     "name": "stderr",
     "output_type": "stream",
     "text": [
      "/home/huzaifa/anaconda3/envs/tf2/lib/python3.9/site-packages/seaborn/_decorators.py:36: FutureWarning: Pass the following variables as keyword args: x, y. From version 0.12, the only valid positional argument will be `data`, and passing other arguments without an explicit keyword will result in an error or misinterpretation.\n",
      "  warnings.warn(\n"
     ]
    },
    {
     "data": {
      "image/png": "[encoded data removed]",
      "text/plain": [
       "<Figure size 864x432 with 1 Axes>"
      ]
     },
     "metadata": {
      "needs_background": "light"
     },
     "output_type": "display_data"
    }
   ],
   "source": [
    "temp = anime['Source'].value_counts().sort_values(ascending=False)\n",
    "fig, ax = plt.subplots(figsize=(12, 6))\n",
    "plt.title('Source')\n",
    "plt.xlabel('Count')\n",
    "sns.barplot(temp.values, temp.index.values)\n",
    "plt.savefig('Images/source.jpeg')"
   ]
  },
  {
   "cell_type": "code",
   "execution_count": 133,
   "id": "e656c9a1-feb9-4165-b87f-90c176b2b715",
   "metadata": {},
   "outputs": [
    {
     "name": "stderr",
     "output_type": "stream",
     "text": [
      "/home/huzaifa/anaconda3/envs/tf2/lib/python3.9/site-packages/seaborn/_decorators.py:36: FutureWarning: Pass the following variables as keyword args: x, y. From version 0.12, the only valid positional argument will be `data`, and passing other arguments without an explicit keyword will result in an error or misinterpretation.\n",
      "  warnings.warn(\n"
     ]
    },
    {
     "data": {
      "image/png": "[encoded data removed]",
      "text/plain": [
       "<Figure size 864x432 with 1 Axes>"
      ]
     },
     "metadata": {
      "needs_background": "light"
     },
     "output_type": "display_data"
    }
   ],
   "source": [
    "temp = train_df['rating'].value_counts().sort_values()\n",
    "fig, ax = plt.subplots(figsize=(12, 6))\n",
    "plt.title('Rating 0-10')\n",
    "plt.ylabel('Count')\n",
    "sns.barplot(temp.index.values, temp.values)\n",
    "plt.savefig('Images/rating.jpeg')"
   ]
  },
  {
   "cell_type": "code",
   "execution_count": 134,
   "id": "c7298832-6f90-469b-be0f-0d94756a7c4b",
   "metadata": {},
   "outputs": [
    {
     "name": "stderr",
     "output_type": "stream",
     "text": [
      "/home/huzaifa/anaconda3/envs/tf2/lib/python3.9/site-packages/seaborn/_decorators.py:36: FutureWarning: Pass the following variables as keyword args: x, y. From version 0.12, the only valid positional argument will be `data`, and passing other arguments without an explicit keyword will result in an error or misinterpretation.\n",
      "  warnings.warn(\n"
     ]
    },
    {
     "data": {
      "image/png": "[encoded data removed]",
      "text/plain": [
       "<Figure size 864x432 with 1 Axes>"
      ]
     },
     "metadata": {
      "needs_background": "light"
     },
     "output_type": "display_data"
    }
   ],
   "source": [
    "temp = train_df['watching_status'].value_counts()\n",
    "tep = ['Completed', 'Plan to Watch', 'Currently Watching', 'On Hold', 'Dropped']\n",
    "fig, ax = plt.subplots(figsize=(12, 6))\n",
    "plt.title('watching status')\n",
    "plt.xlabel('Count')\n",
    "sns.barplot(temp.values, tep)\n",
    "plt.savefig('Images/watching_status.jpeg')"
   ]
  },
  {
   "cell_type": "markdown",
   "id": "9d6b3bba-4b08-4807-a182-65323d7beac6",
   "metadata": {
    "jp-MarkdownHeadingCollapsed": true,
    "tags": []
   },
   "source": [
    "### Pre-processing"
   ]
  },
  {
   "cell_type": "code",
   "execution_count": 28,
   "id": "513bcc87-2816-490f-a69c-9d6252777728",
   "metadata": {},
   "outputs": [],
   "source": [
    "for col in anime.columns.to_list():\n",
    "    anime[str(col)].replace('Unknown', np.nan, inplace=True)"
   ]
  },
  {
   "cell_type": "code",
   "execution_count": 29,
   "id": "141168b1-1ba0-4bd9-b5a1-84f361afd002",
   "metadata": {},
   "outputs": [],
   "source": [
    "for score in range(1, 11):\n",
    "    anime['Score-'+str(score)] = anime['Score-'+str(score)].astype(float)\n",
    "anime['Ranked'] = anime['Ranked'].astype(float)\n",
    "anime['Episodes'] = anime['Episodes'].astype(float)\n",
    "anime['Score'] = anime['Score'].astype(float)"
   ]
  },
  {
   "cell_type": "code",
   "execution_count": 30,
   "id": "a5ecf74b-63ed-4637-888f-870a3698630e",
   "metadata": {},
   "outputs": [],
   "source": [
    "temp = pd.DataFrame(anime.isnull().sum().sort_values(ascending=False), columns=['missing_count'])\n",
    "temp = temp[temp['missing_count']>0]"
   ]
  },
  {
   "cell_type": "code",
   "execution_count": 31,
   "id": "dd947ee6-97da-4629-b392-06b4c8af2a57",
   "metadata": {},
   "outputs": [
    {
     "name": "stderr",
     "output_type": "stream",
     "text": [
      "/home/huzaifa/anaconda3/envs/tf2/lib/python3.9/site-packages/seaborn/_decorators.py:36: FutureWarning: Pass the following variables as keyword args: x, y. From version 0.12, the only valid positional argument will be `data`, and passing other arguments without an explicit keyword will result in an error or misinterpretation.\n",
      "  warnings.warn(\n"
     ]
    },
    {
     "data": {
      "image/png": "[encoded data removed]",
      "text/plain": [
       "<Figure size 720x864 with 1 Axes>"
      ]
     },
     "metadata": {
      "needs_background": "light"
     },
     "output_type": "display_data"
    }
   ],
   "source": [
    "fig, ax = plt.subplots(figsize=(10,12))\n",
    "plt.title('Missing Data')\n",
    "# plt.barh(temp.index.values, temp['missing_count'])\n",
    "sns.barplot(temp['missing_count'], temp.index.values)\n",
    "plt.savefig('Images/miss.jpeg')"
   ]
  },
  {
   "cell_type": "code",
   "execution_count": 32,
   "id": "05e0db0b-93f0-4093-8fed-bb968efc5fe1",
   "metadata": {},
   "outputs": [],
   "source": [
    "anime.drop(['Licensors', 'Premiered', 'English name', 'Producers', 'Studios', 'Aired', 'Japanese name'], axis=1, inplace=True)"
   ]
  },
  {
   "cell_type": "code",
   "execution_count": 33,
   "id": "8b5762cd-2c9f-4cd9-ba42-81193122eb2a",
   "metadata": {},
   "outputs": [],
   "source": [
    "# anime['Producers'].fillna('Unknown', inplace=True)\n",
    "# anime['Studios'].fillna('Unknown', inplace=True)\n",
    "anime['Source'].fillna('Unknown', inplace=True)\n",
    "anime['Duration'].fillna('Unknown', inplace=True)"
   ]
  },
  {
   "cell_type": "code",
   "execution_count": 34,
   "id": "cbdad3d3-0374-4632-8f0c-a648e6dcfea6",
   "metadata": {},
   "outputs": [],
   "source": [
    "anime['Score'].fillna(anime['Score'].mean(), inplace=True)"
   ]
  },
  {
   "cell_type": "code",
   "execution_count": 35,
   "id": "6400f152-9f9c-46f1-a1e5-4f98f37acac9",
   "metadata": {},
   "outputs": [
    {
     "name": "stdout",
     "output_type": "stream",
     "text": [
      "           Score    Ranked\n",
      "Score   1.000000 -0.591879\n",
      "Ranked -0.591879  1.000000\n",
      "Intercept = 31292.492586404856 , Coefficient = -3576.7445379021674\n"
     ]
    }
   ],
   "source": [
    "temp_df = anime[['Score', 'Ranked']].dropna()\n",
    "corr = temp_df.corr()\n",
    "print(corr)\n",
    "# y = B0 + B1*x\n",
    "fill_miss = LinearRegression()\n",
    "fill_miss.fit(temp_df['Score'].values.reshape(-1, 1), temp_df['Ranked'].values.reshape(-1, 1))\n",
    "B1, B0 = fill_miss.coef_[0][0], fill_miss.intercept_[0]\n",
    "print('Intercept = {} , Coefficient = {}'.format(B0, B1))\n",
    "for i in range(len(anime['Ranked'])):\n",
    "    if pd.isnull(anime.loc[i, 'Ranked']):\n",
    "        anime.loc[i, 'Ranked'] = B0 + (anime.loc[i, 'Score']*B1)"
   ]
  },
  {
   "cell_type": "code",
   "execution_count": 36,
   "id": "d35d3e45-41f2-4b7b-875a-e85f4c414e79",
   "metadata": {},
   "outputs": [],
   "source": [
    "for score in range(1, 11):\n",
    "    anime['Score-'+str(score)].fillna(anime['Score-'+str(score)].mean(), inplace=True)"
   ]
  },
  {
   "cell_type": "code",
   "execution_count": 37,
   "id": "476103e6-a87e-4f6b-9103-e1d6072ae71f",
   "metadata": {},
   "outputs": [],
   "source": [
    "anime = anime[(anime['Genres'].notnull()) & (anime['Type'].notnull())]"
   ]
  },
  {
   "cell_type": "code",
   "execution_count": 38,
   "id": "6cea7a46-19de-49b7-b726-6750d02ea053",
   "metadata": {},
   "outputs": [],
   "source": [
    "anime['Rating'].fillna(anime['Rating'].mode()[0], inplace=True)"
   ]
  },
  {
   "cell_type": "code",
   "execution_count": 39,
   "id": "63793d10-2b5d-4853-af5e-e5487c8eb174",
   "metadata": {},
   "outputs": [],
   "source": [
    "anime.loc[(anime['Genres']=='Hentai') & (anime['Episodes'].isnull()),'Episodes'] = 1\n",
    "anime.loc[(anime['Type']=='OVA') & (anime['Episodes'].isnull()),'Episodes'] = 2\n",
    "\n",
    "anime.loc[(anime['Type'] == 'Movie') & (anime['Episodes'] .isnull())] = 1"
   ]
  },
  {
   "cell_type": "code",
   "execution_count": 40,
   "id": "3ff95580-4d6a-4b69-991f-d1ea57695c4c",
   "metadata": {},
   "outputs": [],
   "source": [
    "known_animes = { 'Detective Conan': 1048,\n",
    "                'One Piece': 1015,\n",
    "                'Boruto: Naruto Next Generations': 247}\n",
    "for k,v in known_animes.items():    \n",
    "    anime.loc[anime['Name']==k,'Episodes'] = v"
   ]
  },
  {
   "cell_type": "code",
   "execution_count": 41,
   "id": "c13fda45-60d4-4bf9-893d-02aa64fada89",
   "metadata": {},
   "outputs": [],
   "source": [
    "anime['Episodes'].fillna(anime['Episodes'].median(),inplace = True)"
   ]
  },
  {
   "cell_type": "code",
   "execution_count": 42,
   "id": "73878bff-1c23-469b-8185-e76dd7ffe500",
   "metadata": {},
   "outputs": [
    {
     "data": {
      "text/plain": [
       "11    24 min.\n",
       "Name: Duration, dtype: object"
      ]
     },
     "execution_count": 42,
     "metadata": {},
     "output_type": "execute_result"
    }
   ],
   "source": [
    "anime[anime['Episodes']==1015]['Duration']"
   ]
  },
  {
   "cell_type": "code",
   "execution_count": 43,
   "id": "bcaa5572-7cd1-491b-9c41-d3bc91d807ef",
   "metadata": {},
   "outputs": [],
   "source": [
    "def full_time(string, ep):\n",
    "    duration = 0\n",
    "    string = str(string)\n",
    "    if string != 'Unknown':\n",
    "        string = string.split(' ')\n",
    "        if 'hr.' in string:\n",
    "            ind = string.index('hr.') -1\n",
    "            duration+=(int(string[ind])*3600)\n",
    "        if 'min.' in string:\n",
    "            ind = string.index('min.') -1\n",
    "            duration+=(int(string[ind])*60)\n",
    "        if 'sec.' in string:\n",
    "            ind = string.index('sec.') -1\n",
    "            duration+=int(string[ind])\n",
    "        if 'per' in string:\n",
    "            return duration*ep\n",
    "        else:\n",
    "            return duration\n",
    "    else:\n",
    "        return np.nan\n",
    "def time_per_ep(string, ep):\n",
    "    duration = 0\n",
    "    string = str(string) \n",
    "    if string != 'Unknown':\n",
    "        string = string.split(' ')\n",
    "        if 'hr.' in string:\n",
    "            ind = string.index('hr.') -1\n",
    "            duration+=(int(string[ind])*3600)\n",
    "        if 'min.' in string:\n",
    "            ind = string.index('min.') -1\n",
    "            duration+=(int(string[ind])*60)\n",
    "        if 'sec.' in string:\n",
    "            ind = string.index('sec.') -1\n",
    "            duration+=int(string[ind])\n",
    "        if 'per' in string:\n",
    "            return duration\n",
    "        else:\n",
    "            return int(duration/ep)\n",
    "    else:\n",
    "        return np.nan"
   ]
  },
  {
   "cell_type": "code",
   "execution_count": 44,
   "id": "d6e8712c-14d5-41e0-b196-306936842d39",
   "metadata": {},
   "outputs": [],
   "source": [
    "anime['Episodes'] = anime['Episodes'].astype(int)\n",
    "anime['FullDuration_in_sec'] = anime.apply(lambda x: full_time(x['Duration'], x['Episodes']), axis=1)\n",
    "anime['DurationPerEp_in_sec'] = anime.apply(lambda x: time_per_ep(x['Duration'], x['Episodes']), axis=1)\n",
    "anime.drop('Duration', axis=1, inplace=True)"
   ]
  },
  {
   "cell_type": "code",
   "execution_count": 45,
   "id": "2dfef79c-0d47-418e-8d3a-30a73158f45b",
   "metadata": {},
   "outputs": [],
   "source": [
    "anime = anime[anime['FullDuration_in_sec']!=0]"
   ]
  },
  {
   "cell_type": "code",
   "execution_count": 46,
   "id": "b815cb53-0e20-4633-9cba-629b23e9e1dc",
   "metadata": {},
   "outputs": [
    {
     "data": {
      "text/html": [
       "<div>\n",
       "<style scoped>\n",
       "    .dataframe tbody tr th:only-of-type {\n",
       "        vertical-align: middle;\n",
       "    }\n",
       "\n",
       "    .dataframe tbody tr th {\n",
       "        vertical-align: top;\n",
       "    }\n",
       "\n",
       "    .dataframe thead th {\n",
       "        text-align: right;\n",
       "    }\n",
       "</style>\n",
       "<table border=\"1\" class=\"dataframe\">\n",
       "  <thead>\n",
       "    <tr style=\"text-align: right;\">\n",
       "      <th></th>\n",
       "      <th>FullDuration_in_sec</th>\n",
       "      <th>DurationPerEp_in_sec</th>\n",
       "    </tr>\n",
       "    <tr>\n",
       "      <th>Type</th>\n",
       "      <th></th>\n",
       "      <th></th>\n",
       "    </tr>\n",
       "  </thead>\n",
       "  <tbody>\n",
       "    <tr>\n",
       "      <th>Movie</th>\n",
       "      <td>3300.0</td>\n",
       "      <td>3240.0</td>\n",
       "    </tr>\n",
       "    <tr>\n",
       "      <th>Music</th>\n",
       "      <td>180.0</td>\n",
       "      <td>180.0</td>\n",
       "    </tr>\n",
       "    <tr>\n",
       "      <th>ONA</th>\n",
       "      <td>720.0</td>\n",
       "      <td>240.0</td>\n",
       "    </tr>\n",
       "    <tr>\n",
       "      <th>OVA</th>\n",
       "      <td>2760.0</td>\n",
       "      <td>1680.0</td>\n",
       "    </tr>\n",
       "    <tr>\n",
       "      <th>Special</th>\n",
       "      <td>1260.0</td>\n",
       "      <td>600.0</td>\n",
       "    </tr>\n",
       "    <tr>\n",
       "      <th>TV</th>\n",
       "      <td>18720.0</td>\n",
       "      <td>1380.0</td>\n",
       "    </tr>\n",
       "  </tbody>\n",
       "</table>\n",
       "</div>"
      ],
      "text/plain": [
       "         FullDuration_in_sec  DurationPerEp_in_sec\n",
       "Type                                              \n",
       "Movie                 3300.0                3240.0\n",
       "Music                  180.0                 180.0\n",
       "ONA                    720.0                 240.0\n",
       "OVA                   2760.0                1680.0\n",
       "Special               1260.0                 600.0\n",
       "TV                   18720.0                1380.0"
      ]
     },
     "execution_count": 46,
     "metadata": {},
     "output_type": "execute_result"
    }
   ],
   "source": [
    "temp = anime[['Type', 'FullDuration_in_sec', 'DurationPerEp_in_sec']].groupby(['Type']).median()\n",
    "temp"
   ]
  },
  {
   "cell_type": "code",
   "execution_count": 47,
   "id": "28875008-6c8a-4f4f-8998-475f763d20ef",
   "metadata": {},
   "outputs": [],
   "source": [
    "for col in ['FullDuration_in_sec', 'DurationPerEp_in_sec']:\n",
    "    for ty in temp.index.to_list():\n",
    "        anime.loc[(anime['Type']==str(ty)) & (anime[col].isnull()), col] = temp[col].loc[ty]"
   ]
  },
  {
   "cell_type": "code",
   "execution_count": 48,
   "id": "8558b49f-dd17-4492-8a07-b48dda912fac",
   "metadata": {},
   "outputs": [
    {
     "data": {
      "text/plain": [
       "Index(['Name', 'Genres', 'Type', 'Source', 'Rating'], dtype='object')"
      ]
     },
     "execution_count": 48,
     "metadata": {},
     "output_type": "execute_result"
    }
   ],
   "source": [
    "anime.select_dtypes('O').columns"
   ]
  },
  {
   "cell_type": "code",
   "execution_count": 49,
   "id": "b011eca7-b9ac-4258-aa3d-11c1b3290111",
   "metadata": {},
   "outputs": [],
   "source": [
    "f_plot = ['Score',\n",
    " 'Score-1',\n",
    " 'Score-2',\n",
    " 'Score-3',\n",
    " 'Score-4',\n",
    " 'Score-5',\n",
    " 'Score-6',\n",
    " 'Score-7',\n",
    " 'Score-8',\n",
    " 'Score-9',\n",
    " 'Score-10']\n",
    "\n",
    "s_plot = ['Completed',\n",
    " 'Popularity',\n",
    " 'Favorites',\n",
    " 'DurationPerEp_in_sec',\n",
    "         'Plan to Watch',\n",
    "         'FullDuration_in_sec',\n",
    "         'Watching',\n",
    "         'Dropped',\n",
    "         'Episodes',\n",
    "         'On-Hold',\n",
    "         'Ranked',\n",
    " 'Members']\n",
    "features = ['Popularity', 'DurationPerEp_in_sec', 'Ranked', 'Score', 'Genres', 'Type', 'Source', 'Rating']"
   ]
  },
  {
   "cell_type": "code",
   "execution_count": 50,
   "id": "69b50032-cb46-4135-8082-7f0f983fe76b",
   "metadata": {},
   "outputs": [],
   "source": [
    "# fig, ax = plt.subplots(15,2, figsize=(11,19))\n",
    "# for count1, value in enumerate(s_plot):\n",
    "#     # visulaize box plot\n",
    "#     sns.boxplot(data=anime, x=anime[value], ax=ax[count1, 0])\n",
    "#     ax[count1, 0].set_ylabel(str(value))\n",
    "#     ax[count1, 0].grid()\n",
    "#     # visulaize histogram plot\n",
    "#     bins = len(anime[value].unique())//2\n",
    "#     sns.histplot(data=anime, x=anime[value], bins=20, kde=True, ax=ax[count1, 1])\n",
    "# plt.savefig('Images/Numerical_Features.jpeg')"
   ]
  },
  {
   "cell_type": "code",
   "execution_count": 51,
   "id": "e26073e8-013f-4f43-931b-93af34765d86",
   "metadata": {},
   "outputs": [],
   "source": [
    "# anime[anime['Name']=='']\n",
    "# anime = anime[features]"
   ]
  },
  {
   "cell_type": "code",
   "execution_count": 52,
   "id": "bc1d9e61-cbb5-4382-8c71-f5cc7c6a90cf",
   "metadata": {},
   "outputs": [
    {
     "data": {
      "text/plain": [
       "Index(['MAL_ID', 'Name', 'Score', 'Genres', 'Type', 'Episodes', 'Source',\n",
       "       'Rating', 'Ranked', 'Popularity', 'Members', 'Favorites', 'Watching',\n",
       "       'Completed', 'On-Hold', 'Dropped', 'Plan to Watch', 'Score-10',\n",
       "       'Score-9', 'Score-8', 'Score-7', 'Score-6', 'Score-5', 'Score-4',\n",
       "       'Score-3', 'Score-2', 'Score-1', 'FullDuration_in_sec',\n",
       "       'DurationPerEp_in_sec'],\n",
       "      dtype='object')"
      ]
     },
     "execution_count": 52,
     "metadata": {},
     "output_type": "execute_result"
    }
   ],
   "source": [
    "anime.columns"
   ]
  },
  {
   "cell_type": "code",
   "execution_count": 53,
   "id": "819e40f8-8705-4a9f-af65-df0b5e95d0ee",
   "metadata": {},
   "outputs": [],
   "source": [
    "anime.reset_index(drop=True, inplace=True)"
   ]
  },
  {
   "cell_type": "code",
   "execution_count": 54,
   "id": "5f467565-1bb9-4319-9745-0762dc97a4ea",
   "metadata": {},
   "outputs": [
    {
     "data": {
      "text/plain": [
       "(17460, 29)"
      ]
     },
     "execution_count": 54,
     "metadata": {},
     "output_type": "execute_result"
    }
   ],
   "source": [
    "anime.shape"
   ]
  },
  {
   "cell_type": "markdown",
   "id": "d07fd38d-ea9c-4952-9eaa-fe89837dfdfb",
   "metadata": {
    "jp-MarkdownHeadingCollapsed": true,
    "tags": []
   },
   "source": [
    "### Encoding"
   ]
  },
  {
   "cell_type": "code",
   "execution_count": 55,
   "id": "cf64d4a5-5986-4cfb-b51a-564f62d88a1c",
   "metadata": {},
   "outputs": [],
   "source": [
    "object_features = ['Genres', 'Type', 'Source']\n",
    "\n",
    "encoder= ce.OrdinalEncoder(cols=['Rating'],return_df=True,\n",
    "                        mapping=[{'col':'Rating',\n",
    "                                  'mapping':{'R - 17+ (violence & profanity)': 3, 'PG-13 - Teens 13 or older': 2,\n",
    "                                             'PG - Children': 1, 'R+ - Mild Nudity': 4, 'G - All Ages': 0, 'Rx - Hentai': 5}}])\n",
    "anime['Rating'] = encoder.fit_transform(anime['Rating'])"
   ]
  },
  {
   "cell_type": "code",
   "execution_count": 56,
   "id": "12fa9b09-1a8e-491b-9192-3705f7b94270",
   "metadata": {},
   "outputs": [],
   "source": [
    "train = pd.concat([anime[\"Genres\"].str.get_dummies(sep=\",\"), pd.get_dummies(anime[[\"Type\"]]),\n",
    "                   pd.get_dummies(anime[[\"Source\"]]), anime[['Popularity', 'DurationPerEp_in_sec', 'Ranked', 'Score']]], axis=1)\n",
    "                   # [['Episodes','Rating','Ranked','Popularity',\n",
    "                   #                                           'Members','Favorites','Watching','Completed','On-Hold',\n",
    "                   #                                           'Dropped','Plan to Watch','Score-10','Score-9',\n",
    "                   #                                           'Score-8','Score-7','Score-6','Score-5','Score-4',\n",
    "                   #                                           'Score-3','Score-2','Score-1','FullDuration_in_sec','DurationPerEp_in_sec']]], axis=1)\n",
    "# 'watching_status', 'watched_episodes', 'rating', 'Score',"
   ]
  },
  {
   "cell_type": "code",
   "execution_count": 57,
   "id": "6d7c459d-50c0-48d2-bf05-97e63f0a6349",
   "metadata": {},
   "outputs": [
    {
     "data": {
      "text/html": [
       "<div>\n",
       "<style scoped>\n",
       "    .dataframe tbody tr th:only-of-type {\n",
       "        vertical-align: middle;\n",
       "    }\n",
       "\n",
       "    .dataframe tbody tr th {\n",
       "        vertical-align: top;\n",
       "    }\n",
       "\n",
       "    .dataframe thead th {\n",
       "        text-align: right;\n",
       "    }\n",
       "</style>\n",
       "<table border=\"1\" class=\"dataframe\">\n",
       "  <thead>\n",
       "    <tr style=\"text-align: right;\">\n",
       "      <th></th>\n",
       "      <th>Adventure</th>\n",
       "      <th>Cars</th>\n",
       "      <th>Comedy</th>\n",
       "      <th>Dementia</th>\n",
       "      <th>Demons</th>\n",
       "      <th>Drama</th>\n",
       "      <th>Ecchi</th>\n",
       "      <th>Fantasy</th>\n",
       "      <th>Game</th>\n",
       "      <th>Harem</th>\n",
       "      <th>...</th>\n",
       "      <th>Source_Other</th>\n",
       "      <th>Source_Picture book</th>\n",
       "      <th>Source_Radio</th>\n",
       "      <th>Source_Unknown</th>\n",
       "      <th>Source_Visual novel</th>\n",
       "      <th>Source_Web manga</th>\n",
       "      <th>Popularity</th>\n",
       "      <th>DurationPerEp_in_sec</th>\n",
       "      <th>Ranked</th>\n",
       "      <th>Score</th>\n",
       "    </tr>\n",
       "  </thead>\n",
       "  <tbody>\n",
       "    <tr>\n",
       "      <th>0</th>\n",
       "      <td>1</td>\n",
       "      <td>0</td>\n",
       "      <td>1</td>\n",
       "      <td>0</td>\n",
       "      <td>0</td>\n",
       "      <td>1</td>\n",
       "      <td>0</td>\n",
       "      <td>0</td>\n",
       "      <td>0</td>\n",
       "      <td>0</td>\n",
       "      <td>...</td>\n",
       "      <td>0</td>\n",
       "      <td>0</td>\n",
       "      <td>0</td>\n",
       "      <td>0</td>\n",
       "      <td>0</td>\n",
       "      <td>0</td>\n",
       "      <td>39</td>\n",
       "      <td>1440.0</td>\n",
       "      <td>28.0</td>\n",
       "      <td>8.78</td>\n",
       "    </tr>\n",
       "    <tr>\n",
       "      <th>1</th>\n",
       "      <td>0</td>\n",
       "      <td>0</td>\n",
       "      <td>0</td>\n",
       "      <td>0</td>\n",
       "      <td>0</td>\n",
       "      <td>1</td>\n",
       "      <td>0</td>\n",
       "      <td>0</td>\n",
       "      <td>0</td>\n",
       "      <td>0</td>\n",
       "      <td>...</td>\n",
       "      <td>0</td>\n",
       "      <td>0</td>\n",
       "      <td>0</td>\n",
       "      <td>0</td>\n",
       "      <td>0</td>\n",
       "      <td>0</td>\n",
       "      <td>518</td>\n",
       "      <td>6900.0</td>\n",
       "      <td>159.0</td>\n",
       "      <td>8.39</td>\n",
       "    </tr>\n",
       "    <tr>\n",
       "      <th>2</th>\n",
       "      <td>1</td>\n",
       "      <td>0</td>\n",
       "      <td>1</td>\n",
       "      <td>0</td>\n",
       "      <td>0</td>\n",
       "      <td>1</td>\n",
       "      <td>0</td>\n",
       "      <td>0</td>\n",
       "      <td>0</td>\n",
       "      <td>0</td>\n",
       "      <td>...</td>\n",
       "      <td>0</td>\n",
       "      <td>0</td>\n",
       "      <td>0</td>\n",
       "      <td>0</td>\n",
       "      <td>0</td>\n",
       "      <td>0</td>\n",
       "      <td>201</td>\n",
       "      <td>1440.0</td>\n",
       "      <td>266.0</td>\n",
       "      <td>8.24</td>\n",
       "    </tr>\n",
       "    <tr>\n",
       "      <th>3</th>\n",
       "      <td>0</td>\n",
       "      <td>0</td>\n",
       "      <td>0</td>\n",
       "      <td>0</td>\n",
       "      <td>0</td>\n",
       "      <td>1</td>\n",
       "      <td>0</td>\n",
       "      <td>0</td>\n",
       "      <td>0</td>\n",
       "      <td>0</td>\n",
       "      <td>...</td>\n",
       "      <td>0</td>\n",
       "      <td>0</td>\n",
       "      <td>0</td>\n",
       "      <td>0</td>\n",
       "      <td>0</td>\n",
       "      <td>0</td>\n",
       "      <td>1467</td>\n",
       "      <td>1500.0</td>\n",
       "      <td>2481.0</td>\n",
       "      <td>7.27</td>\n",
       "    </tr>\n",
       "    <tr>\n",
       "      <th>4</th>\n",
       "      <td>0</td>\n",
       "      <td>0</td>\n",
       "      <td>0</td>\n",
       "      <td>0</td>\n",
       "      <td>0</td>\n",
       "      <td>0</td>\n",
       "      <td>0</td>\n",
       "      <td>1</td>\n",
       "      <td>0</td>\n",
       "      <td>0</td>\n",
       "      <td>...</td>\n",
       "      <td>0</td>\n",
       "      <td>0</td>\n",
       "      <td>0</td>\n",
       "      <td>0</td>\n",
       "      <td>0</td>\n",
       "      <td>0</td>\n",
       "      <td>4369</td>\n",
       "      <td>1380.0</td>\n",
       "      <td>3710.0</td>\n",
       "      <td>6.98</td>\n",
       "    </tr>\n",
       "  </tbody>\n",
       "</table>\n",
       "<p>5 rows × 109 columns</p>\n",
       "</div>"
      ],
      "text/plain": [
       "    Adventure   Cars   Comedy   Dementia   Demons   Drama   Ecchi   Fantasy  \\\n",
       "0           1      0        1          0        0       1       0         0   \n",
       "1           0      0        0          0        0       1       0         0   \n",
       "2           1      0        1          0        0       1       0         0   \n",
       "3           0      0        0          0        0       1       0         0   \n",
       "4           0      0        0          0        0       0       0         1   \n",
       "\n",
       "    Game   Harem  ...  Source_Other  Source_Picture book  Source_Radio  \\\n",
       "0      0       0  ...             0                    0             0   \n",
       "1      0       0  ...             0                    0             0   \n",
       "2      0       0  ...             0                    0             0   \n",
       "3      0       0  ...             0                    0             0   \n",
       "4      0       0  ...             0                    0             0   \n",
       "\n",
       "   Source_Unknown  Source_Visual novel  Source_Web manga  Popularity  \\\n",
       "0               0                    0                 0          39   \n",
       "1               0                    0                 0         518   \n",
       "2               0                    0                 0         201   \n",
       "3               0                    0                 0        1467   \n",
       "4               0                    0                 0        4369   \n",
       "\n",
       "   DurationPerEp_in_sec  Ranked  Score  \n",
       "0                1440.0    28.0   8.78  \n",
       "1                6900.0   159.0   8.39  \n",
       "2                1440.0   266.0   8.24  \n",
       "3                1500.0  2481.0   7.27  \n",
       "4                1380.0  3710.0   6.98  \n",
       "\n",
       "[5 rows x 109 columns]"
      ]
     },
     "execution_count": 57,
     "metadata": {},
     "output_type": "execute_result"
    }
   ],
   "source": [
    "train.head()\n",
    "# reset_index(drop=True)"
   ]
  },
  {
   "cell_type": "code",
   "execution_count": 58,
   "id": "7ffb4c08-48dd-41d8-9303-9dbeae6fe577",
   "metadata": {},
   "outputs": [
    {
     "data": {
      "text/plain": [
       "(17460, 109)"
      ]
     },
     "execution_count": 58,
     "metadata": {},
     "output_type": "execute_result"
    }
   ],
   "source": [
    "train.shape"
   ]
  },
  {
   "cell_type": "markdown",
   "id": "fa4f270c-7050-4974-9852-01e0ca52abe5",
   "metadata": {
    "jp-MarkdownHeadingCollapsed": true,
    "tags": []
   },
   "source": [
    "### Scaling"
   ]
  },
  {
   "cell_type": "code",
   "execution_count": 59,
   "id": "316dc956-b046-426c-9f52-4874b9ac6495",
   "metadata": {},
   "outputs": [],
   "source": [
    "scaler = MaxAbsScaler()\n",
    "train = scaler.fit_transform(train)"
   ]
  },
  {
   "cell_type": "code",
   "execution_count": 60,
   "id": "f1ca0c58-4ed5-4361-8537-f392049e3b8d",
   "metadata": {},
   "outputs": [],
   "source": [
    "pca = PCA(n_components=20, random_state=0)\n",
    "train = pca.fit_transform(train)"
   ]
  },
  {
   "cell_type": "markdown",
   "id": "c8fb8422-0b2c-4ffa-b017-6b537d6afd36",
   "metadata": {
    "jp-MarkdownHeadingCollapsed": true,
    "tags": []
   },
   "source": [
    "### Modeling"
   ]
  },
  {
   "cell_type": "code",
   "execution_count": 61,
   "id": "94a35131-01fa-43c5-8459-ce9d84157c37",
   "metadata": {},
   "outputs": [],
   "source": [
    "knn = NearestNeighbors(n_neighbors=6, algorithm='auto').fit(train)\n",
    "distances, indices = knn.kneighbors(train)"
   ]
  },
  {
   "cell_type": "code",
   "execution_count": 62,
   "id": "c8fc149b-3af5-4da9-9c3b-a1bdfdb39737",
   "metadata": {},
   "outputs": [],
   "source": [
    "def get_index_from_name(name):\n",
    "    return {'index': int(anime[anime[\"Name\"]==name].index.tolist()[0]), 'ID':int(anime[anime[\"Name\"]==name]['MAL_ID'].values[0])}\n",
    "\n",
    "def get_NAMEandID_from_index(index):\n",
    "    return {'Name': anime['Name'].iloc[index], 'ID': anime['MAL_ID'].iloc[index]}\n",
    "\n",
    "def get_index_from_ID(id):\n",
    "    return anime[anime['MAL_ID'] == id].index.tolist()[0]\n",
    "def Anime_ID(lst):\n",
    "    IDs = []\n",
    "    for ind in lst:\n",
    "        IDs.append(anime['MAL_ID'].iloc[ind])\n",
    "    return IDs\n",
    "\n",
    "def Result(query=None,ind=None):\n",
    "    lst = Anime_ID(indices[ind][1:])\n",
    "    if ind:\n",
    "        print('The Name of Animes: ')\n",
    "        for ID in lst:\n",
    "            print('\\t', anime[anime['MAL_ID']==ID]['Name'].values[0])\n",
    "        print('=================================')\n",
    "        print('The Indeces of Animes: ')\n",
    "        print(*indices[ind][1:], sep=', ')\n",
    "        print('=================================')\n",
    "        print('The ID of Animes: ')\n",
    "        print(*lst, sep=', ')\n",
    "        print('=================================')\n",
    "        print('The Distances of the Anime:')\n",
    "        print(*distances[ind][1:], sep=', ')\n",
    "        print('=================================')\n",
    "        print('The AVG of distances = {}'.format(sum(distances[ind][1:])/len(distances[ind][1:])))\n",
    "    if query:\n",
    "        ind = get_index_from_name(query)\n",
    "        lst = Anime_ID(indices[ind['index']][1:])\n",
    "        print('The Name of Animes: ')\n",
    "        for ID in lst:\n",
    "            print('\\t', anime[anime['MAL_ID']==ID]['Name'].values[0])\n",
    "        print('=================================')\n",
    "        print('The Indeces of Animes: ')\n",
    "        print(*indices[ind['index']][1:], sep=', ')\n",
    "        print('=================================')\n",
    "        print('The ID of Animes: ')\n",
    "        print(*lst, sep=', ')\n",
    "        print('=================================')\n",
    "        print('The Distances of the Anime:')\n",
    "        print(*distances[ind['index']][1:], sep=', ')\n",
    "        print('=================================')\n",
    "        print('The AVG of distances = {}'.format(sum(distances[ind['index']][1:])/len(distances[ind['index']][1:])))"
   ]
  },
  {
   "cell_type": "code",
   "execution_count": 63,
   "id": "92ecc780-c26a-45d2-afbb-bb8e70dcf52c",
   "metadata": {},
   "outputs": [
    {
     "data": {
      "text/plain": [
       "{'index': 11, 'ID': 21}"
      ]
     },
     "execution_count": 63,
     "metadata": {},
     "output_type": "execute_result"
    }
   ],
   "source": [
    "get_index_from_name('One Piece')"
   ]
  },
  {
   "cell_type": "code",
   "execution_count": 64,
   "id": "25697732-ff0a-4808-aaa0-0e3f3bd2c30f",
   "metadata": {},
   "outputs": [
    {
     "data": {
      "text/plain": [
       "{'Name': 'Kara no Kyoukai 5: Mujun Rasen', 'ID': 4282}"
      ]
     },
     "execution_count": 64,
     "metadata": {},
     "output_type": "execute_result"
    }
   ],
   "source": [
    "get_NAMEandID_from_index(3578)"
   ]
  },
  {
   "cell_type": "code",
   "execution_count": 65,
   "id": "00669231-7a6d-4a3d-8be7-2dac18d5ae94",
   "metadata": {},
   "outputs": [
    {
     "data": {
      "text/plain": [
       "3578"
      ]
     },
     "execution_count": 65,
     "metadata": {},
     "output_type": "execute_result"
    }
   ],
   "source": [
    "get_index_from_ID(4282)"
   ]
  },
  {
   "cell_type": "code",
   "execution_count": 66,
   "id": "815f2e06-a101-46e8-a967-883f042be027",
   "metadata": {},
   "outputs": [
    {
     "name": "stdout",
     "output_type": "stream",
     "text": [
      "The Name of Animes: \n",
      "\t Fullmetal Alchemist\n",
      "\t Fullmetal Alchemist: Brotherhood\n",
      "\t Kishin Douji Zenki\n",
      "\t Toriko\n",
      "\t Dragon Ball Z\n",
      "=================================\n",
      "The Indeces of Animes: \n",
      "100, 3971, 1429, 6035, 734\n",
      "=================================\n",
      "The ID of Animes: \n",
      "121, 5114, 1573, 10033, 813\n",
      "=================================\n",
      "The Distances of the Anime:\n",
      "0.3674691843067315, 0.37128087014209743, 0.8473733225203264, 0.9325658154659615, 0.9366298811855265\n",
      "=================================\n",
      "The AVG of distances = 0.6910638147241286\n"
     ]
    }
   ],
   "source": [
    "Result('One Piece')"
   ]
  },
  {
   "cell_type": "markdown",
   "id": "6709006a-f84b-457f-babb-82ea80385cc8",
   "metadata": {
    "jp-MarkdownHeadingCollapsed": true,
    "tags": []
   },
   "source": [
    "### Find Recommended Anime"
   ]
  },
  {
   "cell_type": "code",
   "execution_count": 67,
   "id": "f754f850-0bd3-43d5-833e-bf3fd209f562",
   "metadata": {},
   "outputs": [
    {
     "name": "stdout",
     "output_type": "stream",
     "text": [
      "Train DF Data: \n"
     ]
    },
    {
     "data": {
      "text/html": [
       "<div>\n",
       "<style scoped>\n",
       "    .dataframe tbody tr th:only-of-type {\n",
       "        vertical-align: middle;\n",
       "    }\n",
       "\n",
       "    .dataframe tbody tr th {\n",
       "        vertical-align: top;\n",
       "    }\n",
       "\n",
       "    .dataframe thead th {\n",
       "        text-align: right;\n",
       "    }\n",
       "</style>\n",
       "<table border=\"1\" class=\"dataframe\">\n",
       "  <thead>\n",
       "    <tr style=\"text-align: right;\">\n",
       "      <th></th>\n",
       "      <th>Unnamed: 0</th>\n",
       "      <th>user_id</th>\n",
       "      <th>MAL_ID</th>\n",
       "      <th>rating</th>\n",
       "      <th>watching_status</th>\n",
       "      <th>watched_episodes</th>\n",
       "    </tr>\n",
       "  </thead>\n",
       "  <tbody>\n",
       "    <tr>\n",
       "      <th>0</th>\n",
       "      <td>0</td>\n",
       "      <td>20807</td>\n",
       "      <td>4282</td>\n",
       "      <td>10</td>\n",
       "      <td>2</td>\n",
       "      <td>1</td>\n",
       "    </tr>\n",
       "    <tr>\n",
       "      <th>1</th>\n",
       "      <td>1</td>\n",
       "      <td>20807</td>\n",
       "      <td>5665</td>\n",
       "      <td>0</td>\n",
       "      <td>6</td>\n",
       "      <td>0</td>\n",
       "    </tr>\n",
       "    <tr>\n",
       "      <th>2</th>\n",
       "      <td>2</td>\n",
       "      <td>20807</td>\n",
       "      <td>36127</td>\n",
       "      <td>0</td>\n",
       "      <td>6</td>\n",
       "      <td>0</td>\n",
       "    </tr>\n",
       "    <tr>\n",
       "      <th>3</th>\n",
       "      <td>3</td>\n",
       "      <td>20807</td>\n",
       "      <td>38163</td>\n",
       "      <td>0</td>\n",
       "      <td>6</td>\n",
       "      <td>0</td>\n",
       "    </tr>\n",
       "    <tr>\n",
       "      <th>4</th>\n",
       "      <td>4</td>\n",
       "      <td>20807</td>\n",
       "      <td>1284</td>\n",
       "      <td>0</td>\n",
       "      <td>6</td>\n",
       "      <td>0</td>\n",
       "    </tr>\n",
       "  </tbody>\n",
       "</table>\n",
       "</div>"
      ],
      "text/plain": [
       "   Unnamed: 0  user_id  MAL_ID  rating  watching_status  watched_episodes\n",
       "0           0    20807    4282      10                2                 1\n",
       "1           1    20807    5665       0                6                 0\n",
       "2           2    20807   36127       0                6                 0\n",
       "3           3    20807   38163       0                6                 0\n",
       "4           4    20807    1284       0                6                 0"
      ]
     },
     "metadata": {},
     "output_type": "display_data"
    }
   ],
   "source": [
    "print('Train DF Data: ')\n",
    "display(train_df.head())"
   ]
  },
  {
   "cell_type": "code",
   "execution_count": 68,
   "id": "ef5097d8-096d-4120-bb9f-0941360855f6",
   "metadata": {},
   "outputs": [
    {
     "name": "stdout",
     "output_type": "stream",
     "text": [
      "88\n"
     ]
    }
   ],
   "source": [
    "set1 = set(train_df['MAL_ID'].unique().tolist())\n",
    "set2 = set(anime['MAL_ID'].unique().tolist())\n",
    "trash = set1-set2\n",
    "print(len(trash))"
   ]
  },
  {
   "cell_type": "code",
   "execution_count": 69,
   "id": "13ae973b-f209-4263-a998-ed33009c854c",
   "metadata": {},
   "outputs": [
    {
     "data": {
      "text/plain": [
       "(1513363, 6)"
      ]
     },
     "execution_count": 69,
     "metadata": {},
     "output_type": "execute_result"
    }
   ],
   "source": [
    "for i in trash:\n",
    "    temp = train_df[train_df['MAL_ID'] == i].index.tolist()\n",
    "    train_df.drop(temp, axis=0, inplace=True)\n",
    "train_df.shape"
   ]
  },
  {
   "cell_type": "code",
   "execution_count": 70,
   "id": "ced0f1b6-fe76-499d-b5d2-758b10bacbce",
   "metadata": {},
   "outputs": [
    {
     "data": {
      "text/plain": [
       "Unnamed: 0          0\n",
       "user_id             0\n",
       "MAL_ID              0\n",
       "rating              0\n",
       "watching_status     0\n",
       "watched_episodes    0\n",
       "dtype: int64"
      ]
     },
     "execution_count": 70,
     "metadata": {},
     "output_type": "execute_result"
    }
   ],
   "source": [
    "train_df.isnull().sum()"
   ]
  },
  {
   "cell_type": "code",
   "execution_count": 71,
   "id": "985ab02f-3d12-4856-a2f4-c5503652168c",
   "metadata": {},
   "outputs": [
    {
     "name": "stdout",
     "output_type": "stream",
     "text": [
      "Done.. :-\\)\n",
      "(1513363, 5)\n"
     ]
    }
   ],
   "source": [
    "rec_anime = {'ID1':[], 'ID2':[], 'ID3':[], 'ID4':[], 'ID5':[]}\n",
    "problem = set()\n",
    "def Recommend_Animes(mal_id):\n",
    "    for ID in mal_id:\n",
    "        try:\n",
    "            anime_ind = get_index_from_ID(ID)\n",
    "            ind_lst = indices[anime_ind][1:]\n",
    "            ID_lst = Anime_ID(ind_lst)\n",
    "            rec_anime['ID1'].append(ID_lst[0])\n",
    "            rec_anime['ID2'].append(ID_lst[1])\n",
    "            rec_anime['ID3'].append(ID_lst[2])\n",
    "            rec_anime['ID4'].append(ID_lst[3])\n",
    "            rec_anime['ID5'].append(ID_lst[4])\n",
    "        except Exception:\n",
    "            problem.add(ID)\n",
    "lst = train_df['MAL_ID'].values.tolist()\n",
    "Recommend_Animes(lst)\n",
    "if len(problem) == 0:\n",
    "    print('Done.. :-\\)')\n",
    "    temp = pd.DataFrame(rec_anime, columns=['ID1', 'ID2', 'ID3', 'ID4', 'ID5'])\n",
    "else:\n",
    "    print(problem)\n",
    "print(temp.shape)"
   ]
  },
  {
   "cell_type": "code",
   "execution_count": 72,
   "id": "56962efd-1e34-436d-a7db-19ac9758cf97",
   "metadata": {},
   "outputs": [
    {
     "data": {
      "text/html": [
       "<div>\n",
       "<style scoped>\n",
       "    .dataframe tbody tr th:only-of-type {\n",
       "        vertical-align: middle;\n",
       "    }\n",
       "\n",
       "    .dataframe tbody tr th {\n",
       "        vertical-align: top;\n",
       "    }\n",
       "\n",
       "    .dataframe thead th {\n",
       "        text-align: right;\n",
       "    }\n",
       "</style>\n",
       "<table border=\"1\" class=\"dataframe\">\n",
       "  <thead>\n",
       "    <tr style=\"text-align: right;\">\n",
       "      <th></th>\n",
       "      <th>Unnamed: 0</th>\n",
       "      <th>user_id</th>\n",
       "      <th>MAL_ID</th>\n",
       "      <th>rating</th>\n",
       "      <th>watching_status</th>\n",
       "      <th>watched_episodes</th>\n",
       "      <th>ID1</th>\n",
       "      <th>ID2</th>\n",
       "      <th>ID3</th>\n",
       "      <th>ID4</th>\n",
       "      <th>ID5</th>\n",
       "    </tr>\n",
       "  </thead>\n",
       "  <tbody>\n",
       "    <tr>\n",
       "      <th>0</th>\n",
       "      <td>0</td>\n",
       "      <td>20807</td>\n",
       "      <td>4282</td>\n",
       "      <td>10</td>\n",
       "      <td>2</td>\n",
       "      <td>1</td>\n",
       "      <td>3783</td>\n",
       "      <td>5205</td>\n",
       "      <td>3782</td>\n",
       "      <td>13335</td>\n",
       "      <td>13117</td>\n",
       "    </tr>\n",
       "    <tr>\n",
       "      <th>1</th>\n",
       "      <td>1</td>\n",
       "      <td>20807</td>\n",
       "      <td>5665</td>\n",
       "      <td>0</td>\n",
       "      <td>6</td>\n",
       "      <td>0</td>\n",
       "      <td>5612</td>\n",
       "      <td>4825</td>\n",
       "      <td>5614</td>\n",
       "      <td>5190</td>\n",
       "      <td>5610</td>\n",
       "    </tr>\n",
       "    <tr>\n",
       "      <th>2</th>\n",
       "      <td>2</td>\n",
       "      <td>20807</td>\n",
       "      <td>36127</td>\n",
       "      <td>0</td>\n",
       "      <td>6</td>\n",
       "      <td>0</td>\n",
       "      <td>36139</td>\n",
       "      <td>8554</td>\n",
       "      <td>19971</td>\n",
       "      <td>33129</td>\n",
       "      <td>25075</td>\n",
       "    </tr>\n",
       "    <tr>\n",
       "      <th>3</th>\n",
       "      <td>3</td>\n",
       "      <td>20807</td>\n",
       "      <td>38163</td>\n",
       "      <td>0</td>\n",
       "      <td>6</td>\n",
       "      <td>0</td>\n",
       "      <td>37021</td>\n",
       "      <td>36308</td>\n",
       "      <td>32932</td>\n",
       "      <td>37684</td>\n",
       "      <td>40488</td>\n",
       "    </tr>\n",
       "    <tr>\n",
       "      <th>4</th>\n",
       "      <td>4</td>\n",
       "      <td>20807</td>\n",
       "      <td>1284</td>\n",
       "      <td>0</td>\n",
       "      <td>6</td>\n",
       "      <td>0</td>\n",
       "      <td>1902</td>\n",
       "      <td>36777</td>\n",
       "      <td>9924</td>\n",
       "      <td>16928</td>\n",
       "      <td>7774</td>\n",
       "    </tr>\n",
       "  </tbody>\n",
       "</table>\n",
       "</div>"
      ],
      "text/plain": [
       "   Unnamed: 0  user_id  MAL_ID  rating  watching_status  watched_episodes  \\\n",
       "0           0    20807    4282      10                2                 1   \n",
       "1           1    20807    5665       0                6                 0   \n",
       "2           2    20807   36127       0                6                 0   \n",
       "3           3    20807   38163       0                6                 0   \n",
       "4           4    20807    1284       0                6                 0   \n",
       "\n",
       "     ID1    ID2    ID3    ID4    ID5  \n",
       "0   3783   5205   3782  13335  13117  \n",
       "1   5612   4825   5614   5190   5610  \n",
       "2  36139   8554  19971  33129  25075  \n",
       "3  37021  36308  32932  37684  40488  \n",
       "4   1902  36777   9924  16928   7774  "
      ]
     },
     "execution_count": 72,
     "metadata": {},
     "output_type": "execute_result"
    }
   ],
   "source": [
    "df = pd.concat([train_df.reset_index(drop=True), temp.reset_index(drop=True)], axis=1)\n",
    "df.head()"
   ]
  },
  {
   "cell_type": "code",
   "execution_count": 73,
   "id": "abb75b4e-1d60-479b-b380-0ee1d1c9eead",
   "metadata": {},
   "outputs": [
    {
     "data": {
      "text/html": [
       "<div>\n",
       "<style scoped>\n",
       "    .dataframe tbody tr th:only-of-type {\n",
       "        vertical-align: middle;\n",
       "    }\n",
       "\n",
       "    .dataframe tbody tr th {\n",
       "        vertical-align: top;\n",
       "    }\n",
       "\n",
       "    .dataframe thead th {\n",
       "        text-align: right;\n",
       "    }\n",
       "</style>\n",
       "<table border=\"1\" class=\"dataframe\">\n",
       "  <thead>\n",
       "    <tr style=\"text-align: right;\">\n",
       "      <th></th>\n",
       "      <th>Unnamed: 0</th>\n",
       "      <th>user_id</th>\n",
       "      <th>MAL_ID</th>\n",
       "      <th>rating</th>\n",
       "      <th>watching_status</th>\n",
       "      <th>watched_episodes</th>\n",
       "      <th>ID1</th>\n",
       "      <th>ID2</th>\n",
       "      <th>ID3</th>\n",
       "      <th>ID4</th>\n",
       "      <th>ID5</th>\n",
       "    </tr>\n",
       "  </thead>\n",
       "  <tbody>\n",
       "    <tr>\n",
       "      <th>20293</th>\n",
       "      <td>20337</td>\n",
       "      <td>243768</td>\n",
       "      <td>21</td>\n",
       "      <td>0</td>\n",
       "      <td>3</td>\n",
       "      <td>752</td>\n",
       "      <td>121</td>\n",
       "      <td>5114</td>\n",
       "      <td>1573</td>\n",
       "      <td>10033</td>\n",
       "      <td>813</td>\n",
       "    </tr>\n",
       "    <tr>\n",
       "      <th>23752</th>\n",
       "      <td>23804</td>\n",
       "      <td>316318</td>\n",
       "      <td>21</td>\n",
       "      <td>10</td>\n",
       "      <td>1</td>\n",
       "      <td>934</td>\n",
       "      <td>121</td>\n",
       "      <td>5114</td>\n",
       "      <td>1573</td>\n",
       "      <td>10033</td>\n",
       "      <td>813</td>\n",
       "    </tr>\n",
       "    <tr>\n",
       "      <th>24717</th>\n",
       "      <td>24771</td>\n",
       "      <td>287350</td>\n",
       "      <td>21</td>\n",
       "      <td>0</td>\n",
       "      <td>1</td>\n",
       "      <td>950</td>\n",
       "      <td>121</td>\n",
       "      <td>5114</td>\n",
       "      <td>1573</td>\n",
       "      <td>10033</td>\n",
       "      <td>813</td>\n",
       "    </tr>\n",
       "    <tr>\n",
       "      <th>25000</th>\n",
       "      <td>25054</td>\n",
       "      <td>7179</td>\n",
       "      <td>21</td>\n",
       "      <td>8</td>\n",
       "      <td>1</td>\n",
       "      <td>964</td>\n",
       "      <td>121</td>\n",
       "      <td>5114</td>\n",
       "      <td>1573</td>\n",
       "      <td>10033</td>\n",
       "      <td>813</td>\n",
       "    </tr>\n",
       "    <tr>\n",
       "      <th>25166</th>\n",
       "      <td>25220</td>\n",
       "      <td>337955</td>\n",
       "      <td>21</td>\n",
       "      <td>10</td>\n",
       "      <td>1</td>\n",
       "      <td>945</td>\n",
       "      <td>121</td>\n",
       "      <td>5114</td>\n",
       "      <td>1573</td>\n",
       "      <td>10033</td>\n",
       "      <td>813</td>\n",
       "    </tr>\n",
       "    <tr>\n",
       "      <th>...</th>\n",
       "      <td>...</td>\n",
       "      <td>...</td>\n",
       "      <td>...</td>\n",
       "      <td>...</td>\n",
       "      <td>...</td>\n",
       "      <td>...</td>\n",
       "      <td>...</td>\n",
       "      <td>...</td>\n",
       "      <td>...</td>\n",
       "      <td>...</td>\n",
       "      <td>...</td>\n",
       "    </tr>\n",
       "    <tr>\n",
       "      <th>1505524</th>\n",
       "      <td>1507457</td>\n",
       "      <td>17544</td>\n",
       "      <td>21</td>\n",
       "      <td>0</td>\n",
       "      <td>6</td>\n",
       "      <td>0</td>\n",
       "      <td>121</td>\n",
       "      <td>5114</td>\n",
       "      <td>1573</td>\n",
       "      <td>10033</td>\n",
       "      <td>813</td>\n",
       "    </tr>\n",
       "    <tr>\n",
       "      <th>1507236</th>\n",
       "      <td>1509170</td>\n",
       "      <td>14217</td>\n",
       "      <td>21</td>\n",
       "      <td>0</td>\n",
       "      <td>6</td>\n",
       "      <td>0</td>\n",
       "      <td>121</td>\n",
       "      <td>5114</td>\n",
       "      <td>1573</td>\n",
       "      <td>10033</td>\n",
       "      <td>813</td>\n",
       "    </tr>\n",
       "    <tr>\n",
       "      <th>1507713</th>\n",
       "      <td>1509647</td>\n",
       "      <td>219754</td>\n",
       "      <td>21</td>\n",
       "      <td>9</td>\n",
       "      <td>1</td>\n",
       "      <td>932</td>\n",
       "      <td>121</td>\n",
       "      <td>5114</td>\n",
       "      <td>1573</td>\n",
       "      <td>10033</td>\n",
       "      <td>813</td>\n",
       "    </tr>\n",
       "    <tr>\n",
       "      <th>1510177</th>\n",
       "      <td>1512112</td>\n",
       "      <td>241281</td>\n",
       "      <td>21</td>\n",
       "      <td>8</td>\n",
       "      <td>3</td>\n",
       "      <td>320</td>\n",
       "      <td>121</td>\n",
       "      <td>5114</td>\n",
       "      <td>1573</td>\n",
       "      <td>10033</td>\n",
       "      <td>813</td>\n",
       "    </tr>\n",
       "    <tr>\n",
       "      <th>1512585</th>\n",
       "      <td>1514521</td>\n",
       "      <td>130927</td>\n",
       "      <td>21</td>\n",
       "      <td>10</td>\n",
       "      <td>1</td>\n",
       "      <td>750</td>\n",
       "      <td>121</td>\n",
       "      <td>5114</td>\n",
       "      <td>1573</td>\n",
       "      <td>10033</td>\n",
       "      <td>813</td>\n",
       "    </tr>\n",
       "  </tbody>\n",
       "</table>\n",
       "<p>686 rows × 11 columns</p>\n",
       "</div>"
      ],
      "text/plain": [
       "         Unnamed: 0  user_id  MAL_ID  rating  watching_status  \\\n",
       "20293         20337   243768      21       0                3   \n",
       "23752         23804   316318      21      10                1   \n",
       "24717         24771   287350      21       0                1   \n",
       "25000         25054     7179      21       8                1   \n",
       "25166         25220   337955      21      10                1   \n",
       "...             ...      ...     ...     ...              ...   \n",
       "1505524     1507457    17544      21       0                6   \n",
       "1507236     1509170    14217      21       0                6   \n",
       "1507713     1509647   219754      21       9                1   \n",
       "1510177     1512112   241281      21       8                3   \n",
       "1512585     1514521   130927      21      10                1   \n",
       "\n",
       "         watched_episodes  ID1   ID2   ID3    ID4  ID5  \n",
       "20293                 752  121  5114  1573  10033  813  \n",
       "23752                 934  121  5114  1573  10033  813  \n",
       "24717                 950  121  5114  1573  10033  813  \n",
       "25000                 964  121  5114  1573  10033  813  \n",
       "25166                 945  121  5114  1573  10033  813  \n",
       "...                   ...  ...   ...   ...    ...  ...  \n",
       "1505524                 0  121  5114  1573  10033  813  \n",
       "1507236                 0  121  5114  1573  10033  813  \n",
       "1507713               932  121  5114  1573  10033  813  \n",
       "1510177               320  121  5114  1573  10033  813  \n",
       "1512585               750  121  5114  1573  10033  813  \n",
       "\n",
       "[686 rows x 11 columns]"
      ]
     },
     "execution_count": 73,
     "metadata": {},
     "output_type": "execute_result"
    }
   ],
   "source": [
    "df[df['MAL_ID']==21]"
   ]
  },
  {
   "cell_type": "code",
   "execution_count": 74,
   "id": "54a48628-afc3-4012-9a8e-c55e3583c6d2",
   "metadata": {},
   "outputs": [
    {
     "data": {
      "text/plain": [
       "array([2, 6, 1, 3, 0])"
      ]
     },
     "execution_count": 74,
     "metadata": {},
     "output_type": "execute_result"
    }
   ],
   "source": [
    "df['watching_status'].unique()"
   ]
  },
  {
   "cell_type": "code",
   "execution_count": 75,
   "id": "57c23539-6ca4-496b-a55b-cd00aada11df",
   "metadata": {},
   "outputs": [
    {
     "data": {
      "text/html": [
       "<div>\n",
       "<style scoped>\n",
       "    .dataframe tbody tr th:only-of-type {\n",
       "        vertical-align: middle;\n",
       "    }\n",
       "\n",
       "    .dataframe tbody tr th {\n",
       "        vertical-align: top;\n",
       "    }\n",
       "\n",
       "    .dataframe thead th {\n",
       "        text-align: right;\n",
       "    }\n",
       "</style>\n",
       "<table border=\"1\" class=\"dataframe\">\n",
       "  <thead>\n",
       "    <tr style=\"text-align: right;\">\n",
       "      <th></th>\n",
       "      <th>Unnamed: 0</th>\n",
       "      <th>user_id</th>\n",
       "      <th>MAL_ID</th>\n",
       "      <th>rating</th>\n",
       "      <th>watching_status</th>\n",
       "      <th>watched_episodes</th>\n",
       "      <th>ID1</th>\n",
       "      <th>ID2</th>\n",
       "      <th>ID3</th>\n",
       "      <th>ID4</th>\n",
       "      <th>ID5</th>\n",
       "    </tr>\n",
       "  </thead>\n",
       "  <tbody>\n",
       "    <tr>\n",
       "      <th>176</th>\n",
       "      <td>179</td>\n",
       "      <td>131988</td>\n",
       "      <td>41573</td>\n",
       "      <td>0</td>\n",
       "      <td>1</td>\n",
       "      <td>11</td>\n",
       "      <td>37576</td>\n",
       "      <td>40357</td>\n",
       "      <td>40356</td>\n",
       "      <td>31859</td>\n",
       "      <td>35790</td>\n",
       "    </tr>\n",
       "    <tr>\n",
       "      <th>414</th>\n",
       "      <td>417</td>\n",
       "      <td>297931</td>\n",
       "      <td>9968</td>\n",
       "      <td>0</td>\n",
       "      <td>1</td>\n",
       "      <td>0</td>\n",
       "      <td>3707</td>\n",
       "      <td>5743</td>\n",
       "      <td>6531</td>\n",
       "      <td>1403</td>\n",
       "      <td>24271</td>\n",
       "    </tr>\n",
       "    <tr>\n",
       "      <th>723</th>\n",
       "      <td>727</td>\n",
       "      <td>189037</td>\n",
       "      <td>36064</td>\n",
       "      <td>7</td>\n",
       "      <td>1</td>\n",
       "      <td>45</td>\n",
       "      <td>28351</td>\n",
       "      <td>14663</td>\n",
       "      <td>37505</td>\n",
       "      <td>38807</td>\n",
       "      <td>27891</td>\n",
       "    </tr>\n",
       "    <tr>\n",
       "      <th>919</th>\n",
       "      <td>923</td>\n",
       "      <td>162615</td>\n",
       "      <td>1960</td>\n",
       "      <td>10</td>\n",
       "      <td>1</td>\n",
       "      <td>1587</td>\n",
       "      <td>19959</td>\n",
       "      <td>12185</td>\n",
       "      <td>41778</td>\n",
       "      <td>30232</td>\n",
       "      <td>6520</td>\n",
       "    </tr>\n",
       "    <tr>\n",
       "      <th>952</th>\n",
       "      <td>957</td>\n",
       "      <td>162615</td>\n",
       "      <td>34726</td>\n",
       "      <td>10</td>\n",
       "      <td>1</td>\n",
       "      <td>0</td>\n",
       "      <td>40205</td>\n",
       "      <td>34711</td>\n",
       "      <td>34708</td>\n",
       "      <td>43020</td>\n",
       "      <td>36584</td>\n",
       "    </tr>\n",
       "    <tr>\n",
       "      <th>...</th>\n",
       "      <td>...</td>\n",
       "      <td>...</td>\n",
       "      <td>...</td>\n",
       "      <td>...</td>\n",
       "      <td>...</td>\n",
       "      <td>...</td>\n",
       "      <td>...</td>\n",
       "      <td>...</td>\n",
       "      <td>...</td>\n",
       "      <td>...</td>\n",
       "      <td>...</td>\n",
       "    </tr>\n",
       "    <tr>\n",
       "      <th>1513314</th>\n",
       "      <td>1515251</td>\n",
       "      <td>256792</td>\n",
       "      <td>27631</td>\n",
       "      <td>0</td>\n",
       "      <td>1</td>\n",
       "      <td>9</td>\n",
       "      <td>31710</td>\n",
       "      <td>36475</td>\n",
       "      <td>36316</td>\n",
       "      <td>12487</td>\n",
       "      <td>10456</td>\n",
       "    </tr>\n",
       "    <tr>\n",
       "      <th>1513324</th>\n",
       "      <td>1515261</td>\n",
       "      <td>256792</td>\n",
       "      <td>28311</td>\n",
       "      <td>0</td>\n",
       "      <td>1</td>\n",
       "      <td>1</td>\n",
       "      <td>36956</td>\n",
       "      <td>823</td>\n",
       "      <td>20177</td>\n",
       "      <td>19631</td>\n",
       "      <td>18039</td>\n",
       "    </tr>\n",
       "    <tr>\n",
       "      <th>1513341</th>\n",
       "      <td>1515278</td>\n",
       "      <td>256792</td>\n",
       "      <td>11005</td>\n",
       "      <td>0</td>\n",
       "      <td>1</td>\n",
       "      <td>0</td>\n",
       "      <td>39972</td>\n",
       "      <td>1556</td>\n",
       "      <td>39382</td>\n",
       "      <td>4010</td>\n",
       "      <td>1966</td>\n",
       "    </tr>\n",
       "    <tr>\n",
       "      <th>1513345</th>\n",
       "      <td>1515282</td>\n",
       "      <td>256792</td>\n",
       "      <td>4473</td>\n",
       "      <td>0</td>\n",
       "      <td>1</td>\n",
       "      <td>0</td>\n",
       "      <td>3210</td>\n",
       "      <td>8634</td>\n",
       "      <td>8339</td>\n",
       "      <td>8190</td>\n",
       "      <td>722</td>\n",
       "    </tr>\n",
       "    <tr>\n",
       "      <th>1513353</th>\n",
       "      <td>1515290</td>\n",
       "      <td>256792</td>\n",
       "      <td>10119</td>\n",
       "      <td>0</td>\n",
       "      <td>1</td>\n",
       "      <td>0</td>\n",
       "      <td>33839</td>\n",
       "      <td>20449</td>\n",
       "      <td>20039</td>\n",
       "      <td>1888</td>\n",
       "      <td>9471</td>\n",
       "    </tr>\n",
       "  </tbody>\n",
       "</table>\n",
       "<p>60467 rows × 11 columns</p>\n",
       "</div>"
      ],
      "text/plain": [
       "         Unnamed: 0  user_id  MAL_ID  rating  watching_status  \\\n",
       "176             179   131988   41573       0                1   \n",
       "414             417   297931    9968       0                1   \n",
       "723             727   189037   36064       7                1   \n",
       "919             923   162615    1960      10                1   \n",
       "952             957   162615   34726      10                1   \n",
       "...             ...      ...     ...     ...              ...   \n",
       "1513314     1515251   256792   27631       0                1   \n",
       "1513324     1515261   256792   28311       0                1   \n",
       "1513341     1515278   256792   11005       0                1   \n",
       "1513345     1515282   256792    4473       0                1   \n",
       "1513353     1515290   256792   10119       0                1   \n",
       "\n",
       "         watched_episodes    ID1    ID2    ID3    ID4    ID5  \n",
       "176                    11  37576  40357  40356  31859  35790  \n",
       "414                     0   3707   5743   6531   1403  24271  \n",
       "723                    45  28351  14663  37505  38807  27891  \n",
       "919                  1587  19959  12185  41778  30232   6520  \n",
       "952                     0  40205  34711  34708  43020  36584  \n",
       "...                   ...    ...    ...    ...    ...    ...  \n",
       "1513314                 9  31710  36475  36316  12487  10456  \n",
       "1513324                 1  36956    823  20177  19631  18039  \n",
       "1513341                 0  39972   1556  39382   4010   1966  \n",
       "1513345                 0   3210   8634   8339   8190    722  \n",
       "1513353                 0  33839  20449  20039   1888   9471  \n",
       "\n",
       "[60467 rows x 11 columns]"
      ]
     },
     "execution_count": 75,
     "metadata": {},
     "output_type": "execute_result"
    }
   ],
   "source": [
    "df[(df['watching_status']==1)]"
   ]
  },
  {
   "cell_type": "code",
   "execution_count": 76,
   "id": "233cc143-862b-482f-b992-3f989b9203c3",
   "metadata": {},
   "outputs": [
    {
     "data": {
      "text/plain": [
       "0"
      ]
     },
     "execution_count": 76,
     "metadata": {},
     "output_type": "execute_result"
    }
   ],
   "source": [
    "sum(df.isnull().sum())"
   ]
  },
  {
   "cell_type": "code",
   "execution_count": 77,
   "id": "9c4a79af-1e2e-4465-8fe6-947f55db2e93",
   "metadata": {},
   "outputs": [
    {
     "data": {
      "text/plain": [
       "15153"
      ]
     },
     "execution_count": 77,
     "metadata": {},
     "output_type": "execute_result"
    }
   ],
   "source": [
    "df['user_id'].nunique()"
   ]
  },
  {
   "cell_type": "code",
   "execution_count": 78,
   "id": "60ac2372-2313-4ac8-a8ef-df49e9cdb9da",
   "metadata": {},
   "outputs": [],
   "source": [
    "# 1 Currently Watching\n",
    "# 2 Completed\n",
    "# 3 On Hold\n",
    "# 4 Dropped\n",
    "# 6 Plan to Watch"
   ]
  },
  {
   "cell_type": "code",
   "execution_count": 79,
   "id": "46a6f042-893d-42cf-bf1b-5837b15ae704",
   "metadata": {},
   "outputs": [
    {
     "data": {
      "text/html": [
       "<div>\n",
       "<style scoped>\n",
       "    .dataframe tbody tr th:only-of-type {\n",
       "        vertical-align: middle;\n",
       "    }\n",
       "\n",
       "    .dataframe tbody tr th {\n",
       "        vertical-align: top;\n",
       "    }\n",
       "\n",
       "    .dataframe thead th {\n",
       "        text-align: right;\n",
       "    }\n",
       "</style>\n",
       "<table border=\"1\" class=\"dataframe\">\n",
       "  <thead>\n",
       "    <tr style=\"text-align: right;\">\n",
       "      <th></th>\n",
       "      <th>Unnamed: 0</th>\n",
       "      <th>user_id</th>\n",
       "      <th>MAL_ID</th>\n",
       "      <th>rating</th>\n",
       "      <th>watching_status</th>\n",
       "      <th>watched_episodes</th>\n",
       "      <th>ID1</th>\n",
       "      <th>ID2</th>\n",
       "      <th>ID3</th>\n",
       "      <th>ID4</th>\n",
       "      <th>ID5</th>\n",
       "    </tr>\n",
       "  </thead>\n",
       "  <tbody>\n",
       "    <tr>\n",
       "      <th>242</th>\n",
       "      <td>245</td>\n",
       "      <td>312302</td>\n",
       "      <td>2391</td>\n",
       "      <td>10</td>\n",
       "      <td>2</td>\n",
       "      <td>52</td>\n",
       "      <td>607</td>\n",
       "      <td>115</td>\n",
       "      <td>872</td>\n",
       "      <td>352</td>\n",
       "      <td>3008</td>\n",
       "    </tr>\n",
       "    <tr>\n",
       "      <th>234</th>\n",
       "      <td>237</td>\n",
       "      <td>312302</td>\n",
       "      <td>340</td>\n",
       "      <td>10</td>\n",
       "      <td>2</td>\n",
       "      <td>26</td>\n",
       "      <td>6056</td>\n",
       "      <td>31904</td>\n",
       "      <td>551</td>\n",
       "      <td>287</td>\n",
       "      <td>3972</td>\n",
       "    </tr>\n",
       "    <tr>\n",
       "      <th>229</th>\n",
       "      <td>232</td>\n",
       "      <td>312302</td>\n",
       "      <td>339</td>\n",
       "      <td>10</td>\n",
       "      <td>2</td>\n",
       "      <td>13</td>\n",
       "      <td>782</td>\n",
       "      <td>323</td>\n",
       "      <td>9989</td>\n",
       "      <td>150</td>\n",
       "      <td>28223</td>\n",
       "    </tr>\n",
       "    <tr>\n",
       "      <th>245</th>\n",
       "      <td>248</td>\n",
       "      <td>312302</td>\n",
       "      <td>9331</td>\n",
       "      <td>10</td>\n",
       "      <td>2</td>\n",
       "      <td>13</td>\n",
       "      <td>3656</td>\n",
       "      <td>6747</td>\n",
       "      <td>4725</td>\n",
       "      <td>2252</td>\n",
       "      <td>10372</td>\n",
       "    </tr>\n",
       "    <tr>\n",
       "      <th>289</th>\n",
       "      <td>292</td>\n",
       "      <td>312302</td>\n",
       "      <td>3712</td>\n",
       "      <td>10</td>\n",
       "      <td>2</td>\n",
       "      <td>12</td>\n",
       "      <td>1195</td>\n",
       "      <td>1840</td>\n",
       "      <td>36407</td>\n",
       "      <td>22877</td>\n",
       "      <td>31845</td>\n",
       "    </tr>\n",
       "    <tr>\n",
       "      <th>...</th>\n",
       "      <td>...</td>\n",
       "      <td>...</td>\n",
       "      <td>...</td>\n",
       "      <td>...</td>\n",
       "      <td>...</td>\n",
       "      <td>...</td>\n",
       "      <td>...</td>\n",
       "      <td>...</td>\n",
       "      <td>...</td>\n",
       "      <td>...</td>\n",
       "      <td>...</td>\n",
       "    </tr>\n",
       "    <tr>\n",
       "      <th>284</th>\n",
       "      <td>287</td>\n",
       "      <td>312302</td>\n",
       "      <td>39029</td>\n",
       "      <td>0</td>\n",
       "      <td>6</td>\n",
       "      <td>0</td>\n",
       "      <td>14211</td>\n",
       "      <td>8685</td>\n",
       "      <td>14213</td>\n",
       "      <td>42852</td>\n",
       "      <td>40273</td>\n",
       "    </tr>\n",
       "    <tr>\n",
       "      <th>288</th>\n",
       "      <td>291</td>\n",
       "      <td>312302</td>\n",
       "      <td>41092</td>\n",
       "      <td>0</td>\n",
       "      <td>6</td>\n",
       "      <td>0</td>\n",
       "      <td>32763</td>\n",
       "      <td>34910</td>\n",
       "      <td>34908</td>\n",
       "      <td>37553</td>\n",
       "      <td>36089</td>\n",
       "    </tr>\n",
       "    <tr>\n",
       "      <th>290</th>\n",
       "      <td>293</td>\n",
       "      <td>312302</td>\n",
       "      <td>2624</td>\n",
       "      <td>0</td>\n",
       "      <td>6</td>\n",
       "      <td>0</td>\n",
       "      <td>2554</td>\n",
       "      <td>2553</td>\n",
       "      <td>2576</td>\n",
       "      <td>2548</td>\n",
       "      <td>2568</td>\n",
       "    </tr>\n",
       "    <tr>\n",
       "      <th>291</th>\n",
       "      <td>294</td>\n",
       "      <td>312302</td>\n",
       "      <td>44225</td>\n",
       "      <td>0</td>\n",
       "      <td>6</td>\n",
       "      <td>0</td>\n",
       "      <td>38484</td>\n",
       "      <td>27437</td>\n",
       "      <td>32621</td>\n",
       "      <td>4124</td>\n",
       "      <td>37482</td>\n",
       "    </tr>\n",
       "    <tr>\n",
       "      <th>293</th>\n",
       "      <td>296</td>\n",
       "      <td>312302</td>\n",
       "      <td>35233</td>\n",
       "      <td>0</td>\n",
       "      <td>6</td>\n",
       "      <td>0</td>\n",
       "      <td>35576</td>\n",
       "      <td>35234</td>\n",
       "      <td>36581</td>\n",
       "      <td>33858</td>\n",
       "      <td>33915</td>\n",
       "    </tr>\n",
       "  </tbody>\n",
       "</table>\n",
       "<p>100 rows × 11 columns</p>\n",
       "</div>"
      ],
      "text/plain": [
       "     Unnamed: 0  user_id  MAL_ID  rating  watching_status  watched_episodes  \\\n",
       "242         245   312302    2391      10                2                52   \n",
       "234         237   312302     340      10                2                26   \n",
       "229         232   312302     339      10                2                13   \n",
       "245         248   312302    9331      10                2                13   \n",
       "289         292   312302    3712      10                2                12   \n",
       "..          ...      ...     ...     ...              ...               ...   \n",
       "284         287   312302   39029       0                6                 0   \n",
       "288         291   312302   41092       0                6                 0   \n",
       "290         293   312302    2624       0                6                 0   \n",
       "291         294   312302   44225       0                6                 0   \n",
       "293         296   312302   35233       0                6                 0   \n",
       "\n",
       "       ID1    ID2    ID3    ID4    ID5  \n",
       "242    607    115    872    352   3008  \n",
       "234   6056  31904    551    287   3972  \n",
       "229    782    323   9989    150  28223  \n",
       "245   3656   6747   4725   2252  10372  \n",
       "289   1195   1840  36407  22877  31845  \n",
       "..     ...    ...    ...    ...    ...  \n",
       "284  14211   8685  14213  42852  40273  \n",
       "288  32763  34910  34908  37553  36089  \n",
       "290   2554   2553   2576   2548   2568  \n",
       "291  38484  27437  32621   4124  37482  \n",
       "293  35576  35234  36581  33858  33915  \n",
       "\n",
       "[100 rows x 11 columns]"
      ]
     },
     "execution_count": 79,
     "metadata": {},
     "output_type": "execute_result"
    }
   ],
   "source": [
    "tep = df[(df['user_id']==312302)].sort_values(['rating', 'watched_episodes', 'watching_status'], ascending=False)\n",
    "# for i in ['ID1', 'ID2', 'ID3', 'ID4', 'ID5']:\n",
    "#     print(i, ': ')\n",
    "#     print(tep[i].value_counts().sort_values(ascending=False))\n",
    "tep"
   ]
  },
  {
   "cell_type": "markdown",
   "id": "00a35487-4040-46c7-adef-0c920bf125bc",
   "metadata": {
    "jp-MarkdownHeadingCollapsed": true,
    "tags": []
   },
   "source": [
    "### CSV SUB"
   ]
  },
  {
   "cell_type": "code",
   "execution_count": 80,
   "id": "d88850a6-2a5c-4277-85f9-10f953a3e17f",
   "metadata": {},
   "outputs": [
    {
     "data": {
      "text/plain": [
       "(15153, 2)"
      ]
     },
     "execution_count": 80,
     "metadata": {},
     "output_type": "execute_result"
    }
   ],
   "source": [
    "sub.shape"
   ]
  },
  {
   "cell_type": "code",
   "execution_count": 81,
   "id": "66707337-2b89-4a06-b5fb-13b743bbe0be",
   "metadata": {},
   "outputs": [
    {
     "data": {
      "text/html": [
       "<div>\n",
       "<style scoped>\n",
       "    .dataframe tbody tr th:only-of-type {\n",
       "        vertical-align: middle;\n",
       "    }\n",
       "\n",
       "    .dataframe tbody tr th {\n",
       "        vertical-align: top;\n",
       "    }\n",
       "\n",
       "    .dataframe thead th {\n",
       "        text-align: right;\n",
       "    }\n",
       "</style>\n",
       "<table border=\"1\" class=\"dataframe\">\n",
       "  <thead>\n",
       "    <tr style=\"text-align: right;\">\n",
       "      <th></th>\n",
       "      <th>user_id</th>\n",
       "      <th>anime_ids</th>\n",
       "    </tr>\n",
       "  </thead>\n",
       "  <tbody>\n",
       "    <tr>\n",
       "      <th>0</th>\n",
       "      <td>20807</td>\n",
       "      <td>1691 1691 1691 1691 1691</td>\n",
       "    </tr>\n",
       "    <tr>\n",
       "      <th>1</th>\n",
       "      <td>131988</td>\n",
       "      <td>1691 1691 1691 1691 1691</td>\n",
       "    </tr>\n",
       "    <tr>\n",
       "      <th>2</th>\n",
       "      <td>312302</td>\n",
       "      <td>1691 1691 1691 1691 1691</td>\n",
       "    </tr>\n",
       "    <tr>\n",
       "      <th>3</th>\n",
       "      <td>283786</td>\n",
       "      <td>1691 1691 1691 1691 1691</td>\n",
       "    </tr>\n",
       "    <tr>\n",
       "      <th>4</th>\n",
       "      <td>297931</td>\n",
       "      <td>1691 1691 1691 1691 1691</td>\n",
       "    </tr>\n",
       "  </tbody>\n",
       "</table>\n",
       "</div>"
      ],
      "text/plain": [
       "   user_id                 anime_ids\n",
       "0    20807  1691 1691 1691 1691 1691\n",
       "1   131988  1691 1691 1691 1691 1691\n",
       "2   312302  1691 1691 1691 1691 1691\n",
       "3   283786  1691 1691 1691 1691 1691\n",
       "4   297931  1691 1691 1691 1691 1691"
      ]
     },
     "execution_count": 81,
     "metadata": {},
     "output_type": "execute_result"
    }
   ],
   "source": [
    "sub.head()"
   ]
  },
  {
   "cell_type": "code",
   "execution_count": 93,
   "id": "6d69bad7-579f-4d2d-a0f6-7217b2079296",
   "metadata": {},
   "outputs": [
    {
     "data": {
      "text/html": [
       "<div>\n",
       "<style scoped>\n",
       "    .dataframe tbody tr th:only-of-type {\n",
       "        vertical-align: middle;\n",
       "    }\n",
       "\n",
       "    .dataframe tbody tr th {\n",
       "        vertical-align: top;\n",
       "    }\n",
       "\n",
       "    .dataframe thead th {\n",
       "        text-align: right;\n",
       "    }\n",
       "</style>\n",
       "<table border=\"1\" class=\"dataframe\">\n",
       "  <thead>\n",
       "    <tr style=\"text-align: right;\">\n",
       "      <th></th>\n",
       "      <th>Unnamed: 0</th>\n",
       "      <th>user_id</th>\n",
       "      <th>MAL_ID</th>\n",
       "      <th>rating</th>\n",
       "      <th>watching_status</th>\n",
       "      <th>watched_episodes</th>\n",
       "      <th>ID1</th>\n",
       "      <th>ID2</th>\n",
       "      <th>ID3</th>\n",
       "      <th>ID4</th>\n",
       "      <th>ID5</th>\n",
       "    </tr>\n",
       "  </thead>\n",
       "  <tbody>\n",
       "    <tr>\n",
       "      <th>242</th>\n",
       "      <td>245</td>\n",
       "      <td>312302</td>\n",
       "      <td>2391</td>\n",
       "      <td>10</td>\n",
       "      <td>2</td>\n",
       "      <td>52</td>\n",
       "      <td>607</td>\n",
       "      <td>115</td>\n",
       "      <td>872</td>\n",
       "      <td>352</td>\n",
       "      <td>3008</td>\n",
       "    </tr>\n",
       "    <tr>\n",
       "      <th>234</th>\n",
       "      <td>237</td>\n",
       "      <td>312302</td>\n",
       "      <td>340</td>\n",
       "      <td>10</td>\n",
       "      <td>2</td>\n",
       "      <td>26</td>\n",
       "      <td>6056</td>\n",
       "      <td>31904</td>\n",
       "      <td>551</td>\n",
       "      <td>287</td>\n",
       "      <td>3972</td>\n",
       "    </tr>\n",
       "    <tr>\n",
       "      <th>229</th>\n",
       "      <td>232</td>\n",
       "      <td>312302</td>\n",
       "      <td>339</td>\n",
       "      <td>10</td>\n",
       "      <td>2</td>\n",
       "      <td>13</td>\n",
       "      <td>782</td>\n",
       "      <td>323</td>\n",
       "      <td>9989</td>\n",
       "      <td>150</td>\n",
       "      <td>28223</td>\n",
       "    </tr>\n",
       "    <tr>\n",
       "      <th>245</th>\n",
       "      <td>248</td>\n",
       "      <td>312302</td>\n",
       "      <td>9331</td>\n",
       "      <td>10</td>\n",
       "      <td>2</td>\n",
       "      <td>13</td>\n",
       "      <td>3656</td>\n",
       "      <td>6747</td>\n",
       "      <td>4725</td>\n",
       "      <td>2252</td>\n",
       "      <td>10372</td>\n",
       "    </tr>\n",
       "    <tr>\n",
       "      <th>289</th>\n",
       "      <td>292</td>\n",
       "      <td>312302</td>\n",
       "      <td>3712</td>\n",
       "      <td>10</td>\n",
       "      <td>2</td>\n",
       "      <td>12</td>\n",
       "      <td>1195</td>\n",
       "      <td>1840</td>\n",
       "      <td>36407</td>\n",
       "      <td>22877</td>\n",
       "      <td>31845</td>\n",
       "    </tr>\n",
       "    <tr>\n",
       "      <th>...</th>\n",
       "      <td>...</td>\n",
       "      <td>...</td>\n",
       "      <td>...</td>\n",
       "      <td>...</td>\n",
       "      <td>...</td>\n",
       "      <td>...</td>\n",
       "      <td>...</td>\n",
       "      <td>...</td>\n",
       "      <td>...</td>\n",
       "      <td>...</td>\n",
       "      <td>...</td>\n",
       "    </tr>\n",
       "    <tr>\n",
       "      <th>284</th>\n",
       "      <td>287</td>\n",
       "      <td>312302</td>\n",
       "      <td>39029</td>\n",
       "      <td>0</td>\n",
       "      <td>6</td>\n",
       "      <td>0</td>\n",
       "      <td>14211</td>\n",
       "      <td>8685</td>\n",
       "      <td>14213</td>\n",
       "      <td>42852</td>\n",
       "      <td>40273</td>\n",
       "    </tr>\n",
       "    <tr>\n",
       "      <th>288</th>\n",
       "      <td>291</td>\n",
       "      <td>312302</td>\n",
       "      <td>41092</td>\n",
       "      <td>0</td>\n",
       "      <td>6</td>\n",
       "      <td>0</td>\n",
       "      <td>32763</td>\n",
       "      <td>34910</td>\n",
       "      <td>34908</td>\n",
       "      <td>37553</td>\n",
       "      <td>36089</td>\n",
       "    </tr>\n",
       "    <tr>\n",
       "      <th>290</th>\n",
       "      <td>293</td>\n",
       "      <td>312302</td>\n",
       "      <td>2624</td>\n",
       "      <td>0</td>\n",
       "      <td>6</td>\n",
       "      <td>0</td>\n",
       "      <td>2554</td>\n",
       "      <td>2553</td>\n",
       "      <td>2576</td>\n",
       "      <td>2548</td>\n",
       "      <td>2568</td>\n",
       "    </tr>\n",
       "    <tr>\n",
       "      <th>291</th>\n",
       "      <td>294</td>\n",
       "      <td>312302</td>\n",
       "      <td>44225</td>\n",
       "      <td>0</td>\n",
       "      <td>6</td>\n",
       "      <td>0</td>\n",
       "      <td>38484</td>\n",
       "      <td>27437</td>\n",
       "      <td>32621</td>\n",
       "      <td>4124</td>\n",
       "      <td>37482</td>\n",
       "    </tr>\n",
       "    <tr>\n",
       "      <th>293</th>\n",
       "      <td>296</td>\n",
       "      <td>312302</td>\n",
       "      <td>35233</td>\n",
       "      <td>0</td>\n",
       "      <td>6</td>\n",
       "      <td>0</td>\n",
       "      <td>35576</td>\n",
       "      <td>35234</td>\n",
       "      <td>36581</td>\n",
       "      <td>33858</td>\n",
       "      <td>33915</td>\n",
       "    </tr>\n",
       "  </tbody>\n",
       "</table>\n",
       "<p>100 rows × 11 columns</p>\n",
       "</div>"
      ],
      "text/plain": [
       "     Unnamed: 0  user_id  MAL_ID  rating  watching_status  watched_episodes  \\\n",
       "242         245   312302    2391      10                2                52   \n",
       "234         237   312302     340      10                2                26   \n",
       "229         232   312302     339      10                2                13   \n",
       "245         248   312302    9331      10                2                13   \n",
       "289         292   312302    3712      10                2                12   \n",
       "..          ...      ...     ...     ...              ...               ...   \n",
       "284         287   312302   39029       0                6                 0   \n",
       "288         291   312302   41092       0                6                 0   \n",
       "290         293   312302    2624       0                6                 0   \n",
       "291         294   312302   44225       0                6                 0   \n",
       "293         296   312302   35233       0                6                 0   \n",
       "\n",
       "       ID1    ID2    ID3    ID4    ID5  \n",
       "242    607    115    872    352   3008  \n",
       "234   6056  31904    551    287   3972  \n",
       "229    782    323   9989    150  28223  \n",
       "245   3656   6747   4725   2252  10372  \n",
       "289   1195   1840  36407  22877  31845  \n",
       "..     ...    ...    ...    ...    ...  \n",
       "284  14211   8685  14213  42852  40273  \n",
       "288  32763  34910  34908  37553  36089  \n",
       "290   2554   2553   2576   2548   2568  \n",
       "291  38484  27437  32621   4124  37482  \n",
       "293  35576  35234  36581  33858  33915  \n",
       "\n",
       "[100 rows x 11 columns]"
      ]
     },
     "execution_count": 93,
     "metadata": {},
     "output_type": "execute_result"
    }
   ],
   "source": [
    "df[(df['user_id']==312302)].sort_values(['rating', 'watched_episodes', 'watching_status'], ascending=False)"
   ]
  },
  {
   "cell_type": "code",
   "execution_count": 99,
   "id": "ba8483b5-30ea-4396-899d-98cfe54c8d2d",
   "metadata": {},
   "outputs": [
    {
     "data": {
      "text/plain": [
       "[872, 551, 9989, 4725, 36407]"
      ]
     },
     "execution_count": 99,
     "metadata": {},
     "output_type": "execute_result"
    }
   ],
   "source": [
    "tep = df[(df['user_id']==312302)].sort_values(['rating', 'watched_episodes', 'watching_status'], ascending=False).iloc[:5, 8].values.tolist()\n",
    "tep"
   ]
  },
  {
   "cell_type": "code",
   "execution_count": 106,
   "id": "c91e8ca2-15c7-480e-b0b5-dd14a31c5af2",
   "metadata": {},
   "outputs": [],
   "source": [
    "my_sub = {'user_id':[], 'anime_ids':[]}\n",
    "for user in sub['user_id'].values.tolist():\n",
    "    s = ''\n",
    "    tep = df[(df['user_id']==user)].sort_values(['rating', 'watched_episodes', 'watching_status'], ascending=False).iloc[:5, 9].values.tolist()\n",
    "    s = ' '.join(str(x) for x in tep)\n",
    "    my_sub['user_id'].append(user)\n",
    "    my_sub['anime_ids'].append(s)\n"
   ]
  },
  {
   "cell_type": "code",
   "execution_count": 107,
   "id": "5c9d0dfc-f082-45f3-8351-a17635b3303d",
   "metadata": {},
   "outputs": [],
   "source": [
    "my_sub = pd.DataFrame(my_sub, columns=['user_id', 'anime_ids'])\n",
    "my_sub.to_csv('sub8.csv', index=False)"
   ]
  },
  {
   "cell_type": "code",
   "execution_count": null,
   "id": "a80a10cb-5f46-4de1-83fe-4134d29deff5",
   "metadata": {},
   "outputs": [],
   "source": []
  }
 ],
 "metadata": {
  "kernelspec": {
   "display_name": "Python 3",
   "language": "python",
   "name": "python3"
  },
  "language_info": {
   "codemirror_mode": {
    "name": "ipython",
    "version": 3
   },
   "file_extension": ".py",
   "mimetype": "text/x-python",
   "name": "python",
   "nbconvert_exporter": "python",
   "pygments_lexer": "ipython3",
   "version": "3.9.7"
  }
 },
 "nbformat": 4,
 "nbformat_minor": 5
}
