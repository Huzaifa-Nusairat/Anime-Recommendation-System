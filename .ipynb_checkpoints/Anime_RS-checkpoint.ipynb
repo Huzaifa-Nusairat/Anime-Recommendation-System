{
 "cells": [
  {
   "cell_type": "markdown",
   "id": "0bcf71a3-113b-4844-92d8-89463da416ba",
   "metadata": {
    "jp-MarkdownHeadingCollapsed": true,
    "tags": []
   },
   "source": [
    "### Libraries"
   ]
  },
  {
   "cell_type": "code",
   "execution_count": 1,
   "id": "6dbf2118-c2cd-4ed9-9da1-9e0aba5682f1",
   "metadata": {},
   "outputs": [],
   "source": [
    "import pandas as pd\n",
    "import numpy as np\n",
    "import matplotlib.pyplot as plt\n",
    "import seaborn as sns\n",
    "import scipy as sc\n",
    "from sklearn.linear_model import LinearRegression\n",
    "from sklearn.preprocessing import MaxAbsScaler\n",
    "import category_encoders as ce\n",
    "from sklearn.neighbors import NearestNeighbors\n",
    "from sklearn.decomposition import PCA "
   ]
  },
  {
   "cell_type": "markdown",
   "id": "02938188-dba1-4d0b-9d1e-4bf138d50904",
   "metadata": {
    "jp-MarkdownHeadingCollapsed": true,
    "tags": []
   },
   "source": [
    "### Read Data"
   ]
  },
  {
   "cell_type": "code",
   "execution_count": 2,
   "id": "f4ab2659-c600-40e8-aa25-01b38627512b",
   "metadata": {},
   "outputs": [
    {
     "name": "stdout",
     "output_type": "stream",
     "text": [
      "Read Data from train.csv, anime.csv, rating_complete.csv and sample.csv is Done 😀\n",
      "The shape of Train:  (1515300, 6)\n",
      "The shape of Anime:  (17562, 35)\n",
      "The shape of Rating_Complete:  (57633278, 3)\n"
     ]
    }
   ],
   "source": [
    "path = '/home/huzaifa/Downloads/T_UAE training/ML2/Anime_Recommendation_System/Data/'\n",
    " \n",
    "try:\n",
    "    train_df = pd.read_csv(path+'train.csv')\n",
    "    anime = pd.read_csv(path+'anime.csv')\n",
    "    r_comp = pd.read_csv(path+'rating_complete.csv')\n",
    "    sub = pd.read_csv(path+'sample.csv')\n",
    "    print('Read Data from {} is Done \\U0001f600'.format('train.csv, anime.csv, rating_complete.csv and sample.csv'))\n",
    "    print('The shape of Train: ', train_df.shape)\n",
    "    print('The shape of Anime: ', anime.shape)\n",
    "    print('The shape of Rating_Complete: ', r_comp.shape)\n",
    "except Exception:\n",
    "    print('Can\\'t read Data ..! \\U0001F923')"
   ]
  },
  {
   "cell_type": "code",
   "execution_count": 3,
   "id": "ff2d125d-e7cf-4685-8ff6-726d80b6ca8c",
   "metadata": {},
   "outputs": [
    {
     "name": "stdout",
     "output_type": "stream",
     "text": [
      "Train DF Data: \n"
     ]
    },
    {
     "data": {
      "text/html": [
       "<div>\n",
       "<style scoped>\n",
       "    .dataframe tbody tr th:only-of-type {\n",
       "        vertical-align: middle;\n",
       "    }\n",
       "\n",
       "    .dataframe tbody tr th {\n",
       "        vertical-align: top;\n",
       "    }\n",
       "\n",
       "    .dataframe thead th {\n",
       "        text-align: right;\n",
       "    }\n",
       "</style>\n",
       "<table border=\"1\" class=\"dataframe\">\n",
       "  <thead>\n",
       "    <tr style=\"text-align: right;\">\n",
       "      <th></th>\n",
       "      <th>Unnamed: 0</th>\n",
       "      <th>user_id</th>\n",
       "      <th>anime_id</th>\n",
       "      <th>rating</th>\n",
       "      <th>watching_status</th>\n",
       "      <th>watched_episodes</th>\n",
       "    </tr>\n",
       "  </thead>\n",
       "  <tbody>\n",
       "    <tr>\n",
       "      <th>0</th>\n",
       "      <td>0</td>\n",
       "      <td>20807</td>\n",
       "      <td>4282</td>\n",
       "      <td>10</td>\n",
       "      <td>2</td>\n",
       "      <td>1</td>\n",
       "    </tr>\n",
       "    <tr>\n",
       "      <th>1</th>\n",
       "      <td>1</td>\n",
       "      <td>20807</td>\n",
       "      <td>5665</td>\n",
       "      <td>0</td>\n",
       "      <td>6</td>\n",
       "      <td>0</td>\n",
       "    </tr>\n",
       "    <tr>\n",
       "      <th>2</th>\n",
       "      <td>2</td>\n",
       "      <td>20807</td>\n",
       "      <td>36127</td>\n",
       "      <td>0</td>\n",
       "      <td>6</td>\n",
       "      <td>0</td>\n",
       "    </tr>\n",
       "    <tr>\n",
       "      <th>3</th>\n",
       "      <td>3</td>\n",
       "      <td>20807</td>\n",
       "      <td>38163</td>\n",
       "      <td>0</td>\n",
       "      <td>6</td>\n",
       "      <td>0</td>\n",
       "    </tr>\n",
       "    <tr>\n",
       "      <th>4</th>\n",
       "      <td>4</td>\n",
       "      <td>20807</td>\n",
       "      <td>1284</td>\n",
       "      <td>0</td>\n",
       "      <td>6</td>\n",
       "      <td>0</td>\n",
       "    </tr>\n",
       "  </tbody>\n",
       "</table>\n",
       "</div>"
      ],
      "text/plain": [
       "   Unnamed: 0  user_id  anime_id  rating  watching_status  watched_episodes\n",
       "0           0    20807      4282      10                2                 1\n",
       "1           1    20807      5665       0                6                 0\n",
       "2           2    20807     36127       0                6                 0\n",
       "3           3    20807     38163       0                6                 0\n",
       "4           4    20807      1284       0                6                 0"
      ]
     },
     "metadata": {},
     "output_type": "display_data"
    },
    {
     "name": "stdout",
     "output_type": "stream",
     "text": [
      "Anime Data: \n"
     ]
    },
    {
     "data": {
      "text/html": [
       "<div>\n",
       "<style scoped>\n",
       "    .dataframe tbody tr th:only-of-type {\n",
       "        vertical-align: middle;\n",
       "    }\n",
       "\n",
       "    .dataframe tbody tr th {\n",
       "        vertical-align: top;\n",
       "    }\n",
       "\n",
       "    .dataframe thead th {\n",
       "        text-align: right;\n",
       "    }\n",
       "</style>\n",
       "<table border=\"1\" class=\"dataframe\">\n",
       "  <thead>\n",
       "    <tr style=\"text-align: right;\">\n",
       "      <th></th>\n",
       "      <th>MAL_ID</th>\n",
       "      <th>Name</th>\n",
       "      <th>Score</th>\n",
       "      <th>Genres</th>\n",
       "      <th>English name</th>\n",
       "      <th>Japanese name</th>\n",
       "      <th>Type</th>\n",
       "      <th>Episodes</th>\n",
       "      <th>Aired</th>\n",
       "      <th>Premiered</th>\n",
       "      <th>...</th>\n",
       "      <th>Score-10</th>\n",
       "      <th>Score-9</th>\n",
       "      <th>Score-8</th>\n",
       "      <th>Score-7</th>\n",
       "      <th>Score-6</th>\n",
       "      <th>Score-5</th>\n",
       "      <th>Score-4</th>\n",
       "      <th>Score-3</th>\n",
       "      <th>Score-2</th>\n",
       "      <th>Score-1</th>\n",
       "    </tr>\n",
       "  </thead>\n",
       "  <tbody>\n",
       "    <tr>\n",
       "      <th>0</th>\n",
       "      <td>1</td>\n",
       "      <td>Cowboy Bebop</td>\n",
       "      <td>8.78</td>\n",
       "      <td>Action, Adventure, Comedy, Drama, Sci-Fi, Space</td>\n",
       "      <td>Cowboy Bebop</td>\n",
       "      <td>カウボーイビバップ</td>\n",
       "      <td>TV</td>\n",
       "      <td>26</td>\n",
       "      <td>Apr 3, 1998 to Apr 24, 1999</td>\n",
       "      <td>Spring 1998</td>\n",
       "      <td>...</td>\n",
       "      <td>229170.0</td>\n",
       "      <td>182126.0</td>\n",
       "      <td>131625.0</td>\n",
       "      <td>62330.0</td>\n",
       "      <td>20688.0</td>\n",
       "      <td>8904.0</td>\n",
       "      <td>3184.0</td>\n",
       "      <td>1357.0</td>\n",
       "      <td>741.0</td>\n",
       "      <td>1580.0</td>\n",
       "    </tr>\n",
       "    <tr>\n",
       "      <th>1</th>\n",
       "      <td>5</td>\n",
       "      <td>Cowboy Bebop: Tengoku no Tobira</td>\n",
       "      <td>8.39</td>\n",
       "      <td>Action, Drama, Mystery, Sci-Fi, Space</td>\n",
       "      <td>Cowboy Bebop:The Movie</td>\n",
       "      <td>カウボーイビバップ 天国の扉</td>\n",
       "      <td>Movie</td>\n",
       "      <td>1</td>\n",
       "      <td>Sep 1, 2001</td>\n",
       "      <td>Unknown</td>\n",
       "      <td>...</td>\n",
       "      <td>30043.0</td>\n",
       "      <td>49201.0</td>\n",
       "      <td>49505.0</td>\n",
       "      <td>22632.0</td>\n",
       "      <td>5805.0</td>\n",
       "      <td>1877.0</td>\n",
       "      <td>577.0</td>\n",
       "      <td>221.0</td>\n",
       "      <td>109.0</td>\n",
       "      <td>379.0</td>\n",
       "    </tr>\n",
       "    <tr>\n",
       "      <th>2</th>\n",
       "      <td>6</td>\n",
       "      <td>Trigun</td>\n",
       "      <td>8.24</td>\n",
       "      <td>Action, Sci-Fi, Adventure, Comedy, Drama, Shounen</td>\n",
       "      <td>Trigun</td>\n",
       "      <td>トライガン</td>\n",
       "      <td>TV</td>\n",
       "      <td>26</td>\n",
       "      <td>Apr 1, 1998 to Sep 30, 1998</td>\n",
       "      <td>Spring 1998</td>\n",
       "      <td>...</td>\n",
       "      <td>50229.0</td>\n",
       "      <td>75651.0</td>\n",
       "      <td>86142.0</td>\n",
       "      <td>49432.0</td>\n",
       "      <td>15376.0</td>\n",
       "      <td>5838.0</td>\n",
       "      <td>1965.0</td>\n",
       "      <td>664.0</td>\n",
       "      <td>316.0</td>\n",
       "      <td>533.0</td>\n",
       "    </tr>\n",
       "    <tr>\n",
       "      <th>3</th>\n",
       "      <td>7</td>\n",
       "      <td>Witch Hunter Robin</td>\n",
       "      <td>7.27</td>\n",
       "      <td>Action, Mystery, Police, Supernatural, Drama, ...</td>\n",
       "      <td>Witch Hunter Robin</td>\n",
       "      <td>Witch Hunter ROBIN (ウイッチハンターロビン)</td>\n",
       "      <td>TV</td>\n",
       "      <td>26</td>\n",
       "      <td>Jul 2, 2002 to Dec 24, 2002</td>\n",
       "      <td>Summer 2002</td>\n",
       "      <td>...</td>\n",
       "      <td>2182.0</td>\n",
       "      <td>4806.0</td>\n",
       "      <td>10128.0</td>\n",
       "      <td>11618.0</td>\n",
       "      <td>5709.0</td>\n",
       "      <td>2920.0</td>\n",
       "      <td>1083.0</td>\n",
       "      <td>353.0</td>\n",
       "      <td>164.0</td>\n",
       "      <td>131.0</td>\n",
       "    </tr>\n",
       "    <tr>\n",
       "      <th>4</th>\n",
       "      <td>8</td>\n",
       "      <td>Bouken Ou Beet</td>\n",
       "      <td>6.98</td>\n",
       "      <td>Adventure, Fantasy, Shounen, Supernatural</td>\n",
       "      <td>Beet the Vandel Buster</td>\n",
       "      <td>冒険王ビィト</td>\n",
       "      <td>TV</td>\n",
       "      <td>52</td>\n",
       "      <td>Sep 30, 2004 to Sep 29, 2005</td>\n",
       "      <td>Fall 2004</td>\n",
       "      <td>...</td>\n",
       "      <td>312.0</td>\n",
       "      <td>529.0</td>\n",
       "      <td>1242.0</td>\n",
       "      <td>1713.0</td>\n",
       "      <td>1068.0</td>\n",
       "      <td>634.0</td>\n",
       "      <td>265.0</td>\n",
       "      <td>83.0</td>\n",
       "      <td>50.0</td>\n",
       "      <td>27.0</td>\n",
       "    </tr>\n",
       "  </tbody>\n",
       "</table>\n",
       "<p>5 rows × 35 columns</p>\n",
       "</div>"
      ],
      "text/plain": [
       "   MAL_ID                             Name Score  \\\n",
       "0       1                     Cowboy Bebop  8.78   \n",
       "1       5  Cowboy Bebop: Tengoku no Tobira  8.39   \n",
       "2       6                           Trigun  8.24   \n",
       "3       7               Witch Hunter Robin  7.27   \n",
       "4       8                   Bouken Ou Beet  6.98   \n",
       "\n",
       "                                              Genres            English name  \\\n",
       "0    Action, Adventure, Comedy, Drama, Sci-Fi, Space            Cowboy Bebop   \n",
       "1              Action, Drama, Mystery, Sci-Fi, Space  Cowboy Bebop:The Movie   \n",
       "2  Action, Sci-Fi, Adventure, Comedy, Drama, Shounen                  Trigun   \n",
       "3  Action, Mystery, Police, Supernatural, Drama, ...      Witch Hunter Robin   \n",
       "4          Adventure, Fantasy, Shounen, Supernatural  Beet the Vandel Buster   \n",
       "\n",
       "                      Japanese name   Type Episodes  \\\n",
       "0                         カウボーイビバップ     TV       26   \n",
       "1                    カウボーイビバップ 天国の扉  Movie        1   \n",
       "2                             トライガン     TV       26   \n",
       "3  Witch Hunter ROBIN (ウイッチハンターロビン)     TV       26   \n",
       "4                            冒険王ビィト     TV       52   \n",
       "\n",
       "                          Aired    Premiered  ...  Score-10   Score-9  \\\n",
       "0   Apr 3, 1998 to Apr 24, 1999  Spring 1998  ...  229170.0  182126.0   \n",
       "1                   Sep 1, 2001      Unknown  ...   30043.0   49201.0   \n",
       "2   Apr 1, 1998 to Sep 30, 1998  Spring 1998  ...   50229.0   75651.0   \n",
       "3   Jul 2, 2002 to Dec 24, 2002  Summer 2002  ...    2182.0    4806.0   \n",
       "4  Sep 30, 2004 to Sep 29, 2005    Fall 2004  ...     312.0     529.0   \n",
       "\n",
       "    Score-8  Score-7  Score-6 Score-5 Score-4  Score-3  Score-2  Score-1  \n",
       "0  131625.0  62330.0  20688.0  8904.0  3184.0   1357.0    741.0   1580.0  \n",
       "1   49505.0  22632.0   5805.0  1877.0   577.0    221.0    109.0    379.0  \n",
       "2   86142.0  49432.0  15376.0  5838.0  1965.0    664.0    316.0    533.0  \n",
       "3   10128.0  11618.0   5709.0  2920.0  1083.0    353.0    164.0    131.0  \n",
       "4    1242.0   1713.0   1068.0   634.0   265.0     83.0     50.0     27.0  \n",
       "\n",
       "[5 rows x 35 columns]"
      ]
     },
     "metadata": {},
     "output_type": "display_data"
    },
    {
     "name": "stdout",
     "output_type": "stream",
     "text": [
      "Rating_Complete Data: \n"
     ]
    },
    {
     "data": {
      "text/html": [
       "<div>\n",
       "<style scoped>\n",
       "    .dataframe tbody tr th:only-of-type {\n",
       "        vertical-align: middle;\n",
       "    }\n",
       "\n",
       "    .dataframe tbody tr th {\n",
       "        vertical-align: top;\n",
       "    }\n",
       "\n",
       "    .dataframe thead th {\n",
       "        text-align: right;\n",
       "    }\n",
       "</style>\n",
       "<table border=\"1\" class=\"dataframe\">\n",
       "  <thead>\n",
       "    <tr style=\"text-align: right;\">\n",
       "      <th></th>\n",
       "      <th>user_id</th>\n",
       "      <th>anime_id</th>\n",
       "      <th>rating</th>\n",
       "    </tr>\n",
       "  </thead>\n",
       "  <tbody>\n",
       "    <tr>\n",
       "      <th>0</th>\n",
       "      <td>0</td>\n",
       "      <td>430</td>\n",
       "      <td>9</td>\n",
       "    </tr>\n",
       "    <tr>\n",
       "      <th>1</th>\n",
       "      <td>0</td>\n",
       "      <td>1004</td>\n",
       "      <td>5</td>\n",
       "    </tr>\n",
       "    <tr>\n",
       "      <th>2</th>\n",
       "      <td>0</td>\n",
       "      <td>3010</td>\n",
       "      <td>7</td>\n",
       "    </tr>\n",
       "    <tr>\n",
       "      <th>3</th>\n",
       "      <td>0</td>\n",
       "      <td>570</td>\n",
       "      <td>7</td>\n",
       "    </tr>\n",
       "    <tr>\n",
       "      <th>4</th>\n",
       "      <td>0</td>\n",
       "      <td>2762</td>\n",
       "      <td>9</td>\n",
       "    </tr>\n",
       "  </tbody>\n",
       "</table>\n",
       "</div>"
      ],
      "text/plain": [
       "   user_id  anime_id  rating\n",
       "0        0       430       9\n",
       "1        0      1004       5\n",
       "2        0      3010       7\n",
       "3        0       570       7\n",
       "4        0      2762       9"
      ]
     },
     "metadata": {},
     "output_type": "display_data"
    }
   ],
   "source": [
    "print('Train DF Data: ')\n",
    "display(train_df.head())\n",
    "print('Anime Data: ')\n",
    "display(anime.head())\n",
    "print('Rating_Complete Data: ')\n",
    "display(r_comp.head())"
   ]
  },
  {
   "cell_type": "markdown",
   "id": "22f1ed95-72ba-4772-9744-dd9074561903",
   "metadata": {
    "jp-MarkdownHeadingCollapsed": true,
    "tags": []
   },
   "source": [
    "### Data Analysis"
   ]
  },
  {
   "cell_type": "code",
   "execution_count": 4,
   "id": "a8169f67-8d47-4c1b-bf05-772a0f1bfbce",
   "metadata": {},
   "outputs": [
    {
     "data": {
      "text/plain": [
       "Index(['MAL_ID', 'Name', 'Score', 'Genres', 'English name', 'Japanese name',\n",
       "       'Type', 'Episodes', 'Aired', 'Premiered', 'Producers', 'Licensors',\n",
       "       'Studios', 'Source', 'Duration', 'Rating', 'Ranked', 'Popularity',\n",
       "       'Members', 'Favorites', 'Watching', 'Completed', 'On-Hold', 'Dropped',\n",
       "       'Plan to Watch', 'Score-10', 'Score-9', 'Score-8', 'Score-7', 'Score-6',\n",
       "       'Score-5', 'Score-4', 'Score-3', 'Score-2', 'Score-1'],\n",
       "      dtype='object')"
      ]
     },
     "execution_count": 4,
     "metadata": {},
     "output_type": "execute_result"
    }
   ],
   "source": [
    "anime.columns"
   ]
  },
  {
   "cell_type": "code",
   "execution_count": 5,
   "id": "b3ec760c-d2e7-4a08-9d89-ab23fe3fb7a6",
   "metadata": {},
   "outputs": [
    {
     "data": {
      "text/plain": [
       "15898"
      ]
     },
     "execution_count": 5,
     "metadata": {},
     "output_type": "execute_result"
    }
   ],
   "source": [
    "train_df['anime_id'].nunique()"
   ]
  },
  {
   "cell_type": "code",
   "execution_count": 6,
   "id": "18d8d6d5-1727-4201-8f0c-e99046ebbbcc",
   "metadata": {},
   "outputs": [
    {
     "data": {
      "text/plain": [
       "15153"
      ]
     },
     "execution_count": 6,
     "metadata": {},
     "output_type": "execute_result"
    }
   ],
   "source": [
    "train_df['user_id'].nunique()"
   ]
  },
  {
   "cell_type": "code",
   "execution_count": 7,
   "id": "299cf3bd-3bd5-482b-9a43-dd654dc0894d",
   "metadata": {},
   "outputs": [
    {
     "data": {
      "text/html": [
       "<div>\n",
       "<style scoped>\n",
       "    .dataframe tbody tr th:only-of-type {\n",
       "        vertical-align: middle;\n",
       "    }\n",
       "\n",
       "    .dataframe tbody tr th {\n",
       "        vertical-align: top;\n",
       "    }\n",
       "\n",
       "    .dataframe thead th {\n",
       "        text-align: right;\n",
       "    }\n",
       "</style>\n",
       "<table border=\"1\" class=\"dataframe\">\n",
       "  <thead>\n",
       "    <tr style=\"text-align: right;\">\n",
       "      <th></th>\n",
       "      <th>anime_id</th>\n",
       "    </tr>\n",
       "    <tr>\n",
       "      <th>user_id</th>\n",
       "      <th></th>\n",
       "    </tr>\n",
       "  </thead>\n",
       "  <tbody>\n",
       "    <tr>\n",
       "      <th>17</th>\n",
       "      <td>100</td>\n",
       "    </tr>\n",
       "    <tr>\n",
       "      <th>42</th>\n",
       "      <td>100</td>\n",
       "    </tr>\n",
       "    <tr>\n",
       "      <th>60</th>\n",
       "      <td>100</td>\n",
       "    </tr>\n",
       "    <tr>\n",
       "      <th>111</th>\n",
       "      <td>100</td>\n",
       "    </tr>\n",
       "    <tr>\n",
       "      <th>121</th>\n",
       "      <td>100</td>\n",
       "    </tr>\n",
       "  </tbody>\n",
       "</table>\n",
       "</div>"
      ],
      "text/plain": [
       "         anime_id\n",
       "user_id          \n",
       "17            100\n",
       "42            100\n",
       "60            100\n",
       "111           100\n",
       "121           100"
      ]
     },
     "execution_count": 7,
     "metadata": {},
     "output_type": "execute_result"
    }
   ],
   "source": [
    "temp = train_df[['user_id', 'anime_id']].groupby(['user_id']).count()\n",
    "temp.head()"
   ]
  },
  {
   "cell_type": "code",
   "execution_count": 8,
   "id": "efc0b499-57d8-46e9-bbb6-85f539e82116",
   "metadata": {},
   "outputs": [],
   "source": [
    "train_df.rename(columns={'anime_id': 'MAL_ID'}, inplace=True)"
   ]
  },
  {
   "cell_type": "code",
   "execution_count": 9,
   "id": "a40a2175-fbca-4afb-b3fb-aa17d57d2486",
   "metadata": {},
   "outputs": [
    {
     "data": {
      "text/html": [
       "<div>\n",
       "<style scoped>\n",
       "    .dataframe tbody tr th:only-of-type {\n",
       "        vertical-align: middle;\n",
       "    }\n",
       "\n",
       "    .dataframe tbody tr th {\n",
       "        vertical-align: top;\n",
       "    }\n",
       "\n",
       "    .dataframe thead th {\n",
       "        text-align: right;\n",
       "    }\n",
       "</style>\n",
       "<table border=\"1\" class=\"dataframe\">\n",
       "  <thead>\n",
       "    <tr style=\"text-align: right;\">\n",
       "      <th></th>\n",
       "      <th>Unnamed: 0</th>\n",
       "      <th>user_id</th>\n",
       "      <th>MAL_ID</th>\n",
       "      <th>rating</th>\n",
       "      <th>watching_status</th>\n",
       "      <th>watched_episodes</th>\n",
       "    </tr>\n",
       "  </thead>\n",
       "  <tbody>\n",
       "    <tr>\n",
       "      <th>407</th>\n",
       "      <td>407</td>\n",
       "      <td>297931</td>\n",
       "      <td>17729</td>\n",
       "      <td>0</td>\n",
       "      <td>3</td>\n",
       "      <td>0</td>\n",
       "    </tr>\n",
       "    <tr>\n",
       "      <th>422</th>\n",
       "      <td>422</td>\n",
       "      <td>297931</td>\n",
       "      <td>4975</td>\n",
       "      <td>0</td>\n",
       "      <td>3</td>\n",
       "      <td>0</td>\n",
       "    </tr>\n",
       "    <tr>\n",
       "      <th>439</th>\n",
       "      <td>439</td>\n",
       "      <td>297931</td>\n",
       "      <td>34382</td>\n",
       "      <td>0</td>\n",
       "      <td>3</td>\n",
       "      <td>0</td>\n",
       "    </tr>\n",
       "    <tr>\n",
       "      <th>449</th>\n",
       "      <td>449</td>\n",
       "      <td>297931</td>\n",
       "      <td>2780</td>\n",
       "      <td>0</td>\n",
       "      <td>3</td>\n",
       "      <td>0</td>\n",
       "    </tr>\n",
       "    <tr>\n",
       "      <th>452</th>\n",
       "      <td>452</td>\n",
       "      <td>297931</td>\n",
       "      <td>33834</td>\n",
       "      <td>0</td>\n",
       "      <td>3</td>\n",
       "      <td>0</td>\n",
       "    </tr>\n",
       "    <tr>\n",
       "      <th>...</th>\n",
       "      <td>...</td>\n",
       "      <td>...</td>\n",
       "      <td>...</td>\n",
       "      <td>...</td>\n",
       "      <td>...</td>\n",
       "      <td>...</td>\n",
       "    </tr>\n",
       "    <tr>\n",
       "      <th>1515246</th>\n",
       "      <td>1515246</td>\n",
       "      <td>256792</td>\n",
       "      <td>1288</td>\n",
       "      <td>0</td>\n",
       "      <td>3</td>\n",
       "      <td>2</td>\n",
       "    </tr>\n",
       "    <tr>\n",
       "      <th>1515255</th>\n",
       "      <td>1515255</td>\n",
       "      <td>256792</td>\n",
       "      <td>19367</td>\n",
       "      <td>0</td>\n",
       "      <td>3</td>\n",
       "      <td>0</td>\n",
       "    </tr>\n",
       "    <tr>\n",
       "      <th>1515269</th>\n",
       "      <td>1515269</td>\n",
       "      <td>256792</td>\n",
       "      <td>3613</td>\n",
       "      <td>0</td>\n",
       "      <td>3</td>\n",
       "      <td>5</td>\n",
       "    </tr>\n",
       "    <tr>\n",
       "      <th>1515279</th>\n",
       "      <td>1515279</td>\n",
       "      <td>256792</td>\n",
       "      <td>23755</td>\n",
       "      <td>0</td>\n",
       "      <td>3</td>\n",
       "      <td>10</td>\n",
       "    </tr>\n",
       "    <tr>\n",
       "      <th>1515292</th>\n",
       "      <td>1515292</td>\n",
       "      <td>256792</td>\n",
       "      <td>22297</td>\n",
       "      <td>0</td>\n",
       "      <td>3</td>\n",
       "      <td>5</td>\n",
       "    </tr>\n",
       "  </tbody>\n",
       "</table>\n",
       "<p>49724 rows × 6 columns</p>\n",
       "</div>"
      ],
      "text/plain": [
       "         Unnamed: 0  user_id  MAL_ID  rating  watching_status  \\\n",
       "407             407   297931   17729       0                3   \n",
       "422             422   297931    4975       0                3   \n",
       "439             439   297931   34382       0                3   \n",
       "449             449   297931    2780       0                3   \n",
       "452             452   297931   33834       0                3   \n",
       "...             ...      ...     ...     ...              ...   \n",
       "1515246     1515246   256792    1288       0                3   \n",
       "1515255     1515255   256792   19367       0                3   \n",
       "1515269     1515269   256792    3613       0                3   \n",
       "1515279     1515279   256792   23755       0                3   \n",
       "1515292     1515292   256792   22297       0                3   \n",
       "\n",
       "         watched_episodes  \n",
       "407                     0  \n",
       "422                     0  \n",
       "439                     0  \n",
       "449                     0  \n",
       "452                     0  \n",
       "...                   ...  \n",
       "1515246                 2  \n",
       "1515255                 0  \n",
       "1515269                 5  \n",
       "1515279                10  \n",
       "1515292                 5  \n",
       "\n",
       "[49724 rows x 6 columns]"
      ]
     },
     "execution_count": 9,
     "metadata": {},
     "output_type": "execute_result"
    }
   ],
   "source": [
    "train_df[train_df['watching_status']== 3]"
   ]
  },
  {
   "cell_type": "code",
   "execution_count": 10,
   "id": "680ddb13-6c49-498e-b914-3beb36eaafdb",
   "metadata": {},
   "outputs": [
    {
     "data": {
      "text/html": [
       "<div>\n",
       "<style scoped>\n",
       "    .dataframe tbody tr th:only-of-type {\n",
       "        vertical-align: middle;\n",
       "    }\n",
       "\n",
       "    .dataframe tbody tr th {\n",
       "        vertical-align: top;\n",
       "    }\n",
       "\n",
       "    .dataframe thead th {\n",
       "        text-align: right;\n",
       "    }\n",
       "</style>\n",
       "<table border=\"1\" class=\"dataframe\">\n",
       "  <thead>\n",
       "    <tr style=\"text-align: right;\">\n",
       "      <th></th>\n",
       "      <th>watching_status</th>\n",
       "    </tr>\n",
       "    <tr>\n",
       "      <th>user_id</th>\n",
       "      <th></th>\n",
       "    </tr>\n",
       "  </thead>\n",
       "  <tbody>\n",
       "    <tr>\n",
       "      <th>17</th>\n",
       "      <td>1</td>\n",
       "    </tr>\n",
       "    <tr>\n",
       "      <th>42</th>\n",
       "      <td>1</td>\n",
       "    </tr>\n",
       "    <tr>\n",
       "      <th>60</th>\n",
       "      <td>2</td>\n",
       "    </tr>\n",
       "    <tr>\n",
       "      <th>111</th>\n",
       "      <td>1</td>\n",
       "    </tr>\n",
       "    <tr>\n",
       "      <th>121</th>\n",
       "      <td>2</td>\n",
       "    </tr>\n",
       "    <tr>\n",
       "      <th>...</th>\n",
       "      <td>...</td>\n",
       "    </tr>\n",
       "    <tr>\n",
       "      <th>353292</th>\n",
       "      <td>3</td>\n",
       "    </tr>\n",
       "    <tr>\n",
       "      <th>353302</th>\n",
       "      <td>8</td>\n",
       "    </tr>\n",
       "    <tr>\n",
       "      <th>353311</th>\n",
       "      <td>6</td>\n",
       "    </tr>\n",
       "    <tr>\n",
       "      <th>353326</th>\n",
       "      <td>19</td>\n",
       "    </tr>\n",
       "    <tr>\n",
       "      <th>353395</th>\n",
       "      <td>6</td>\n",
       "    </tr>\n",
       "  </tbody>\n",
       "</table>\n",
       "<p>9143 rows × 1 columns</p>\n",
       "</div>"
      ],
      "text/plain": [
       "         watching_status\n",
       "user_id                 \n",
       "17                     1\n",
       "42                     1\n",
       "60                     2\n",
       "111                    1\n",
       "121                    2\n",
       "...                  ...\n",
       "353292                 3\n",
       "353302                 8\n",
       "353311                 6\n",
       "353326                19\n",
       "353395                 6\n",
       "\n",
       "[9143 rows x 1 columns]"
      ]
     },
     "execution_count": 10,
     "metadata": {},
     "output_type": "execute_result"
    }
   ],
   "source": [
    "tep = train_df[train_df['watching_status']==3][['user_id', 'watching_status']]\n",
    "temp = tep.groupby(['user_id']).count()\n",
    "temp"
   ]
  },
  {
   "cell_type": "code",
   "execution_count": 11,
   "id": "5779bb6e-476b-4f81-bde3-9a7b15e72727",
   "metadata": {},
   "outputs": [
    {
     "data": {
      "text/plain": [
       "Unnamed: 0          0\n",
       "user_id             0\n",
       "MAL_ID              0\n",
       "rating              0\n",
       "watching_status     0\n",
       "watched_episodes    0\n",
       "dtype: int64"
      ]
     },
     "execution_count": 11,
     "metadata": {},
     "output_type": "execute_result"
    }
   ],
   "source": [
    "train_df.isnull().sum()"
   ]
  },
  {
   "cell_type": "code",
   "execution_count": 12,
   "id": "0a887f9c-67cd-4606-8d93-b1f729ae1a80",
   "metadata": {},
   "outputs": [
    {
     "name": "stdout",
     "output_type": "stream",
     "text": [
      "Describe Train DF:\n"
     ]
    },
    {
     "data": {
      "text/html": [
       "<div>\n",
       "<style scoped>\n",
       "    .dataframe tbody tr th:only-of-type {\n",
       "        vertical-align: middle;\n",
       "    }\n",
       "\n",
       "    .dataframe tbody tr th {\n",
       "        vertical-align: top;\n",
       "    }\n",
       "\n",
       "    .dataframe thead th {\n",
       "        text-align: right;\n",
       "    }\n",
       "</style>\n",
       "<table border=\"1\" class=\"dataframe\">\n",
       "  <thead>\n",
       "    <tr style=\"text-align: right;\">\n",
       "      <th></th>\n",
       "      <th>count</th>\n",
       "      <th>mean</th>\n",
       "      <th>std</th>\n",
       "      <th>min</th>\n",
       "      <th>25%</th>\n",
       "      <th>50%</th>\n",
       "      <th>75%</th>\n",
       "      <th>max</th>\n",
       "    </tr>\n",
       "  </thead>\n",
       "  <tbody>\n",
       "    <tr>\n",
       "      <th>Unnamed: 0</th>\n",
       "      <td>1515300.0</td>\n",
       "      <td>757649.500000</td>\n",
       "      <td>437429.575790</td>\n",
       "      <td>0.0</td>\n",
       "      <td>378824.75</td>\n",
       "      <td>757649.5</td>\n",
       "      <td>1136474.25</td>\n",
       "      <td>1515299.0</td>\n",
       "    </tr>\n",
       "    <tr>\n",
       "      <th>user_id</th>\n",
       "      <td>1515300.0</td>\n",
       "      <td>176814.425592</td>\n",
       "      <td>101875.805875</td>\n",
       "      <td>17.0</td>\n",
       "      <td>88274.00</td>\n",
       "      <td>176377.0</td>\n",
       "      <td>265817.00</td>\n",
       "      <td>353395.0</td>\n",
       "    </tr>\n",
       "    <tr>\n",
       "      <th>MAL_ID</th>\n",
       "      <td>1515300.0</td>\n",
       "      <td>17219.883488</td>\n",
       "      <td>13956.074686</td>\n",
       "      <td>1.0</td>\n",
       "      <td>3655.00</td>\n",
       "      <td>13759.0</td>\n",
       "      <td>31706.00</td>\n",
       "      <td>48492.0</td>\n",
       "    </tr>\n",
       "    <tr>\n",
       "      <th>rating</th>\n",
       "      <td>1515300.0</td>\n",
       "      <td>3.907696</td>\n",
       "      <td>3.793444</td>\n",
       "      <td>0.0</td>\n",
       "      <td>0.00</td>\n",
       "      <td>5.0</td>\n",
       "      <td>7.00</td>\n",
       "      <td>10.0</td>\n",
       "    </tr>\n",
       "    <tr>\n",
       "      <th>watching_status</th>\n",
       "      <td>1515300.0</td>\n",
       "      <td>3.185147</td>\n",
       "      <td>1.853994</td>\n",
       "      <td>0.0</td>\n",
       "      <td>2.00</td>\n",
       "      <td>2.0</td>\n",
       "      <td>6.00</td>\n",
       "      <td>6.0</td>\n",
       "    </tr>\n",
       "    <tr>\n",
       "      <th>watched_episodes</th>\n",
       "      <td>1515300.0</td>\n",
       "      <td>8.952423</td>\n",
       "      <td>39.662433</td>\n",
       "      <td>0.0</td>\n",
       "      <td>0.00</td>\n",
       "      <td>1.0</td>\n",
       "      <td>12.00</td>\n",
       "      <td>12799.0</td>\n",
       "    </tr>\n",
       "  </tbody>\n",
       "</table>\n",
       "</div>"
      ],
      "text/plain": [
       "                      count           mean            std   min        25%  \\\n",
       "Unnamed: 0        1515300.0  757649.500000  437429.575790   0.0  378824.75   \n",
       "user_id           1515300.0  176814.425592  101875.805875  17.0   88274.00   \n",
       "MAL_ID            1515300.0   17219.883488   13956.074686   1.0    3655.00   \n",
       "rating            1515300.0       3.907696       3.793444   0.0       0.00   \n",
       "watching_status   1515300.0       3.185147       1.853994   0.0       2.00   \n",
       "watched_episodes  1515300.0       8.952423      39.662433   0.0       0.00   \n",
       "\n",
       "                       50%         75%        max  \n",
       "Unnamed: 0        757649.5  1136474.25  1515299.0  \n",
       "user_id           176377.0   265817.00   353395.0  \n",
       "MAL_ID             13759.0    31706.00    48492.0  \n",
       "rating                 5.0        7.00       10.0  \n",
       "watching_status        2.0        6.00        6.0  \n",
       "watched_episodes       1.0       12.00    12799.0  "
      ]
     },
     "execution_count": 12,
     "metadata": {},
     "output_type": "execute_result"
    }
   ],
   "source": [
    "print('Describe Train DF:')\n",
    "train_df.describe().T"
   ]
  },
  {
   "cell_type": "code",
   "execution_count": 13,
   "id": "0ffc0767-7ec4-4688-8ede-1eacf62ccfd2",
   "metadata": {},
   "outputs": [
    {
     "data": {
      "text/plain": [
       "array([2, 6, 1, 3, 0])"
      ]
     },
     "execution_count": 13,
     "metadata": {},
     "output_type": "execute_result"
    }
   ],
   "source": [
    "train_df['watching_status'].unique()"
   ]
  },
  {
   "cell_type": "code",
   "execution_count": 14,
   "id": "05da7510-1f13-4380-9865-8e4db3685a23",
   "metadata": {},
   "outputs": [],
   "source": [
    "# anime = pd.merge(train_df, anime, on='MAL_ID')"
   ]
  },
  {
   "cell_type": "code",
   "execution_count": 15,
   "id": "449638e6-89b4-42e0-897b-e34de06cd5e2",
   "metadata": {},
   "outputs": [],
   "source": [
    "# anime.head()"
   ]
  },
  {
   "cell_type": "code",
   "execution_count": 16,
   "id": "d973d6d1-31c6-4582-986f-eb8aed9d8053",
   "metadata": {},
   "outputs": [
    {
     "name": "stdout",
     "output_type": "stream",
     "text": [
      "Describe Object features: \n"
     ]
    },
    {
     "data": {
      "text/html": [
       "<div>\n",
       "<style scoped>\n",
       "    .dataframe tbody tr th:only-of-type {\n",
       "        vertical-align: middle;\n",
       "    }\n",
       "\n",
       "    .dataframe tbody tr th {\n",
       "        vertical-align: top;\n",
       "    }\n",
       "\n",
       "    .dataframe thead th {\n",
       "        text-align: right;\n",
       "    }\n",
       "</style>\n",
       "<table border=\"1\" class=\"dataframe\">\n",
       "  <thead>\n",
       "    <tr style=\"text-align: right;\">\n",
       "      <th></th>\n",
       "      <th>count</th>\n",
       "      <th>unique</th>\n",
       "      <th>top</th>\n",
       "      <th>freq</th>\n",
       "    </tr>\n",
       "  </thead>\n",
       "  <tbody>\n",
       "    <tr>\n",
       "      <th>Name</th>\n",
       "      <td>17562</td>\n",
       "      <td>17558</td>\n",
       "      <td>Maou Gakuin no Futekigousha: Shijou Saikyou no...</td>\n",
       "      <td>3</td>\n",
       "    </tr>\n",
       "    <tr>\n",
       "      <th>Score</th>\n",
       "      <td>17562</td>\n",
       "      <td>533</td>\n",
       "      <td>Unknown</td>\n",
       "      <td>5141</td>\n",
       "    </tr>\n",
       "    <tr>\n",
       "      <th>Genres</th>\n",
       "      <td>17562</td>\n",
       "      <td>5034</td>\n",
       "      <td>Hentai</td>\n",
       "      <td>969</td>\n",
       "    </tr>\n",
       "    <tr>\n",
       "      <th>English name</th>\n",
       "      <td>17562</td>\n",
       "      <td>6831</td>\n",
       "      <td>Unknown</td>\n",
       "      <td>10565</td>\n",
       "    </tr>\n",
       "    <tr>\n",
       "      <th>Japanese name</th>\n",
       "      <td>17562</td>\n",
       "      <td>16679</td>\n",
       "      <td>Unknown</td>\n",
       "      <td>48</td>\n",
       "    </tr>\n",
       "    <tr>\n",
       "      <th>Type</th>\n",
       "      <td>17562</td>\n",
       "      <td>7</td>\n",
       "      <td>TV</td>\n",
       "      <td>4996</td>\n",
       "    </tr>\n",
       "    <tr>\n",
       "      <th>Episodes</th>\n",
       "      <td>17562</td>\n",
       "      <td>201</td>\n",
       "      <td>1</td>\n",
       "      <td>8381</td>\n",
       "    </tr>\n",
       "    <tr>\n",
       "      <th>Aired</th>\n",
       "      <td>17562</td>\n",
       "      <td>11947</td>\n",
       "      <td>Unknown</td>\n",
       "      <td>309</td>\n",
       "    </tr>\n",
       "    <tr>\n",
       "      <th>Premiered</th>\n",
       "      <td>17562</td>\n",
       "      <td>231</td>\n",
       "      <td>Unknown</td>\n",
       "      <td>12817</td>\n",
       "    </tr>\n",
       "    <tr>\n",
       "      <th>Producers</th>\n",
       "      <td>17562</td>\n",
       "      <td>3783</td>\n",
       "      <td>Unknown</td>\n",
       "      <td>7794</td>\n",
       "    </tr>\n",
       "    <tr>\n",
       "      <th>Licensors</th>\n",
       "      <td>17562</td>\n",
       "      <td>231</td>\n",
       "      <td>Unknown</td>\n",
       "      <td>13616</td>\n",
       "    </tr>\n",
       "    <tr>\n",
       "      <th>Studios</th>\n",
       "      <td>17562</td>\n",
       "      <td>1090</td>\n",
       "      <td>Unknown</td>\n",
       "      <td>7079</td>\n",
       "    </tr>\n",
       "    <tr>\n",
       "      <th>Source</th>\n",
       "      <td>17562</td>\n",
       "      <td>16</td>\n",
       "      <td>Original</td>\n",
       "      <td>5215</td>\n",
       "    </tr>\n",
       "    <tr>\n",
       "      <th>Duration</th>\n",
       "      <td>17562</td>\n",
       "      <td>313</td>\n",
       "      <td>24 min. per ep.</td>\n",
       "      <td>1723</td>\n",
       "    </tr>\n",
       "    <tr>\n",
       "      <th>Rating</th>\n",
       "      <td>17562</td>\n",
       "      <td>7</td>\n",
       "      <td>PG-13 - Teens 13 or older</td>\n",
       "      <td>6132</td>\n",
       "    </tr>\n",
       "    <tr>\n",
       "      <th>Ranked</th>\n",
       "      <td>17562</td>\n",
       "      <td>10490</td>\n",
       "      <td>Unknown</td>\n",
       "      <td>1762</td>\n",
       "    </tr>\n",
       "    <tr>\n",
       "      <th>Score-10</th>\n",
       "      <td>17562</td>\n",
       "      <td>3379</td>\n",
       "      <td>4.0</td>\n",
       "      <td>936</td>\n",
       "    </tr>\n",
       "    <tr>\n",
       "      <th>Score-9</th>\n",
       "      <td>17562</td>\n",
       "      <td>3645</td>\n",
       "      <td>Unknown</td>\n",
       "      <td>3167</td>\n",
       "    </tr>\n",
       "    <tr>\n",
       "      <th>Score-8</th>\n",
       "      <td>17562</td>\n",
       "      <td>4515</td>\n",
       "      <td>Unknown</td>\n",
       "      <td>1371</td>\n",
       "    </tr>\n",
       "    <tr>\n",
       "      <th>Score-7</th>\n",
       "      <td>17562</td>\n",
       "      <td>4933</td>\n",
       "      <td>2.0</td>\n",
       "      <td>610</td>\n",
       "    </tr>\n",
       "    <tr>\n",
       "      <th>Score-6</th>\n",
       "      <td>17562</td>\n",
       "      <td>4236</td>\n",
       "      <td>Unknown</td>\n",
       "      <td>511</td>\n",
       "    </tr>\n",
       "    <tr>\n",
       "      <th>Score-5</th>\n",
       "      <td>17562</td>\n",
       "      <td>3288</td>\n",
       "      <td>Unknown</td>\n",
       "      <td>584</td>\n",
       "    </tr>\n",
       "    <tr>\n",
       "      <th>Score-4</th>\n",
       "      <td>17562</td>\n",
       "      <td>2235</td>\n",
       "      <td>Unknown</td>\n",
       "      <td>977</td>\n",
       "    </tr>\n",
       "    <tr>\n",
       "      <th>Score-3</th>\n",
       "      <td>17562</td>\n",
       "      <td>1506</td>\n",
       "      <td>Unknown</td>\n",
       "      <td>1307</td>\n",
       "    </tr>\n",
       "    <tr>\n",
       "      <th>Score-2</th>\n",
       "      <td>17562</td>\n",
       "      <td>1110</td>\n",
       "      <td>Unknown</td>\n",
       "      <td>1597</td>\n",
       "    </tr>\n",
       "    <tr>\n",
       "      <th>Score-1</th>\n",
       "      <td>17562</td>\n",
       "      <td>1084</td>\n",
       "      <td>4.0</td>\n",
       "      <td>955</td>\n",
       "    </tr>\n",
       "  </tbody>\n",
       "</table>\n",
       "</div>"
      ],
      "text/plain": [
       "               count unique  \\\n",
       "Name           17562  17558   \n",
       "Score          17562    533   \n",
       "Genres         17562   5034   \n",
       "English name   17562   6831   \n",
       "Japanese name  17562  16679   \n",
       "Type           17562      7   \n",
       "Episodes       17562    201   \n",
       "Aired          17562  11947   \n",
       "Premiered      17562    231   \n",
       "Producers      17562   3783   \n",
       "Licensors      17562    231   \n",
       "Studios        17562   1090   \n",
       "Source         17562     16   \n",
       "Duration       17562    313   \n",
       "Rating         17562      7   \n",
       "Ranked         17562  10490   \n",
       "Score-10       17562   3379   \n",
       "Score-9        17562   3645   \n",
       "Score-8        17562   4515   \n",
       "Score-7        17562   4933   \n",
       "Score-6        17562   4236   \n",
       "Score-5        17562   3288   \n",
       "Score-4        17562   2235   \n",
       "Score-3        17562   1506   \n",
       "Score-2        17562   1110   \n",
       "Score-1        17562   1084   \n",
       "\n",
       "                                                             top   freq  \n",
       "Name           Maou Gakuin no Futekigousha: Shijou Saikyou no...      3  \n",
       "Score                                                    Unknown   5141  \n",
       "Genres                                                    Hentai    969  \n",
       "English name                                             Unknown  10565  \n",
       "Japanese name                                            Unknown     48  \n",
       "Type                                                          TV   4996  \n",
       "Episodes                                                       1   8381  \n",
       "Aired                                                    Unknown    309  \n",
       "Premiered                                                Unknown  12817  \n",
       "Producers                                                Unknown   7794  \n",
       "Licensors                                                Unknown  13616  \n",
       "Studios                                                  Unknown   7079  \n",
       "Source                                                  Original   5215  \n",
       "Duration                                         24 min. per ep.   1723  \n",
       "Rating                                 PG-13 - Teens 13 or older   6132  \n",
       "Ranked                                                   Unknown   1762  \n",
       "Score-10                                                     4.0    936  \n",
       "Score-9                                                  Unknown   3167  \n",
       "Score-8                                                  Unknown   1371  \n",
       "Score-7                                                      2.0    610  \n",
       "Score-6                                                  Unknown    511  \n",
       "Score-5                                                  Unknown    584  \n",
       "Score-4                                                  Unknown    977  \n",
       "Score-3                                                  Unknown   1307  \n",
       "Score-2                                                  Unknown   1597  \n",
       "Score-1                                                      4.0    955  "
      ]
     },
     "metadata": {},
     "output_type": "display_data"
    },
    {
     "name": "stdout",
     "output_type": "stream",
     "text": [
      "\n",
      "Describe numerical features: \n"
     ]
    },
    {
     "data": {
      "text/html": [
       "<div>\n",
       "<style scoped>\n",
       "    .dataframe tbody tr th:only-of-type {\n",
       "        vertical-align: middle;\n",
       "    }\n",
       "\n",
       "    .dataframe tbody tr th {\n",
       "        vertical-align: top;\n",
       "    }\n",
       "\n",
       "    .dataframe thead th {\n",
       "        text-align: right;\n",
       "    }\n",
       "</style>\n",
       "<table border=\"1\" class=\"dataframe\">\n",
       "  <thead>\n",
       "    <tr style=\"text-align: right;\">\n",
       "      <th></th>\n",
       "      <th>count</th>\n",
       "      <th>mean</th>\n",
       "      <th>std</th>\n",
       "      <th>min</th>\n",
       "      <th>25%</th>\n",
       "      <th>50%</th>\n",
       "      <th>75%</th>\n",
       "      <th>max</th>\n",
       "    </tr>\n",
       "  </thead>\n",
       "  <tbody>\n",
       "    <tr>\n",
       "      <th>MAL_ID</th>\n",
       "      <td>17562.0</td>\n",
       "      <td>21477.192347</td>\n",
       "      <td>14900.093170</td>\n",
       "      <td>1.0</td>\n",
       "      <td>5953.5</td>\n",
       "      <td>22820.0</td>\n",
       "      <td>35624.75</td>\n",
       "      <td>48492.0</td>\n",
       "    </tr>\n",
       "    <tr>\n",
       "      <th>Popularity</th>\n",
       "      <td>17562.0</td>\n",
       "      <td>8763.452340</td>\n",
       "      <td>5059.327278</td>\n",
       "      <td>0.0</td>\n",
       "      <td>4383.5</td>\n",
       "      <td>8762.5</td>\n",
       "      <td>13145.00</td>\n",
       "      <td>17565.0</td>\n",
       "    </tr>\n",
       "    <tr>\n",
       "      <th>Members</th>\n",
       "      <td>17562.0</td>\n",
       "      <td>34658.539517</td>\n",
       "      <td>125282.141428</td>\n",
       "      <td>1.0</td>\n",
       "      <td>336.0</td>\n",
       "      <td>2065.0</td>\n",
       "      <td>13223.25</td>\n",
       "      <td>2589552.0</td>\n",
       "    </tr>\n",
       "    <tr>\n",
       "      <th>Favorites</th>\n",
       "      <td>17562.0</td>\n",
       "      <td>457.746270</td>\n",
       "      <td>4063.473313</td>\n",
       "      <td>0.0</td>\n",
       "      <td>0.0</td>\n",
       "      <td>3.0</td>\n",
       "      <td>31.00</td>\n",
       "      <td>183914.0</td>\n",
       "    </tr>\n",
       "    <tr>\n",
       "      <th>Watching</th>\n",
       "      <td>17562.0</td>\n",
       "      <td>2231.487758</td>\n",
       "      <td>14046.688133</td>\n",
       "      <td>0.0</td>\n",
       "      <td>13.0</td>\n",
       "      <td>73.0</td>\n",
       "      <td>522.00</td>\n",
       "      <td>887333.0</td>\n",
       "    </tr>\n",
       "    <tr>\n",
       "      <th>Completed</th>\n",
       "      <td>17562.0</td>\n",
       "      <td>22095.571347</td>\n",
       "      <td>91009.188504</td>\n",
       "      <td>0.0</td>\n",
       "      <td>111.0</td>\n",
       "      <td>817.5</td>\n",
       "      <td>6478.00</td>\n",
       "      <td>2182587.0</td>\n",
       "    </tr>\n",
       "    <tr>\n",
       "      <th>On-Hold</th>\n",
       "      <td>17562.0</td>\n",
       "      <td>955.049653</td>\n",
       "      <td>4275.675096</td>\n",
       "      <td>0.0</td>\n",
       "      <td>6.0</td>\n",
       "      <td>45.0</td>\n",
       "      <td>291.75</td>\n",
       "      <td>187919.0</td>\n",
       "    </tr>\n",
       "    <tr>\n",
       "      <th>Dropped</th>\n",
       "      <td>17562.0</td>\n",
       "      <td>1176.599533</td>\n",
       "      <td>4740.348653</td>\n",
       "      <td>0.0</td>\n",
       "      <td>37.0</td>\n",
       "      <td>77.0</td>\n",
       "      <td>271.00</td>\n",
       "      <td>174710.0</td>\n",
       "    </tr>\n",
       "    <tr>\n",
       "      <th>Plan to Watch</th>\n",
       "      <td>17562.0</td>\n",
       "      <td>8199.831227</td>\n",
       "      <td>23777.691963</td>\n",
       "      <td>1.0</td>\n",
       "      <td>112.0</td>\n",
       "      <td>752.5</td>\n",
       "      <td>4135.50</td>\n",
       "      <td>425531.0</td>\n",
       "    </tr>\n",
       "  </tbody>\n",
       "</table>\n",
       "</div>"
      ],
      "text/plain": [
       "                 count          mean            std  min     25%      50%  \\\n",
       "MAL_ID         17562.0  21477.192347   14900.093170  1.0  5953.5  22820.0   \n",
       "Popularity     17562.0   8763.452340    5059.327278  0.0  4383.5   8762.5   \n",
       "Members        17562.0  34658.539517  125282.141428  1.0   336.0   2065.0   \n",
       "Favorites      17562.0    457.746270    4063.473313  0.0     0.0      3.0   \n",
       "Watching       17562.0   2231.487758   14046.688133  0.0    13.0     73.0   \n",
       "Completed      17562.0  22095.571347   91009.188504  0.0   111.0    817.5   \n",
       "On-Hold        17562.0    955.049653    4275.675096  0.0     6.0     45.0   \n",
       "Dropped        17562.0   1176.599533    4740.348653  0.0    37.0     77.0   \n",
       "Plan to Watch  17562.0   8199.831227   23777.691963  1.0   112.0    752.5   \n",
       "\n",
       "                    75%        max  \n",
       "MAL_ID         35624.75    48492.0  \n",
       "Popularity     13145.00    17565.0  \n",
       "Members        13223.25  2589552.0  \n",
       "Favorites         31.00   183914.0  \n",
       "Watching         522.00   887333.0  \n",
       "Completed       6478.00  2182587.0  \n",
       "On-Hold          291.75   187919.0  \n",
       "Dropped          271.00   174710.0  \n",
       "Plan to Watch   4135.50   425531.0  "
      ]
     },
     "metadata": {},
     "output_type": "display_data"
    }
   ],
   "source": [
    "print('Describe Object features: ')\n",
    "display(anime.describe(include='O').T)\n",
    "print('\\nDescribe numerical features: ')\n",
    "display(anime.describe().T)"
   ]
  },
  {
   "cell_type": "code",
   "execution_count": 17,
   "id": "3ee02cbd-84a6-43fd-8b28-176bae239eaa",
   "metadata": {},
   "outputs": [
    {
     "name": "stdout",
     "output_type": "stream",
     "text": [
      "Info features: \n",
      "<class 'pandas.core.frame.DataFrame'>\n",
      "RangeIndex: 17562 entries, 0 to 17561\n",
      "Data columns (total 35 columns):\n",
      " #   Column         Non-Null Count  Dtype \n",
      "---  ------         --------------  ----- \n",
      " 0   MAL_ID         17562 non-null  int64 \n",
      " 1   Name           17562 non-null  object\n",
      " 2   Score          17562 non-null  object\n",
      " 3   Genres         17562 non-null  object\n",
      " 4   English name   17562 non-null  object\n",
      " 5   Japanese name  17562 non-null  object\n",
      " 6   Type           17562 non-null  object\n",
      " 7   Episodes       17562 non-null  object\n",
      " 8   Aired          17562 non-null  object\n",
      " 9   Premiered      17562 non-null  object\n",
      " 10  Producers      17562 non-null  object\n",
      " 11  Licensors      17562 non-null  object\n",
      " 12  Studios        17562 non-null  object\n",
      " 13  Source         17562 non-null  object\n",
      " 14  Duration       17562 non-null  object\n",
      " 15  Rating         17562 non-null  object\n",
      " 16  Ranked         17562 non-null  object\n",
      " 17  Popularity     17562 non-null  int64 \n",
      " 18  Members        17562 non-null  int64 \n",
      " 19  Favorites      17562 non-null  int64 \n",
      " 20  Watching       17562 non-null  int64 \n",
      " 21  Completed      17562 non-null  int64 \n",
      " 22  On-Hold        17562 non-null  int64 \n",
      " 23  Dropped        17562 non-null  int64 \n",
      " 24  Plan to Watch  17562 non-null  int64 \n",
      " 25  Score-10       17562 non-null  object\n",
      " 26  Score-9        17562 non-null  object\n",
      " 27  Score-8        17562 non-null  object\n",
      " 28  Score-7        17562 non-null  object\n",
      " 29  Score-6        17562 non-null  object\n",
      " 30  Score-5        17562 non-null  object\n",
      " 31  Score-4        17562 non-null  object\n",
      " 32  Score-3        17562 non-null  object\n",
      " 33  Score-2        17562 non-null  object\n",
      " 34  Score-1        17562 non-null  object\n",
      "dtypes: int64(9), object(26)\n",
      "memory usage: 4.7+ MB\n"
     ]
    },
    {
     "data": {
      "text/plain": [
       "None"
      ]
     },
     "metadata": {},
     "output_type": "display_data"
    }
   ],
   "source": [
    "print('Info features: ')\n",
    "display(anime.info())"
   ]
  },
  {
   "cell_type": "code",
   "execution_count": 18,
   "id": "476b4fb9-ad86-4192-b3bd-c253404a9763",
   "metadata": {},
   "outputs": [
    {
     "data": {
      "text/plain": [
       "10490"
      ]
     },
     "execution_count": 18,
     "metadata": {},
     "output_type": "execute_result"
    }
   ],
   "source": [
    "anime['Ranked'].nunique()"
   ]
  },
  {
   "cell_type": "code",
   "execution_count": 19,
   "id": "a9bcdc20-ea52-4b2a-8dbd-b79f5a1e5d23",
   "metadata": {},
   "outputs": [
    {
     "data": {
      "text/plain": [
       "array(['TV', 'Movie', 'OVA', 'Special', 'ONA', 'Music', 'Unknown'],\n",
       "      dtype=object)"
      ]
     },
     "execution_count": 19,
     "metadata": {},
     "output_type": "execute_result"
    }
   ],
   "source": [
    "anime['Type'].unique()"
   ]
  },
  {
   "cell_type": "code",
   "execution_count": 20,
   "id": "5dce4597-0337-489a-92d0-f9118988df18",
   "metadata": {},
   "outputs": [
    {
     "data": {
      "text/plain": [
       "array(['R - 17+ (violence & profanity)', 'PG-13 - Teens 13 or older',\n",
       "       'PG - Children', 'R+ - Mild Nudity', 'G - All Ages', 'Rx - Hentai',\n",
       "       'Unknown'], dtype=object)"
      ]
     },
     "execution_count": 20,
     "metadata": {},
     "output_type": "execute_result"
    }
   ],
   "source": [
    "anime['Rating'].unique()"
   ]
  },
  {
   "cell_type": "markdown",
   "id": "9d6b3bba-4b08-4807-a182-65323d7beac6",
   "metadata": {
    "jp-MarkdownHeadingCollapsed": true,
    "tags": []
   },
   "source": [
    "### Pre-processing"
   ]
  },
  {
   "cell_type": "code",
   "execution_count": 21,
   "id": "513bcc87-2816-490f-a69c-9d6252777728",
   "metadata": {},
   "outputs": [],
   "source": [
    "for col in anime.columns.to_list():\n",
    "    anime[str(col)].replace('Unknown', np.nan, inplace=True)"
   ]
  },
  {
   "cell_type": "code",
   "execution_count": 22,
   "id": "141168b1-1ba0-4bd9-b5a1-84f361afd002",
   "metadata": {},
   "outputs": [],
   "source": [
    "for score in range(1, 11):\n",
    "    anime['Score-'+str(score)] = anime['Score-'+str(score)].astype(float)\n",
    "anime['Ranked'] = anime['Ranked'].astype(float)\n",
    "anime['Episodes'] = anime['Episodes'].astype(float)\n",
    "anime['Score'] = anime['Score'].astype(float)"
   ]
  },
  {
   "cell_type": "code",
   "execution_count": 23,
   "id": "a5ecf74b-63ed-4637-888f-870a3698630e",
   "metadata": {},
   "outputs": [
    {
     "data": {
      "text/html": [
       "<div>\n",
       "<style scoped>\n",
       "    .dataframe tbody tr th:only-of-type {\n",
       "        vertical-align: middle;\n",
       "    }\n",
       "\n",
       "    .dataframe tbody tr th {\n",
       "        vertical-align: top;\n",
       "    }\n",
       "\n",
       "    .dataframe thead th {\n",
       "        text-align: right;\n",
       "    }\n",
       "</style>\n",
       "<table border=\"1\" class=\"dataframe\">\n",
       "  <thead>\n",
       "    <tr style=\"text-align: right;\">\n",
       "      <th></th>\n",
       "      <th>missing_count</th>\n",
       "    </tr>\n",
       "  </thead>\n",
       "  <tbody>\n",
       "    <tr>\n",
       "      <th>Licensors</th>\n",
       "      <td>13616</td>\n",
       "    </tr>\n",
       "    <tr>\n",
       "      <th>Premiered</th>\n",
       "      <td>12817</td>\n",
       "    </tr>\n",
       "    <tr>\n",
       "      <th>English name</th>\n",
       "      <td>10565</td>\n",
       "    </tr>\n",
       "    <tr>\n",
       "      <th>Producers</th>\n",
       "      <td>7794</td>\n",
       "    </tr>\n",
       "    <tr>\n",
       "      <th>Studios</th>\n",
       "      <td>7079</td>\n",
       "    </tr>\n",
       "    <tr>\n",
       "      <th>Score</th>\n",
       "      <td>5141</td>\n",
       "    </tr>\n",
       "    <tr>\n",
       "      <th>Source</th>\n",
       "      <td>3567</td>\n",
       "    </tr>\n",
       "    <tr>\n",
       "      <th>Score-9</th>\n",
       "      <td>3167</td>\n",
       "    </tr>\n",
       "    <tr>\n",
       "      <th>Ranked</th>\n",
       "      <td>1762</td>\n",
       "    </tr>\n",
       "    <tr>\n",
       "      <th>Score-2</th>\n",
       "      <td>1597</td>\n",
       "    </tr>\n",
       "    <tr>\n",
       "      <th>Score-8</th>\n",
       "      <td>1371</td>\n",
       "    </tr>\n",
       "    <tr>\n",
       "      <th>Score-3</th>\n",
       "      <td>1307</td>\n",
       "    </tr>\n",
       "    <tr>\n",
       "      <th>Score-4</th>\n",
       "      <td>977</td>\n",
       "    </tr>\n",
       "    <tr>\n",
       "      <th>Rating</th>\n",
       "      <td>688</td>\n",
       "    </tr>\n",
       "    <tr>\n",
       "      <th>Score-5</th>\n",
       "      <td>584</td>\n",
       "    </tr>\n",
       "    <tr>\n",
       "      <th>Duration</th>\n",
       "      <td>555</td>\n",
       "    </tr>\n",
       "    <tr>\n",
       "      <th>Episodes</th>\n",
       "      <td>516</td>\n",
       "    </tr>\n",
       "    <tr>\n",
       "      <th>Score-6</th>\n",
       "      <td>511</td>\n",
       "    </tr>\n",
       "    <tr>\n",
       "      <th>Score-7</th>\n",
       "      <td>503</td>\n",
       "    </tr>\n",
       "    <tr>\n",
       "      <th>Score-1</th>\n",
       "      <td>459</td>\n",
       "    </tr>\n",
       "    <tr>\n",
       "      <th>Score-10</th>\n",
       "      <td>437</td>\n",
       "    </tr>\n",
       "    <tr>\n",
       "      <th>Aired</th>\n",
       "      <td>309</td>\n",
       "    </tr>\n",
       "    <tr>\n",
       "      <th>Genres</th>\n",
       "      <td>63</td>\n",
       "    </tr>\n",
       "    <tr>\n",
       "      <th>Japanese name</th>\n",
       "      <td>48</td>\n",
       "    </tr>\n",
       "    <tr>\n",
       "      <th>Type</th>\n",
       "      <td>37</td>\n",
       "    </tr>\n",
       "  </tbody>\n",
       "</table>\n",
       "</div>"
      ],
      "text/plain": [
       "               missing_count\n",
       "Licensors              13616\n",
       "Premiered              12817\n",
       "English name           10565\n",
       "Producers               7794\n",
       "Studios                 7079\n",
       "Score                   5141\n",
       "Source                  3567\n",
       "Score-9                 3167\n",
       "Ranked                  1762\n",
       "Score-2                 1597\n",
       "Score-8                 1371\n",
       "Score-3                 1307\n",
       "Score-4                  977\n",
       "Rating                   688\n",
       "Score-5                  584\n",
       "Duration                 555\n",
       "Episodes                 516\n",
       "Score-6                  511\n",
       "Score-7                  503\n",
       "Score-1                  459\n",
       "Score-10                 437\n",
       "Aired                    309\n",
       "Genres                    63\n",
       "Japanese name             48\n",
       "Type                      37"
      ]
     },
     "execution_count": 23,
     "metadata": {},
     "output_type": "execute_result"
    }
   ],
   "source": [
    "temp = pd.DataFrame(anime.isnull().sum().sort_values(ascending=False), columns=['missing_count'])\n",
    "temp[temp['missing_count']>0]"
   ]
  },
  {
   "cell_type": "code",
   "execution_count": 24,
   "id": "05e0db0b-93f0-4093-8fed-bb968efc5fe1",
   "metadata": {},
   "outputs": [],
   "source": [
    "anime.drop(['Licensors', 'Premiered', 'English name', 'Producers', 'Studios', 'Aired', 'Japanese name'], axis=1, inplace=True)"
   ]
  },
  {
   "cell_type": "code",
   "execution_count": 25,
   "id": "8b5762cd-2c9f-4cd9-ba42-81193122eb2a",
   "metadata": {},
   "outputs": [],
   "source": [
    "# anime['Producers'].fillna('Unknown', inplace=True)\n",
    "# anime['Studios'].fillna('Unknown', inplace=True)\n",
    "anime['Source'].fillna('Unknown', inplace=True)\n",
    "anime['Duration'].fillna('Unknown', inplace=True)"
   ]
  },
  {
   "cell_type": "code",
   "execution_count": 26,
   "id": "cbdad3d3-0374-4632-8f0c-a648e6dcfea6",
   "metadata": {},
   "outputs": [],
   "source": [
    "anime['Score'].fillna(anime['Score'].mean(), inplace=True)"
   ]
  },
  {
   "cell_type": "code",
   "execution_count": 27,
   "id": "6400f152-9f9c-46f1-a1e5-4f98f37acac9",
   "metadata": {},
   "outputs": [
    {
     "name": "stdout",
     "output_type": "stream",
     "text": [
      "           Score    Ranked\n",
      "Score   1.000000 -0.591879\n",
      "Ranked -0.591879  1.000000\n",
      "Intercept = 31292.492586404856 , Coefficient = -3576.7445379021674\n"
     ]
    }
   ],
   "source": [
    "temp_df = anime[['Score', 'Ranked']].dropna()\n",
    "corr = temp_df.corr()\n",
    "print(corr)\n",
    "# y = B0 + B1*x\n",
    "fill_miss = LinearRegression()\n",
    "fill_miss.fit(temp_df['Score'].values.reshape(-1, 1), temp_df['Ranked'].values.reshape(-1, 1))\n",
    "B1, B0 = fill_miss.coef_[0][0], fill_miss.intercept_[0]\n",
    "print('Intercept = {} , Coefficient = {}'.format(B0, B1))\n",
    "for i in range(len(anime['Ranked'])):\n",
    "    if pd.isnull(anime.loc[i, 'Ranked']):\n",
    "        anime.loc[i, 'Ranked'] = B0 + (anime.loc[i, 'Score']*B1)"
   ]
  },
  {
   "cell_type": "code",
   "execution_count": 28,
   "id": "d35d3e45-41f2-4b7b-875a-e85f4c414e79",
   "metadata": {},
   "outputs": [],
   "source": [
    "for score in range(1, 11):\n",
    "    anime['Score-'+str(score)].fillna(anime['Score-'+str(score)].mean(), inplace=True)"
   ]
  },
  {
   "cell_type": "code",
   "execution_count": 29,
   "id": "476103e6-a87e-4f6b-9103-e1d6072ae71f",
   "metadata": {},
   "outputs": [],
   "source": [
    "anime = anime[(anime['Genres'].notnull()) & (anime['Type'].notnull())]"
   ]
  },
  {
   "cell_type": "code",
   "execution_count": 30,
   "id": "6cea7a46-19de-49b7-b726-6750d02ea053",
   "metadata": {},
   "outputs": [],
   "source": [
    "anime['Rating'].fillna(anime['Rating'].mode()[0], inplace=True)"
   ]
  },
  {
   "cell_type": "code",
   "execution_count": 31,
   "id": "63793d10-2b5d-4853-af5e-e5487c8eb174",
   "metadata": {},
   "outputs": [],
   "source": [
    "anime.loc[(anime['Genres']=='Hentai') & (anime['Episodes'].isnull()),'Episodes'] = 1\n",
    "anime.loc[(anime['Type']=='OVA') & (anime['Episodes'].isnull()),'Episodes'] = 2\n",
    "\n",
    "anime.loc[(anime['Type'] == 'Movie') & (anime['Episodes'] .isnull())] = 1"
   ]
  },
  {
   "cell_type": "code",
   "execution_count": 32,
   "id": "3ff95580-4d6a-4b69-991f-d1ea57695c4c",
   "metadata": {},
   "outputs": [],
   "source": [
    "known_animes = { 'Detective Conan': 1048,\n",
    "                'One Piece': 1015,\n",
    "                'Boruto: Naruto Next Generations': 247}\n",
    "for k,v in known_animes.items():    \n",
    "    anime.loc[anime['Name']==k,'Episodes'] = v"
   ]
  },
  {
   "cell_type": "code",
   "execution_count": 33,
   "id": "c13fda45-60d4-4bf9-893d-02aa64fada89",
   "metadata": {},
   "outputs": [],
   "source": [
    "anime['Episodes'].fillna(anime['Episodes'].median(),inplace = True)"
   ]
  },
  {
   "cell_type": "code",
   "execution_count": 34,
   "id": "73878bff-1c23-469b-8185-e76dd7ffe500",
   "metadata": {},
   "outputs": [
    {
     "data": {
      "text/plain": [
       "11    24 min.\n",
       "Name: Duration, dtype: object"
      ]
     },
     "execution_count": 34,
     "metadata": {},
     "output_type": "execute_result"
    }
   ],
   "source": [
    "anime[anime['Episodes']==1015]['Duration']"
   ]
  },
  {
   "cell_type": "code",
   "execution_count": 35,
   "id": "bcaa5572-7cd1-491b-9c41-d3bc91d807ef",
   "metadata": {},
   "outputs": [],
   "source": [
    "def full_time(string, ep):\n",
    "    duration = 0\n",
    "    string = str(string)\n",
    "    if string != 'Unknown':\n",
    "        string = string.split(' ')\n",
    "        if 'hr.' in string:\n",
    "            ind = string.index('hr.') -1\n",
    "            duration+=(int(string[ind])*3600)\n",
    "        if 'min.' in string:\n",
    "            ind = string.index('min.') -1\n",
    "            duration+=(int(string[ind])*60)\n",
    "        if 'sec.' in string:\n",
    "            ind = string.index('sec.') -1\n",
    "            duration+=int(string[ind])\n",
    "        if 'per' in string:\n",
    "            return duration*ep\n",
    "        else:\n",
    "            return duration\n",
    "    else:\n",
    "        return np.nan\n",
    "def time_per_ep(string, ep):\n",
    "    duration = 0\n",
    "    string = str(string) \n",
    "    if string != 'Unknown':\n",
    "        string = string.split(' ')\n",
    "        if 'hr.' in string:\n",
    "            ind = string.index('hr.') -1\n",
    "            duration+=(int(string[ind])*3600)\n",
    "        if 'min.' in string:\n",
    "            ind = string.index('min.') -1\n",
    "            duration+=(int(string[ind])*60)\n",
    "        if 'sec.' in string:\n",
    "            ind = string.index('sec.') -1\n",
    "            duration+=int(string[ind])\n",
    "        if 'per' in string:\n",
    "            return duration\n",
    "        else:\n",
    "            return int(duration/ep)\n",
    "    else:\n",
    "        return np.nan"
   ]
  },
  {
   "cell_type": "code",
   "execution_count": 36,
   "id": "d6e8712c-14d5-41e0-b196-306936842d39",
   "metadata": {},
   "outputs": [],
   "source": [
    "anime['Episodes'] = anime['Episodes'].astype(int)\n",
    "anime['FullDuration_in_sec'] = anime.apply(lambda x: full_time(x['Duration'], x['Episodes']), axis=1)\n",
    "anime['DurationPerEp_in_sec'] = anime.apply(lambda x: time_per_ep(x['Duration'], x['Episodes']), axis=1)\n",
    "anime.drop('Duration', axis=1, inplace=True)"
   ]
  },
  {
   "cell_type": "code",
   "execution_count": 37,
   "id": "2dfef79c-0d47-418e-8d3a-30a73158f45b",
   "metadata": {},
   "outputs": [],
   "source": [
    "anime = anime[anime['FullDuration_in_sec']!=0]"
   ]
  },
  {
   "cell_type": "code",
   "execution_count": 38,
   "id": "b815cb53-0e20-4633-9cba-629b23e9e1dc",
   "metadata": {},
   "outputs": [
    {
     "data": {
      "text/html": [
       "<div>\n",
       "<style scoped>\n",
       "    .dataframe tbody tr th:only-of-type {\n",
       "        vertical-align: middle;\n",
       "    }\n",
       "\n",
       "    .dataframe tbody tr th {\n",
       "        vertical-align: top;\n",
       "    }\n",
       "\n",
       "    .dataframe thead th {\n",
       "        text-align: right;\n",
       "    }\n",
       "</style>\n",
       "<table border=\"1\" class=\"dataframe\">\n",
       "  <thead>\n",
       "    <tr style=\"text-align: right;\">\n",
       "      <th></th>\n",
       "      <th>FullDuration_in_sec</th>\n",
       "      <th>DurationPerEp_in_sec</th>\n",
       "    </tr>\n",
       "    <tr>\n",
       "      <th>Type</th>\n",
       "      <th></th>\n",
       "      <th></th>\n",
       "    </tr>\n",
       "  </thead>\n",
       "  <tbody>\n",
       "    <tr>\n",
       "      <th>Movie</th>\n",
       "      <td>3300.0</td>\n",
       "      <td>3240.0</td>\n",
       "    </tr>\n",
       "    <tr>\n",
       "      <th>Music</th>\n",
       "      <td>180.0</td>\n",
       "      <td>180.0</td>\n",
       "    </tr>\n",
       "    <tr>\n",
       "      <th>ONA</th>\n",
       "      <td>720.0</td>\n",
       "      <td>240.0</td>\n",
       "    </tr>\n",
       "    <tr>\n",
       "      <th>OVA</th>\n",
       "      <td>2760.0</td>\n",
       "      <td>1680.0</td>\n",
       "    </tr>\n",
       "    <tr>\n",
       "      <th>Special</th>\n",
       "      <td>1260.0</td>\n",
       "      <td>600.0</td>\n",
       "    </tr>\n",
       "    <tr>\n",
       "      <th>TV</th>\n",
       "      <td>18720.0</td>\n",
       "      <td>1380.0</td>\n",
       "    </tr>\n",
       "  </tbody>\n",
       "</table>\n",
       "</div>"
      ],
      "text/plain": [
       "         FullDuration_in_sec  DurationPerEp_in_sec\n",
       "Type                                              \n",
       "Movie                 3300.0                3240.0\n",
       "Music                  180.0                 180.0\n",
       "ONA                    720.0                 240.0\n",
       "OVA                   2760.0                1680.0\n",
       "Special               1260.0                 600.0\n",
       "TV                   18720.0                1380.0"
      ]
     },
     "execution_count": 38,
     "metadata": {},
     "output_type": "execute_result"
    }
   ],
   "source": [
    "temp = anime[['Type', 'FullDuration_in_sec', 'DurationPerEp_in_sec']].groupby(['Type']).median()\n",
    "temp"
   ]
  },
  {
   "cell_type": "code",
   "execution_count": 39,
   "id": "28875008-6c8a-4f4f-8998-475f763d20ef",
   "metadata": {},
   "outputs": [],
   "source": [
    "for col in ['FullDuration_in_sec', 'DurationPerEp_in_sec']:\n",
    "    for ty in temp.index.to_list():\n",
    "        anime.loc[(anime['Type']==str(ty)) & (anime[col].isnull()), col] = temp[col].loc[ty]"
   ]
  },
  {
   "cell_type": "code",
   "execution_count": 40,
   "id": "e26073e8-013f-4f43-931b-93af34765d86",
   "metadata": {},
   "outputs": [],
   "source": [
    "# anime[anime['Name']=='']"
   ]
  },
  {
   "cell_type": "code",
   "execution_count": 41,
   "id": "bc1d9e61-cbb5-4382-8c71-f5cc7c6a90cf",
   "metadata": {},
   "outputs": [
    {
     "data": {
      "text/plain": [
       "Index(['MAL_ID', 'Name', 'Score', 'Genres', 'Type', 'Episodes', 'Source',\n",
       "       'Rating', 'Ranked', 'Popularity', 'Members', 'Favorites', 'Watching',\n",
       "       'Completed', 'On-Hold', 'Dropped', 'Plan to Watch', 'Score-10',\n",
       "       'Score-9', 'Score-8', 'Score-7', 'Score-6', 'Score-5', 'Score-4',\n",
       "       'Score-3', 'Score-2', 'Score-1', 'FullDuration_in_sec',\n",
       "       'DurationPerEp_in_sec'],\n",
       "      dtype='object')"
      ]
     },
     "execution_count": 41,
     "metadata": {},
     "output_type": "execute_result"
    }
   ],
   "source": [
    "anime.columns"
   ]
  },
  {
   "cell_type": "code",
   "execution_count": 42,
   "id": "819e40f8-8705-4a9f-af65-df0b5e95d0ee",
   "metadata": {},
   "outputs": [],
   "source": [
    "anime.reset_index(drop=True, inplace=True)"
   ]
  },
  {
   "cell_type": "code",
   "execution_count": 43,
   "id": "5f467565-1bb9-4319-9745-0762dc97a4ea",
   "metadata": {},
   "outputs": [
    {
     "data": {
      "text/plain": [
       "(17460, 29)"
      ]
     },
     "execution_count": 43,
     "metadata": {},
     "output_type": "execute_result"
    }
   ],
   "source": [
    "anime.shape"
   ]
  },
  {
   "cell_type": "markdown",
   "id": "d07fd38d-ea9c-4952-9eaa-fe89837dfdfb",
   "metadata": {
    "jp-MarkdownHeadingCollapsed": true,
    "tags": []
   },
   "source": [
    "### Encoding"
   ]
  },
  {
   "cell_type": "code",
   "execution_count": 44,
   "id": "cf64d4a5-5986-4cfb-b51a-564f62d88a1c",
   "metadata": {},
   "outputs": [],
   "source": [
    "object_features = ['Genres', 'Type', 'Source']\n",
    "\n",
    "encoder= ce.OrdinalEncoder(cols=['Rating'],return_df=True,\n",
    "                        mapping=[{'col':'Rating',\n",
    "                                  'mapping':{'R - 17+ (violence & profanity)': 3, 'PG-13 - Teens 13 or older': 2,\n",
    "                                             'PG - Children': 1, 'R+ - Mild Nudity': 4, 'G - All Ages': 0, 'Rx - Hentai': 5}}])\n",
    "anime['Rating'] = encoder.fit_transform(anime['Rating'])"
   ]
  },
  {
   "cell_type": "code",
   "execution_count": 45,
   "id": "12fa9b09-1a8e-491b-9192-3705f7b94270",
   "metadata": {},
   "outputs": [],
   "source": [
    "train = pd.concat([anime[\"Genres\"].str.get_dummies(sep=\",\"), pd.get_dummies(anime[[\"Type\"]]),\n",
    "                   pd.get_dummies(anime[[\"Source\"]]), anime[['Episodes','Rating','Ranked','Popularity',\n",
    "                                                             'Members','Favorites','Watching','Completed','On-Hold',\n",
    "                                                             'Dropped','Plan to Watch','Score-10','Score-9',\n",
    "                                                             'Score-8','Score-7','Score-6','Score-5','Score-4',\n",
    "                                                             'Score-3','Score-2','Score-1','FullDuration_in_sec','DurationPerEp_in_sec']]], axis=1)\n",
    "# 'watching_status', 'watched_episodes', 'rating', 'Score',"
   ]
  },
  {
   "cell_type": "code",
   "execution_count": 46,
   "id": "6d7c459d-50c0-48d2-bf05-97e63f0a6349",
   "metadata": {},
   "outputs": [
    {
     "data": {
      "text/html": [
       "<div>\n",
       "<style scoped>\n",
       "    .dataframe tbody tr th:only-of-type {\n",
       "        vertical-align: middle;\n",
       "    }\n",
       "\n",
       "    .dataframe tbody tr th {\n",
       "        vertical-align: top;\n",
       "    }\n",
       "\n",
       "    .dataframe thead th {\n",
       "        text-align: right;\n",
       "    }\n",
       "</style>\n",
       "<table border=\"1\" class=\"dataframe\">\n",
       "  <thead>\n",
       "    <tr style=\"text-align: right;\">\n",
       "      <th></th>\n",
       "      <th>Adventure</th>\n",
       "      <th>Cars</th>\n",
       "      <th>Comedy</th>\n",
       "      <th>Dementia</th>\n",
       "      <th>Demons</th>\n",
       "      <th>Drama</th>\n",
       "      <th>Ecchi</th>\n",
       "      <th>Fantasy</th>\n",
       "      <th>Game</th>\n",
       "      <th>Harem</th>\n",
       "      <th>...</th>\n",
       "      <th>Score-8</th>\n",
       "      <th>Score-7</th>\n",
       "      <th>Score-6</th>\n",
       "      <th>Score-5</th>\n",
       "      <th>Score-4</th>\n",
       "      <th>Score-3</th>\n",
       "      <th>Score-2</th>\n",
       "      <th>Score-1</th>\n",
       "      <th>FullDuration_in_sec</th>\n",
       "      <th>DurationPerEp_in_sec</th>\n",
       "    </tr>\n",
       "  </thead>\n",
       "  <tbody>\n",
       "    <tr>\n",
       "      <th>0</th>\n",
       "      <td>1</td>\n",
       "      <td>0</td>\n",
       "      <td>1</td>\n",
       "      <td>0</td>\n",
       "      <td>0</td>\n",
       "      <td>1</td>\n",
       "      <td>0</td>\n",
       "      <td>0</td>\n",
       "      <td>0</td>\n",
       "      <td>0</td>\n",
       "      <td>...</td>\n",
       "      <td>131625.0</td>\n",
       "      <td>62330.0</td>\n",
       "      <td>20688.0</td>\n",
       "      <td>8904.0</td>\n",
       "      <td>3184.0</td>\n",
       "      <td>1357.0</td>\n",
       "      <td>741.0</td>\n",
       "      <td>1580.0</td>\n",
       "      <td>37440.0</td>\n",
       "      <td>1440.0</td>\n",
       "    </tr>\n",
       "    <tr>\n",
       "      <th>1</th>\n",
       "      <td>0</td>\n",
       "      <td>0</td>\n",
       "      <td>0</td>\n",
       "      <td>0</td>\n",
       "      <td>0</td>\n",
       "      <td>1</td>\n",
       "      <td>0</td>\n",
       "      <td>0</td>\n",
       "      <td>0</td>\n",
       "      <td>0</td>\n",
       "      <td>...</td>\n",
       "      <td>49505.0</td>\n",
       "      <td>22632.0</td>\n",
       "      <td>5805.0</td>\n",
       "      <td>1877.0</td>\n",
       "      <td>577.0</td>\n",
       "      <td>221.0</td>\n",
       "      <td>109.0</td>\n",
       "      <td>379.0</td>\n",
       "      <td>6900.0</td>\n",
       "      <td>6900.0</td>\n",
       "    </tr>\n",
       "    <tr>\n",
       "      <th>2</th>\n",
       "      <td>1</td>\n",
       "      <td>0</td>\n",
       "      <td>1</td>\n",
       "      <td>0</td>\n",
       "      <td>0</td>\n",
       "      <td>1</td>\n",
       "      <td>0</td>\n",
       "      <td>0</td>\n",
       "      <td>0</td>\n",
       "      <td>0</td>\n",
       "      <td>...</td>\n",
       "      <td>86142.0</td>\n",
       "      <td>49432.0</td>\n",
       "      <td>15376.0</td>\n",
       "      <td>5838.0</td>\n",
       "      <td>1965.0</td>\n",
       "      <td>664.0</td>\n",
       "      <td>316.0</td>\n",
       "      <td>533.0</td>\n",
       "      <td>37440.0</td>\n",
       "      <td>1440.0</td>\n",
       "    </tr>\n",
       "    <tr>\n",
       "      <th>3</th>\n",
       "      <td>0</td>\n",
       "      <td>0</td>\n",
       "      <td>0</td>\n",
       "      <td>0</td>\n",
       "      <td>0</td>\n",
       "      <td>1</td>\n",
       "      <td>0</td>\n",
       "      <td>0</td>\n",
       "      <td>0</td>\n",
       "      <td>0</td>\n",
       "      <td>...</td>\n",
       "      <td>10128.0</td>\n",
       "      <td>11618.0</td>\n",
       "      <td>5709.0</td>\n",
       "      <td>2920.0</td>\n",
       "      <td>1083.0</td>\n",
       "      <td>353.0</td>\n",
       "      <td>164.0</td>\n",
       "      <td>131.0</td>\n",
       "      <td>39000.0</td>\n",
       "      <td>1500.0</td>\n",
       "    </tr>\n",
       "    <tr>\n",
       "      <th>4</th>\n",
       "      <td>0</td>\n",
       "      <td>0</td>\n",
       "      <td>0</td>\n",
       "      <td>0</td>\n",
       "      <td>0</td>\n",
       "      <td>0</td>\n",
       "      <td>0</td>\n",
       "      <td>1</td>\n",
       "      <td>0</td>\n",
       "      <td>0</td>\n",
       "      <td>...</td>\n",
       "      <td>1242.0</td>\n",
       "      <td>1713.0</td>\n",
       "      <td>1068.0</td>\n",
       "      <td>634.0</td>\n",
       "      <td>265.0</td>\n",
       "      <td>83.0</td>\n",
       "      <td>50.0</td>\n",
       "      <td>27.0</td>\n",
       "      <td>71760.0</td>\n",
       "      <td>1380.0</td>\n",
       "    </tr>\n",
       "  </tbody>\n",
       "</table>\n",
       "<p>5 rows × 128 columns</p>\n",
       "</div>"
      ],
      "text/plain": [
       "    Adventure   Cars   Comedy   Dementia   Demons   Drama   Ecchi   Fantasy  \\\n",
       "0           1      0        1          0        0       1       0         0   \n",
       "1           0      0        0          0        0       1       0         0   \n",
       "2           1      0        1          0        0       1       0         0   \n",
       "3           0      0        0          0        0       1       0         0   \n",
       "4           0      0        0          0        0       0       0         1   \n",
       "\n",
       "    Game   Harem  ...   Score-8  Score-7  Score-6  Score-5  Score-4  Score-3  \\\n",
       "0      0       0  ...  131625.0  62330.0  20688.0   8904.0   3184.0   1357.0   \n",
       "1      0       0  ...   49505.0  22632.0   5805.0   1877.0    577.0    221.0   \n",
       "2      0       0  ...   86142.0  49432.0  15376.0   5838.0   1965.0    664.0   \n",
       "3      0       0  ...   10128.0  11618.0   5709.0   2920.0   1083.0    353.0   \n",
       "4      0       0  ...    1242.0   1713.0   1068.0    634.0    265.0     83.0   \n",
       "\n",
       "   Score-2  Score-1  FullDuration_in_sec  DurationPerEp_in_sec  \n",
       "0    741.0   1580.0              37440.0                1440.0  \n",
       "1    109.0    379.0               6900.0                6900.0  \n",
       "2    316.0    533.0              37440.0                1440.0  \n",
       "3    164.0    131.0              39000.0                1500.0  \n",
       "4     50.0     27.0              71760.0                1380.0  \n",
       "\n",
       "[5 rows x 128 columns]"
      ]
     },
     "execution_count": 46,
     "metadata": {},
     "output_type": "execute_result"
    }
   ],
   "source": [
    "train.head()\n",
    "# reset_index(drop=True)"
   ]
  },
  {
   "cell_type": "code",
   "execution_count": 47,
   "id": "7ffb4c08-48dd-41d8-9303-9dbeae6fe577",
   "metadata": {},
   "outputs": [
    {
     "data": {
      "text/plain": [
       "(17460, 128)"
      ]
     },
     "execution_count": 47,
     "metadata": {},
     "output_type": "execute_result"
    }
   ],
   "source": [
    "train.shape"
   ]
  },
  {
   "cell_type": "markdown",
   "id": "fa4f270c-7050-4974-9852-01e0ca52abe5",
   "metadata": {
    "jp-MarkdownHeadingCollapsed": true,
    "tags": []
   },
   "source": [
    "### Scaling"
   ]
  },
  {
   "cell_type": "code",
   "execution_count": 48,
   "id": "316dc956-b046-426c-9f52-4874b9ac6495",
   "metadata": {},
   "outputs": [],
   "source": [
    "scaler = MaxAbsScaler()\n",
    "train = scaler.fit_transform(train)"
   ]
  },
  {
   "cell_type": "code",
   "execution_count": 49,
   "id": "f1ca0c58-4ed5-4361-8537-f392049e3b8d",
   "metadata": {},
   "outputs": [],
   "source": [
    "pca = PCA(n_components=20, random_state=0)\n",
    "train = pca.fit_transform(train)"
   ]
  },
  {
   "cell_type": "markdown",
   "id": "c8fb8422-0b2c-4ffa-b017-6b537d6afd36",
   "metadata": {
    "jp-MarkdownHeadingCollapsed": true,
    "tags": []
   },
   "source": [
    "### Modeling"
   ]
  },
  {
   "cell_type": "code",
   "execution_count": 50,
   "id": "94a35131-01fa-43c5-8459-ce9d84157c37",
   "metadata": {},
   "outputs": [],
   "source": [
    "knn = NearestNeighbors(n_neighbors=6, algorithm='auto').fit(train)\n",
    "distances, indices = knn.kneighbors(train)"
   ]
  },
  {
   "cell_type": "code",
   "execution_count": 51,
   "id": "c8fc149b-3af5-4da9-9c3b-a1bdfdb39737",
   "metadata": {},
   "outputs": [],
   "source": [
    "def get_index_from_name(name):\n",
    "    return {'index': int(anime[anime[\"Name\"]==name].index.tolist()[0]), 'ID':int(anime[anime[\"Name\"]==name]['MAL_ID'].values[0])}\n",
    "\n",
    "def get_NAMEandID_from_index(index):\n",
    "    return {'Name': anime['Name'].iloc[index], 'ID': anime['MAL_ID'].iloc[index]}\n",
    "\n",
    "def get_index_from_ID(id):\n",
    "    return anime[anime['MAL_ID'] == id].index.tolist()[0]\n",
    "def Anime_ID(lst):\n",
    "    IDs = []\n",
    "    for ind in lst:\n",
    "        IDs.append(anime['MAL_ID'].iloc[ind])\n",
    "    return IDs\n",
    "\n",
    "def Result(query=None,ind=None):\n",
    "    lst = Anime_ID(indices[ind][1:])\n",
    "    if ind:\n",
    "        print('The Name of Animes: ')\n",
    "        for ID in lst:\n",
    "            print('\\t', anime[anime['MAL_ID']==ID]['Name'].values[0])\n",
    "        print('=================================')\n",
    "        print('The Indeces of Animes: ')\n",
    "        print(*indices[ind][1:], sep=', ')\n",
    "        print('=================================')\n",
    "        print('The ID of Animes: ')\n",
    "        print(*lst, sep=', ')\n",
    "        print('=================================')\n",
    "        print('The Distances of the Anime:')\n",
    "        print(*distances[ind][1:], sep=', ')\n",
    "        print('=================================')\n",
    "        print('The AVG of distances = {}'.format(sum(distances[ind][1:])/len(distances[ind][1:])))\n",
    "    if query:\n",
    "        ind = get_index_from_name(query)\n",
    "        lst = Anime_ID(indices[ind['index']][1:])\n",
    "        print('The Name of Animes: ')\n",
    "        for ID in lst:\n",
    "            print('\\t', anime[anime['MAL_ID']==ID]['Name'].values[0])\n",
    "        print('=================================')\n",
    "        print('The Indeces of Animes: ')\n",
    "        print(*indices[ind['index']][1:], sep=', ')\n",
    "        print('=================================')\n",
    "        print('The ID of Animes: ')\n",
    "        print(*lst, sep=', ')\n",
    "        print('=================================')\n",
    "        print('The Distances of the Anime:')\n",
    "        print(*distances[ind['index']][1:], sep=', ')\n",
    "        print('=================================')\n",
    "        print('The AVG of distances = {}'.format(sum(distances[ind['index']][1:])/len(distances[ind['index']][1:])))"
   ]
  },
  {
   "cell_type": "markdown",
   "id": "6709006a-f84b-457f-babb-82ea80385cc8",
   "metadata": {
    "jp-MarkdownHeadingCollapsed": true,
    "tags": []
   },
   "source": [
    "### Best Anime"
   ]
  },
  {
   "cell_type": "code",
   "execution_count": 52,
   "id": "f754f850-0bd3-43d5-833e-bf3fd209f562",
   "metadata": {},
   "outputs": [
    {
     "name": "stdout",
     "output_type": "stream",
     "text": [
      "Train DF Data: \n"
     ]
    },
    {
     "data": {
      "text/html": [
       "<div>\n",
       "<style scoped>\n",
       "    .dataframe tbody tr th:only-of-type {\n",
       "        vertical-align: middle;\n",
       "    }\n",
       "\n",
       "    .dataframe tbody tr th {\n",
       "        vertical-align: top;\n",
       "    }\n",
       "\n",
       "    .dataframe thead th {\n",
       "        text-align: right;\n",
       "    }\n",
       "</style>\n",
       "<table border=\"1\" class=\"dataframe\">\n",
       "  <thead>\n",
       "    <tr style=\"text-align: right;\">\n",
       "      <th></th>\n",
       "      <th>Unnamed: 0</th>\n",
       "      <th>user_id</th>\n",
       "      <th>MAL_ID</th>\n",
       "      <th>rating</th>\n",
       "      <th>watching_status</th>\n",
       "      <th>watched_episodes</th>\n",
       "    </tr>\n",
       "  </thead>\n",
       "  <tbody>\n",
       "    <tr>\n",
       "      <th>0</th>\n",
       "      <td>0</td>\n",
       "      <td>20807</td>\n",
       "      <td>4282</td>\n",
       "      <td>10</td>\n",
       "      <td>2</td>\n",
       "      <td>1</td>\n",
       "    </tr>\n",
       "    <tr>\n",
       "      <th>1</th>\n",
       "      <td>1</td>\n",
       "      <td>20807</td>\n",
       "      <td>5665</td>\n",
       "      <td>0</td>\n",
       "      <td>6</td>\n",
       "      <td>0</td>\n",
       "    </tr>\n",
       "    <tr>\n",
       "      <th>2</th>\n",
       "      <td>2</td>\n",
       "      <td>20807</td>\n",
       "      <td>36127</td>\n",
       "      <td>0</td>\n",
       "      <td>6</td>\n",
       "      <td>0</td>\n",
       "    </tr>\n",
       "    <tr>\n",
       "      <th>3</th>\n",
       "      <td>3</td>\n",
       "      <td>20807</td>\n",
       "      <td>38163</td>\n",
       "      <td>0</td>\n",
       "      <td>6</td>\n",
       "      <td>0</td>\n",
       "    </tr>\n",
       "    <tr>\n",
       "      <th>4</th>\n",
       "      <td>4</td>\n",
       "      <td>20807</td>\n",
       "      <td>1284</td>\n",
       "      <td>0</td>\n",
       "      <td>6</td>\n",
       "      <td>0</td>\n",
       "    </tr>\n",
       "  </tbody>\n",
       "</table>\n",
       "</div>"
      ],
      "text/plain": [
       "   Unnamed: 0  user_id  MAL_ID  rating  watching_status  watched_episodes\n",
       "0           0    20807    4282      10                2                 1\n",
       "1           1    20807    5665       0                6                 0\n",
       "2           2    20807   36127       0                6                 0\n",
       "3           3    20807   38163       0                6                 0\n",
       "4           4    20807    1284       0                6                 0"
      ]
     },
     "metadata": {},
     "output_type": "display_data"
    }
   ],
   "source": [
    "print('Train DF Data: ')\n",
    "display(train_df.head())"
   ]
  },
  {
   "cell_type": "code",
   "execution_count": 53,
   "id": "ef5097d8-096d-4120-bb9f-0941360855f6",
   "metadata": {},
   "outputs": [
    {
     "name": "stdout",
     "output_type": "stream",
     "text": [
      "88\n"
     ]
    }
   ],
   "source": [
    "set1 = set(train_df['MAL_ID'].unique().tolist())\n",
    "set2 = set(anime['MAL_ID'].unique().tolist())\n",
    "trash = set1-set2\n",
    "print(len(trash))"
   ]
  },
  {
   "cell_type": "code",
   "execution_count": 54,
   "id": "13ae973b-f209-4263-a998-ed33009c854c",
   "metadata": {},
   "outputs": [
    {
     "data": {
      "text/plain": [
       "(1513363, 6)"
      ]
     },
     "execution_count": 54,
     "metadata": {},
     "output_type": "execute_result"
    }
   ],
   "source": [
    "for i in trash:\n",
    "    temp = train_df[train_df['MAL_ID'] == i].index.tolist()\n",
    "    train_df.drop(temp, axis=0, inplace=True)\n",
    "train_df.shape"
   ]
  },
  {
   "cell_type": "code",
   "execution_count": 55,
   "id": "ced0f1b6-fe76-499d-b5d2-758b10bacbce",
   "metadata": {},
   "outputs": [
    {
     "data": {
      "text/plain": [
       "Unnamed: 0          0\n",
       "user_id             0\n",
       "MAL_ID              0\n",
       "rating              0\n",
       "watching_status     0\n",
       "watched_episodes    0\n",
       "dtype: int64"
      ]
     },
     "execution_count": 55,
     "metadata": {},
     "output_type": "execute_result"
    }
   ],
   "source": [
    "train_df.isnull().sum()"
   ]
  },
  {
   "cell_type": "code",
   "execution_count": 57,
   "id": "985ab02f-3d12-4856-a2f4-c5503652168c",
   "metadata": {},
   "outputs": [
    {
     "name": "stdout",
     "output_type": "stream",
     "text": [
      "Done.. :-\\)\n",
      "(1513363, 5)\n"
     ]
    }
   ],
   "source": [
    "rec_anime = {'ID1':[], 'ID2':[], 'ID3':[], 'ID4':[], 'ID5':[]}\n",
    "problem = set()\n",
    "def Recommend_Animes(mal_id):\n",
    "    for ID in mal_id:\n",
    "        try:\n",
    "            anime_ind = get_index_from_ID(ID)\n",
    "            ind_lst = indices[anime_ind][1:]\n",
    "            ID_lst = Anime_ID(ind_lst)\n",
    "            rec_anime['ID1'].append(ID_lst[0])\n",
    "            rec_anime['ID2'].append(ID_lst[1])\n",
    "            rec_anime['ID3'].append(ID_lst[2])\n",
    "            rec_anime['ID4'].append(ID_lst[3])\n",
    "            rec_anime['ID5'].append(ID_lst[4])\n",
    "        except Exception:\n",
    "            problem.add(ID)\n",
    "lst = train_df['MAL_ID'].values.tolist()\n",
    "Recommend_Animes(lst)\n",
    "if len(problem) == 0:\n",
    "    print('Done.. :-\\)')\n",
    "    temp = pd.DataFrame(rec_anime, columns=['ID1', 'ID2', 'ID3', 'ID4', 'ID5'])\n",
    "else:\n",
    "    print(problem)\n",
    "print(temp.shape)"
   ]
  },
  {
   "cell_type": "code",
   "execution_count": 58,
   "id": "56962efd-1e34-436d-a7db-19ac9758cf97",
   "metadata": {},
   "outputs": [
    {
     "data": {
      "text/html": [
       "<div>\n",
       "<style scoped>\n",
       "    .dataframe tbody tr th:only-of-type {\n",
       "        vertical-align: middle;\n",
       "    }\n",
       "\n",
       "    .dataframe tbody tr th {\n",
       "        vertical-align: top;\n",
       "    }\n",
       "\n",
       "    .dataframe thead th {\n",
       "        text-align: right;\n",
       "    }\n",
       "</style>\n",
       "<table border=\"1\" class=\"dataframe\">\n",
       "  <thead>\n",
       "    <tr style=\"text-align: right;\">\n",
       "      <th></th>\n",
       "      <th>Unnamed: 0</th>\n",
       "      <th>user_id</th>\n",
       "      <th>MAL_ID</th>\n",
       "      <th>rating</th>\n",
       "      <th>watching_status</th>\n",
       "      <th>watched_episodes</th>\n",
       "      <th>ID1</th>\n",
       "      <th>ID2</th>\n",
       "      <th>ID3</th>\n",
       "      <th>ID4</th>\n",
       "      <th>ID5</th>\n",
       "    </tr>\n",
       "  </thead>\n",
       "  <tbody>\n",
       "    <tr>\n",
       "      <th>0</th>\n",
       "      <td>0</td>\n",
       "      <td>20807</td>\n",
       "      <td>4282</td>\n",
       "      <td>10</td>\n",
       "      <td>2</td>\n",
       "      <td>1</td>\n",
       "      <td>3783</td>\n",
       "      <td>5205</td>\n",
       "      <td>3782</td>\n",
       "      <td>13335</td>\n",
       "      <td>5204</td>\n",
       "    </tr>\n",
       "    <tr>\n",
       "      <th>1</th>\n",
       "      <td>1</td>\n",
       "      <td>20807</td>\n",
       "      <td>5665</td>\n",
       "      <td>0</td>\n",
       "      <td>6</td>\n",
       "      <td>0</td>\n",
       "      <td>5612</td>\n",
       "      <td>4825</td>\n",
       "      <td>5614</td>\n",
       "      <td>5572</td>\n",
       "      <td>5190</td>\n",
       "    </tr>\n",
       "    <tr>\n",
       "      <th>2</th>\n",
       "      <td>2</td>\n",
       "      <td>20807</td>\n",
       "      <td>36127</td>\n",
       "      <td>0</td>\n",
       "      <td>6</td>\n",
       "      <td>0</td>\n",
       "      <td>36139</td>\n",
       "      <td>19971</td>\n",
       "      <td>8554</td>\n",
       "      <td>25075</td>\n",
       "      <td>35494</td>\n",
       "    </tr>\n",
       "    <tr>\n",
       "      <th>3</th>\n",
       "      <td>3</td>\n",
       "      <td>20807</td>\n",
       "      <td>38163</td>\n",
       "      <td>0</td>\n",
       "      <td>6</td>\n",
       "      <td>0</td>\n",
       "      <td>37021</td>\n",
       "      <td>40488</td>\n",
       "      <td>36308</td>\n",
       "      <td>39421</td>\n",
       "      <td>40989</td>\n",
       "    </tr>\n",
       "    <tr>\n",
       "      <th>4</th>\n",
       "      <td>4</td>\n",
       "      <td>20807</td>\n",
       "      <td>1284</td>\n",
       "      <td>0</td>\n",
       "      <td>6</td>\n",
       "      <td>0</td>\n",
       "      <td>1902</td>\n",
       "      <td>36777</td>\n",
       "      <td>16928</td>\n",
       "      <td>17989</td>\n",
       "      <td>9924</td>\n",
       "    </tr>\n",
       "  </tbody>\n",
       "</table>\n",
       "</div>"
      ],
      "text/plain": [
       "   Unnamed: 0  user_id  MAL_ID  rating  watching_status  watched_episodes  \\\n",
       "0           0    20807    4282      10                2                 1   \n",
       "1           1    20807    5665       0                6                 0   \n",
       "2           2    20807   36127       0                6                 0   \n",
       "3           3    20807   38163       0                6                 0   \n",
       "4           4    20807    1284       0                6                 0   \n",
       "\n",
       "     ID1    ID2    ID3    ID4    ID5  \n",
       "0   3783   5205   3782  13335   5204  \n",
       "1   5612   4825   5614   5572   5190  \n",
       "2  36139  19971   8554  25075  35494  \n",
       "3  37021  40488  36308  39421  40989  \n",
       "4   1902  36777  16928  17989   9924  "
      ]
     },
     "execution_count": 58,
     "metadata": {},
     "output_type": "execute_result"
    }
   ],
   "source": [
    "df = pd.concat([train_df.reset_index(drop=True), temp.reset_index(drop=True)], axis=1)\n",
    "df.head()"
   ]
  },
  {
   "cell_type": "code",
   "execution_count": 59,
   "id": "233cc143-862b-482f-b992-3f989b9203c3",
   "metadata": {},
   "outputs": [
    {
     "data": {
      "text/plain": [
       "0"
      ]
     },
     "execution_count": 59,
     "metadata": {},
     "output_type": "execute_result"
    }
   ],
   "source": [
    "sum(df.isnull().sum())"
   ]
  },
  {
   "cell_type": "code",
   "execution_count": 60,
   "id": "9c4a79af-1e2e-4465-8fe6-947f55db2e93",
   "metadata": {},
   "outputs": [
    {
     "data": {
      "text/plain": [
       "15153"
      ]
     },
     "execution_count": 60,
     "metadata": {},
     "output_type": "execute_result"
    }
   ],
   "source": [
    "df['user_id'].nunique()"
   ]
  },
  {
   "cell_type": "code",
   "execution_count": 61,
   "id": "60ac2372-2313-4ac8-a8ef-df49e9cdb9da",
   "metadata": {},
   "outputs": [],
   "source": [
    "# 1 Currently Watching\n",
    "# 2 Completed\n",
    "# 3 On Hold\n",
    "# 4 Dropped\n",
    "# 6 Plan to Watch"
   ]
  },
  {
   "cell_type": "code",
   "execution_count": 62,
   "id": "46a6f042-893d-42cf-bf1b-5837b15ae704",
   "metadata": {},
   "outputs": [
    {
     "data": {
      "text/plain": [
       "[607, 115, 872, 352, 2084]"
      ]
     },
     "execution_count": 62,
     "metadata": {},
     "output_type": "execute_result"
    }
   ],
   "source": [
    "tep = df[(df['user_id']==312302)].sort_values(['rating', 'watched_episodes', 'watching_status'], ascending=False).iloc[0,6:].values.tolist()\n",
    "# for i in ['ID1', 'ID2', 'ID3', 'ID4', 'ID5']:\n",
    "#     print(i, ': ')\n",
    "#     print(tep[i].value_counts().sort_values(ascending=False))\n",
    "tep"
   ]
  },
  {
   "cell_type": "code",
   "execution_count": 63,
   "id": "0b9dbf1b-d8bf-4489-b3ca-af20309381d5",
   "metadata": {},
   "outputs": [
    {
     "data": {
      "text/plain": [
       "'607 115 872 352 2084'"
      ]
     },
     "execution_count": 63,
     "metadata": {},
     "output_type": "execute_result"
    }
   ],
   "source": [
    "' '.join(str(x) for x in [607, 115, 872, 352, 2084])\n",
    "# 115 872 352 2084')"
   ]
  },
  {
   "cell_type": "code",
   "execution_count": 64,
   "id": "92ecc780-c26a-45d2-afbb-bb8e70dcf52c",
   "metadata": {},
   "outputs": [
    {
     "data": {
      "text/plain": [
       "{'index': 3578, 'ID': 4282}"
      ]
     },
     "execution_count": 64,
     "metadata": {},
     "output_type": "execute_result"
    }
   ],
   "source": [
    "get_index_from_name('Kara no Kyoukai 5: Mujun Rasen')"
   ]
  },
  {
   "cell_type": "code",
   "execution_count": 65,
   "id": "25697732-ff0a-4808-aaa0-0e3f3bd2c30f",
   "metadata": {},
   "outputs": [
    {
     "data": {
      "text/plain": [
       "{'Name': 'Kara no Kyoukai 5: Mujun Rasen', 'ID': 4282}"
      ]
     },
     "execution_count": 65,
     "metadata": {},
     "output_type": "execute_result"
    }
   ],
   "source": [
    "get_NAMEandID_from_index(3578)"
   ]
  },
  {
   "cell_type": "code",
   "execution_count": 66,
   "id": "00669231-7a6d-4a3d-8be7-2dac18d5ae94",
   "metadata": {},
   "outputs": [
    {
     "data": {
      "text/plain": [
       "3578"
      ]
     },
     "execution_count": 66,
     "metadata": {},
     "output_type": "execute_result"
    }
   ],
   "source": [
    "get_index_from_ID(4282)"
   ]
  },
  {
   "cell_type": "code",
   "execution_count": 67,
   "id": "815f2e06-a101-46e8-a967-883f042be027",
   "metadata": {},
   "outputs": [
    {
     "name": "stdout",
     "output_type": "stream",
     "text": [
      "The Name of Animes: \n",
      "\t Kara no Kyoukai 3: Tsuukaku Zanryuu\n",
      "\t Kara no Kyoukai 7: Satsujin Kousatsu (Go)\n",
      "\t Kara no Kyoukai 2: Satsujin Kousatsu (Zen)\n",
      "\t Fuse: Teppou Musume no Torimonochou\n",
      "\t Kara no Kyoukai 6: Boukyaku Rokuon\n",
      "=================================\n",
      "The Indeces of Animes: \n",
      "3277, 4018, 3276, 6954, 4017\n",
      "=================================\n",
      "The ID of Animes: \n",
      "3783, 5205, 3782, 13335, 5204\n",
      "=================================\n",
      "The Distances of the Anime:\n",
      "0.9208140996720292, 0.9430514917773771, 0.9683079617608106, 1.0488997614567888, 1.0645629752192833\n",
      "=================================\n",
      "The AVG of distances = 0.9891272579772579\n"
     ]
    }
   ],
   "source": [
    "Result('Kara no Kyoukai 5: Mujun Rasen')"
   ]
  },
  {
   "cell_type": "markdown",
   "id": "00a35487-4040-46c7-adef-0c920bf125bc",
   "metadata": {
    "jp-MarkdownHeadingCollapsed": true,
    "tags": []
   },
   "source": [
    "### CSV SUB"
   ]
  },
  {
   "cell_type": "code",
   "execution_count": 68,
   "id": "d88850a6-2a5c-4277-85f9-10f953a3e17f",
   "metadata": {},
   "outputs": [
    {
     "data": {
      "text/plain": [
       "(15153, 2)"
      ]
     },
     "execution_count": 68,
     "metadata": {},
     "output_type": "execute_result"
    }
   ],
   "source": [
    "sub.shape"
   ]
  },
  {
   "cell_type": "code",
   "execution_count": 69,
   "id": "66707337-2b89-4a06-b5fb-13b743bbe0be",
   "metadata": {},
   "outputs": [
    {
     "data": {
      "text/html": [
       "<div>\n",
       "<style scoped>\n",
       "    .dataframe tbody tr th:only-of-type {\n",
       "        vertical-align: middle;\n",
       "    }\n",
       "\n",
       "    .dataframe tbody tr th {\n",
       "        vertical-align: top;\n",
       "    }\n",
       "\n",
       "    .dataframe thead th {\n",
       "        text-align: right;\n",
       "    }\n",
       "</style>\n",
       "<table border=\"1\" class=\"dataframe\">\n",
       "  <thead>\n",
       "    <tr style=\"text-align: right;\">\n",
       "      <th></th>\n",
       "      <th>user_id</th>\n",
       "      <th>anime_ids</th>\n",
       "    </tr>\n",
       "  </thead>\n",
       "  <tbody>\n",
       "    <tr>\n",
       "      <th>0</th>\n",
       "      <td>20807</td>\n",
       "      <td>1691 1691 1691 1691 1691</td>\n",
       "    </tr>\n",
       "    <tr>\n",
       "      <th>1</th>\n",
       "      <td>131988</td>\n",
       "      <td>1691 1691 1691 1691 1691</td>\n",
       "    </tr>\n",
       "    <tr>\n",
       "      <th>2</th>\n",
       "      <td>312302</td>\n",
       "      <td>1691 1691 1691 1691 1691</td>\n",
       "    </tr>\n",
       "    <tr>\n",
       "      <th>3</th>\n",
       "      <td>283786</td>\n",
       "      <td>1691 1691 1691 1691 1691</td>\n",
       "    </tr>\n",
       "    <tr>\n",
       "      <th>4</th>\n",
       "      <td>297931</td>\n",
       "      <td>1691 1691 1691 1691 1691</td>\n",
       "    </tr>\n",
       "  </tbody>\n",
       "</table>\n",
       "</div>"
      ],
      "text/plain": [
       "   user_id                 anime_ids\n",
       "0    20807  1691 1691 1691 1691 1691\n",
       "1   131988  1691 1691 1691 1691 1691\n",
       "2   312302  1691 1691 1691 1691 1691\n",
       "3   283786  1691 1691 1691 1691 1691\n",
       "4   297931  1691 1691 1691 1691 1691"
      ]
     },
     "execution_count": 69,
     "metadata": {},
     "output_type": "execute_result"
    }
   ],
   "source": [
    "sub.head()"
   ]
  },
  {
   "cell_type": "code",
   "execution_count": 72,
   "id": "c91e8ca2-15c7-480e-b0b5-dd14a31c5af2",
   "metadata": {},
   "outputs": [],
   "source": [
    "my_sub = {'user_id':[], 'anime_ids':[]}\n",
    "for user in sub['user_id'].values.tolist():\n",
    "    s = ''\n",
    "    tep = df[(df['user_id']==user)].sort_values(['rating', 'watched_episodes', 'watching_status'], ascending=False).iloc[0,6:].values.tolist()\n",
    "    s = ' '.join(str(x) for x in tep)\n",
    "    my_sub['user_id'].append(user)\n",
    "    my_sub['anime_ids'].append(s)\n"
   ]
  },
  {
   "cell_type": "code",
   "execution_count": 79,
   "id": "5c9d0dfc-f082-45f3-8351-a17635b3303d",
   "metadata": {},
   "outputs": [],
   "source": [
    "my_sub = pd.DataFrame(my_sub, columns=['user_id', 'anime_ids'])\n",
    "my_sub.to_csv('sub.csv', index=False)"
   ]
  },
  {
   "cell_type": "code",
   "execution_count": null,
   "id": "a80a10cb-5f46-4de1-83fe-4134d29deff5",
   "metadata": {},
   "outputs": [],
   "source": []
  }
 ],
 "metadata": {
  "kernelspec": {
   "display_name": "Python 3",
   "language": "python",
   "name": "python3"
  },
  "language_info": {
   "codemirror_mode": {
    "name": "ipython",
    "version": 3
   },
   "file_extension": ".py",
   "mimetype": "text/x-python",
   "name": "python",
   "nbconvert_exporter": "python",
   "pygments_lexer": "ipython3",
   "version": "3.9.7"
  }
 },
 "nbformat": 4,
 "nbformat_minor": 5
}
